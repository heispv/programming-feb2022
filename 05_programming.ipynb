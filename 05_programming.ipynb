{
  "nbformat": 4,
  "nbformat_minor": 0,
  "metadata": {
    "colab": {
      "provenance": [],
      "authorship_tag": "ABX9TyOP6FNF5CSrxGHUnxamIRfZ"
    },
    "kernelspec": {
      "name": "python3",
      "display_name": "Python 3"
    },
    "language_info": {
      "name": "python"
    }
  },
  "cells": [
    {
      "cell_type": "markdown",
      "source": [
        "# Tuple\n",
        "\n",
        "tuple dar asl hamoon list hayian ke gheire ghabele taghir hastan."
      ],
      "metadata": {
        "id": "APj4TP_VI05q"
      }
    },
    {
      "cell_type": "code",
      "source": [
        "my_tuple = (1, 2, 3, 4, 5)\n",
        "my_tuple"
      ],
      "metadata": {
        "colab": {
          "base_uri": "https://localhost:8080/"
        },
        "id": "PWwLBBLTJHpx",
        "outputId": "a38f71d5-66bc-4f65-8de3-a441e7e898e8"
      },
      "execution_count": null,
      "outputs": [
        {
          "output_type": "execute_result",
          "data": {
            "text/plain": [
              "(1, 2, 3, 4, 5)"
            ]
          },
          "metadata": {},
          "execution_count": 4
        }
      ]
    },
    {
      "cell_type": "code",
      "source": [
        "3 in my_tuple"
      ],
      "metadata": {
        "colab": {
          "base_uri": "https://localhost:8080/"
        },
        "id": "Ic4CNm0wRhBZ",
        "outputId": "980a8c06-a4be-4687-ea30-f0626c6b06b6"
      },
      "execution_count": null,
      "outputs": [
        {
          "output_type": "execute_result",
          "data": {
            "text/plain": [
              "True"
            ]
          },
          "metadata": {},
          "execution_count": 54
        }
      ]
    },
    {
      "cell_type": "code",
      "source": [
        "type(my_tuple)"
      ],
      "metadata": {
        "colab": {
          "base_uri": "https://localhost:8080/"
        },
        "id": "H6k59kZDJ1rX",
        "outputId": "9f585158-9af7-4f6d-e31d-fd6dca68f177"
      },
      "execution_count": null,
      "outputs": [
        {
          "output_type": "execute_result",
          "data": {
            "text/plain": [
              "tuple"
            ]
          },
          "metadata": {},
          "execution_count": 5
        }
      ]
    },
    {
      "cell_type": "code",
      "source": [
        "len(my_tuple)"
      ],
      "metadata": {
        "colab": {
          "base_uri": "https://localhost:8080/"
        },
        "id": "OUk3nbdKJ53B",
        "outputId": "d6ff4101-1953-43ed-8f9f-966a1d61813e"
      },
      "execution_count": null,
      "outputs": [
        {
          "output_type": "execute_result",
          "data": {
            "text/plain": [
              "5"
            ]
          },
          "metadata": {},
          "execution_count": 6
        }
      ]
    },
    {
      "cell_type": "code",
      "source": [
        "# I wanna change my_tuple\n",
        "my_tuple[3] = 'hello'"
      ],
      "metadata": {
        "colab": {
          "base_uri": "https://localhost:8080/",
          "height": 183
        },
        "id": "faIWkYttJ9xe",
        "outputId": "9fca27fb-6a92-4715-9ee4-099e9757369a"
      },
      "execution_count": null,
      "outputs": [
        {
          "output_type": "error",
          "ename": "TypeError",
          "evalue": "ignored",
          "traceback": [
            "\u001b[0;31m---------------------------------------------------------------------------\u001b[0m",
            "\u001b[0;31mTypeError\u001b[0m                                 Traceback (most recent call last)",
            "\u001b[0;32m<ipython-input-8-b505b1dad0a8>\u001b[0m in \u001b[0;36m<module>\u001b[0;34m\u001b[0m\n\u001b[1;32m      1\u001b[0m \u001b[0;31m# I wanna change my_tuple\u001b[0m\u001b[0;34m\u001b[0m\u001b[0;34m\u001b[0m\u001b[0;34m\u001b[0m\u001b[0m\n\u001b[0;32m----> 2\u001b[0;31m \u001b[0mmy_tuple\u001b[0m\u001b[0;34m[\u001b[0m\u001b[0;36m3\u001b[0m\u001b[0;34m]\u001b[0m \u001b[0;34m=\u001b[0m \u001b[0;34m'hello'\u001b[0m\u001b[0;34m\u001b[0m\u001b[0;34m\u001b[0m\u001b[0m\n\u001b[0m",
            "\u001b[0;31mTypeError\u001b[0m: 'tuple' object does not support item assignment"
          ]
        }
      ]
    },
    {
      "cell_type": "markdown",
      "source": [
        "## .count()"
      ],
      "metadata": {
        "id": "ybMTuRr3LI1m"
      }
    },
    {
      "cell_type": "code",
      "source": [
        "username = ('Sam', 'Pendar', 'Peyman','Pendar','Sam', 'Pendar')\n",
        "username.count('Sam')"
      ],
      "metadata": {
        "colab": {
          "base_uri": "https://localhost:8080/"
        },
        "id": "jq-dazTVKWqR",
        "outputId": "66b4546b-f137-4cd1-bce4-e57d33b66ccb"
      },
      "execution_count": null,
      "outputs": [
        {
          "output_type": "execute_result",
          "data": {
            "text/plain": [
              "2"
            ]
          },
          "metadata": {},
          "execution_count": 11
        }
      ]
    },
    {
      "cell_type": "markdown",
      "source": [
        "## .index()"
      ],
      "metadata": {
        "id": "UDL7N2YoLAIM"
      }
    },
    {
      "cell_type": "code",
      "source": [
        "username.index('Pendar')"
      ],
      "metadata": {
        "colab": {
          "base_uri": "https://localhost:8080/"
        },
        "id": "QqB2bc5qLNAs",
        "outputId": "cd978b80-591b-4ead-bdc9-7c765fa04302"
      },
      "execution_count": null,
      "outputs": [
        {
          "output_type": "execute_result",
          "data": {
            "text/plain": [
              "1"
            ]
          },
          "metadata": {},
          "execution_count": 13
        }
      ]
    },
    {
      "cell_type": "markdown",
      "source": [
        "# dictionary\n",
        "\n",
        "dictionary as pair haye key va value sakhte shode, va be komake key ha shoma mitoonin be value oon key dastresi dashte bashin."
      ],
      "metadata": {
        "id": "4kFxEv15LX--"
      }
    },
    {
      "cell_type": "markdown",
      "source": [
        "> bayad be in mozoo deghat bokonim ke key haye yek `dictionary` bayad data type i bashe ke immutable bashe, va data type hayi mesle `list` ha ro nemitoonim be onvane yek key baraye dict e khodemoon moshakhas konim."
      ],
      "metadata": {
        "id": "b9osglL_NT78"
      }
    },
    {
      "cell_type": "code",
      "source": [
        "user_information = {\n",
        "    1: 'Ali',\n",
        "    'family': 'Mohamadi',\n",
        "    (1, 2): 23,\n",
        "    'gender': 'male',\n",
        "    'city': 'gorgan',\n",
        "    'height': 180,\n",
        "    'weight': 80,\n",
        "}"
      ],
      "metadata": {
        "id": "iiD0YbhWLvv3"
      },
      "execution_count": null,
      "outputs": []
    },
    {
      "cell_type": "code",
      "source": [
        "user_information"
      ],
      "metadata": {
        "colab": {
          "base_uri": "https://localhost:8080/"
        },
        "id": "OKfGTww5MQTO",
        "outputId": "f63f3459-57a6-4d78-b2d1-f174a6015bde"
      },
      "execution_count": null,
      "outputs": [
        {
          "output_type": "execute_result",
          "data": {
            "text/plain": [
              "{1: 'Ali',\n",
              " 'family': 'Mohamadi',\n",
              " (1, 2): 23,\n",
              " 'gender': 'male',\n",
              " 'city': 'gorgan',\n",
              " 'height': 180,\n",
              " 'weight': 80}"
            ]
          },
          "metadata": {},
          "execution_count": 27
        }
      ]
    },
    {
      "cell_type": "code",
      "source": [
        "# mikhaim be yek value dasresi dashte bashim\n",
        "user_information['family']"
      ],
      "metadata": {
        "colab": {
          "base_uri": "https://localhost:8080/",
          "height": 35
        },
        "id": "fSIfACU-MRxt",
        "outputId": "39ab77a4-ed38-4871-aa8d-5b7956e81221"
      },
      "execution_count": null,
      "outputs": [
        {
          "output_type": "execute_result",
          "data": {
            "text/plain": [
              "'Mohamadi'"
            ],
            "application/vnd.google.colaboratory.intrinsic+json": {
              "type": "string"
            }
          },
          "metadata": {},
          "execution_count": 33
        }
      ]
    },
    {
      "cell_type": "code",
      "source": [
        "user_information[(1, 2)]"
      ],
      "metadata": {
        "colab": {
          "base_uri": "https://localhost:8080/"
        },
        "id": "BIdusRnNM6F7",
        "outputId": "ffdac550-e859-466a-d381-58b5590b5f3e"
      },
      "execution_count": null,
      "outputs": [
        {
          "output_type": "execute_result",
          "data": {
            "text/plain": [
              "23"
            ]
          },
          "metadata": {},
          "execution_count": 34
        }
      ]
    },
    {
      "cell_type": "code",
      "source": [
        "type(user_information)"
      ],
      "metadata": {
        "colab": {
          "base_uri": "https://localhost:8080/"
        },
        "id": "H2p--_NkN3Vn",
        "outputId": "01ac682c-5c94-4cf0-b685-b00d175b402f"
      },
      "execution_count": null,
      "outputs": [
        {
          "output_type": "execute_result",
          "data": {
            "text/plain": [
              "dict"
            ]
          },
          "metadata": {},
          "execution_count": 35
        }
      ]
    },
    {
      "cell_type": "code",
      "source": [
        "len(user_information)"
      ],
      "metadata": {
        "colab": {
          "base_uri": "https://localhost:8080/"
        },
        "id": "ZUAdD2WrOA_o",
        "outputId": "078a87fa-4bbf-4779-f6e8-e1d2bc33d4b4"
      },
      "execution_count": null,
      "outputs": [
        {
          "output_type": "execute_result",
          "data": {
            "text/plain": [
              "7"
            ]
          },
          "metadata": {},
          "execution_count": 36
        }
      ]
    },
    {
      "cell_type": "code",
      "source": [
        "character_info = {\n",
        "    'name': 'anti mage',\n",
        "    'type': 'strength',\n",
        "    'hobbies': ['game', 'cinema', 'code']\n",
        "}"
      ],
      "metadata": {
        "id": "yTog0SRlOEHJ"
      },
      "execution_count": null,
      "outputs": []
    },
    {
      "cell_type": "code",
      "source": [
        "character_info['hobbies'][1]"
      ],
      "metadata": {
        "colab": {
          "base_uri": "https://localhost:8080/",
          "height": 35
        },
        "id": "EnIT2lPKO6WV",
        "outputId": "36d88347-ef21-463d-d337-6df6066cd2e8"
      },
      "execution_count": null,
      "outputs": [
        {
          "output_type": "execute_result",
          "data": {
            "text/plain": [
              "'cinema'"
            ],
            "application/vnd.google.colaboratory.intrinsic+json": {
              "type": "string"
            }
          },
          "metadata": {},
          "execution_count": 42
        }
      ]
    },
    {
      "cell_type": "code",
      "source": [
        "character_info['name'] = 'IO'\n",
        "character_info"
      ],
      "metadata": {
        "colab": {
          "base_uri": "https://localhost:8080/"
        },
        "id": "jyiF9usOTA3Y",
        "outputId": "f347e5f5-4403-452e-a591-e6d9e977de99"
      },
      "execution_count": null,
      "outputs": [
        {
          "output_type": "execute_result",
          "data": {
            "text/plain": [
              "{'name': 'IO', 'type': 'strength', 'hobbies': ['game', 'cinema', 'code']}"
            ]
          },
          "metadata": {},
          "execution_count": 61
        }
      ]
    },
    {
      "cell_type": "code",
      "source": [
        "character_info['HP'] = 100"
      ],
      "metadata": {
        "id": "4C5wZljaTUin"
      },
      "execution_count": null,
      "outputs": []
    },
    {
      "cell_type": "code",
      "source": [
        "character_info"
      ],
      "metadata": {
        "colab": {
          "base_uri": "https://localhost:8080/"
        },
        "id": "FWtmAMnhTg_w",
        "outputId": "cb186746-5db1-4225-89db-c04633cf0d13"
      },
      "execution_count": null,
      "outputs": [
        {
          "output_type": "execute_result",
          "data": {
            "text/plain": [
              "{'name': 'IO',\n",
              " 'type': 'strength',\n",
              " 'hobbies': ['game', 'cinema', 'code'],\n",
              " 'HP': 100}"
            ]
          },
          "metadata": {},
          "execution_count": 64
        }
      ]
    },
    {
      "cell_type": "code",
      "source": [
        "my_variable = dict(my_name= 'python', info= 'programming language')"
      ],
      "metadata": {
        "id": "ii7ApMMTO8v9"
      },
      "execution_count": null,
      "outputs": []
    },
    {
      "cell_type": "code",
      "source": [
        "my_variable"
      ],
      "metadata": {
        "colab": {
          "base_uri": "https://localhost:8080/"
        },
        "id": "tnH_Shk2Pqlg",
        "outputId": "1e5ed2b1-2233-4ce7-886b-e044be39058c"
      },
      "execution_count": null,
      "outputs": [
        {
          "output_type": "execute_result",
          "data": {
            "text/plain": [
              "{'my_name': 'python', 'info': 'programming language'}"
            ]
          },
          "metadata": {},
          "execution_count": 50
        }
      ]
    },
    {
      "cell_type": "code",
      "source": [
        "'my_name' in my_variable"
      ],
      "metadata": {
        "colab": {
          "base_uri": "https://localhost:8080/"
        },
        "id": "3VkrZfsOQNbn",
        "outputId": "fa3741cd-1780-4113-f864-9b7371ce7e8a"
      },
      "execution_count": null,
      "outputs": [
        {
          "output_type": "execute_result",
          "data": {
            "text/plain": [
              "True"
            ]
          },
          "metadata": {},
          "execution_count": 51
        }
      ]
    },
    {
      "cell_type": "code",
      "source": [
        "'info' in my_variable"
      ],
      "metadata": {
        "colab": {
          "base_uri": "https://localhost:8080/"
        },
        "id": "BPINe_ceRHCK",
        "outputId": "b0da2a04-cb15-459b-93e4-ec8470bbd120"
      },
      "execution_count": null,
      "outputs": [
        {
          "output_type": "execute_result",
          "data": {
            "text/plain": [
              "True"
            ]
          },
          "metadata": {},
          "execution_count": 52
        }
      ]
    },
    {
      "cell_type": "code",
      "source": [
        "# engar daram miporsam ke aya 'python' jozve key haye in dictionary hast yana\n",
        "'python' in my_variable"
      ],
      "metadata": {
        "colab": {
          "base_uri": "https://localhost:8080/"
        },
        "id": "GroF_AE7RLmr",
        "outputId": "bd44c7ee-4ece-4ca8-e799-a74800754612"
      },
      "execution_count": null,
      "outputs": [
        {
          "output_type": "execute_result",
          "data": {
            "text/plain": [
              "False"
            ]
          },
          "metadata": {},
          "execution_count": 66
        }
      ]
    },
    {
      "cell_type": "code",
      "source": [
        "my_variable"
      ],
      "metadata": {
        "colab": {
          "base_uri": "https://localhost:8080/"
        },
        "id": "y2JmPEJmT1pI",
        "outputId": "6ba9fd81-e50e-4b67-ec17-ee62c6d18f2a"
      },
      "execution_count": null,
      "outputs": [
        {
          "output_type": "execute_result",
          "data": {
            "text/plain": [
              "{'my_name': 'python', 'info': 'programming language'}"
            ]
          },
          "metadata": {},
          "execution_count": 67
        }
      ]
    },
    {
      "cell_type": "code",
      "source": [
        "'python' in my_variable.keys()"
      ],
      "metadata": {
        "colab": {
          "base_uri": "https://localhost:8080/"
        },
        "id": "BFr_V8RtSdzq",
        "outputId": "34b79dd8-2660-457f-8c8e-bc01683dba84"
      },
      "execution_count": null,
      "outputs": [
        {
          "output_type": "execute_result",
          "data": {
            "text/plain": [
              "False"
            ]
          },
          "metadata": {},
          "execution_count": 65
        }
      ]
    },
    {
      "cell_type": "code",
      "source": [
        "'python' in my_variable.values()"
      ],
      "metadata": {
        "colab": {
          "base_uri": "https://localhost:8080/"
        },
        "id": "v6BBOQxwTzHt",
        "outputId": "5470db5b-d082-4e58-b0da-8d4affb3a24d"
      },
      "execution_count": null,
      "outputs": [
        {
          "output_type": "execute_result",
          "data": {
            "text/plain": [
              "True"
            ]
          },
          "metadata": {},
          "execution_count": 69
        }
      ]
    },
    {
      "cell_type": "code",
      "source": [
        "my_hero = my_variable\n",
        "print(my_hero)\n",
        "print(my_variable)"
      ],
      "metadata": {
        "colab": {
          "base_uri": "https://localhost:8080/"
        },
        "id": "Mk9X2PZWUFs4",
        "outputId": "6418fd0f-56cf-46b3-f00e-94d3f6fcd625"
      },
      "execution_count": null,
      "outputs": [
        {
          "output_type": "stream",
          "name": "stdout",
          "text": [
            "{'my_name': 'python', 'info': 'programming language'}\n",
            "{'my_name': 'python', 'info': 'programming language'}\n"
          ]
        }
      ]
    },
    {
      "cell_type": "code",
      "source": [
        "my_hero['info'] = 'the best programming language'\n",
        "\n",
        "print(my_hero)\n",
        "print(my_variable)"
      ],
      "metadata": {
        "colab": {
          "base_uri": "https://localhost:8080/"
        },
        "id": "6DR7g4sBUklE",
        "outputId": "c3b52fbd-02fc-426f-b321-f4624fd0eda4"
      },
      "execution_count": null,
      "outputs": [
        {
          "output_type": "stream",
          "name": "stdout",
          "text": [
            "{'my_name': 'python', 'info': 'the best programming language'}\n",
            "{'my_name': 'python', 'info': 'the best programming language'}\n"
          ]
        }
      ]
    },
    {
      "cell_type": "code",
      "source": [
        "my_variable = {\n",
        "  'my_name': 'python',\n",
        "  'info': 'the best programming language'\n",
        "}\n",
        "\n",
        "my_hero = my_variable.copy()\n",
        "\n",
        "my_hero['info'] = 'programming language'\n",
        "\n",
        "print(my_hero)\n",
        "print(my_variable)"
      ],
      "metadata": {
        "colab": {
          "base_uri": "https://localhost:8080/"
        },
        "id": "2I9rd2QVUuq-",
        "outputId": "2ad9262c-1819-4465-ec65-981735aef423"
      },
      "execution_count": null,
      "outputs": [
        {
          "output_type": "stream",
          "name": "stdout",
          "text": [
            "{'my_name': 'python', 'info': 'programming language'}\n",
            "{'my_name': 'python', 'info': 'the best programming language'}\n"
          ]
        }
      ]
    },
    {
      "cell_type": "code",
      "source": [
        "user_information = {\n",
        "    'name': 'Ali',\n",
        "    'family': 'Mohamadi',\n",
        "    'age': 23,\n",
        "    'gender': 'male',\n",
        "    'city': 'gorgan',\n",
        "    'height': 180,\n",
        "    'weight': 80,\n",
        "}"
      ],
      "metadata": {
        "id": "nuoQmykxVJov"
      },
      "execution_count": null,
      "outputs": []
    },
    {
      "cell_type": "code",
      "source": [
        "user_information.items()"
      ],
      "metadata": {
        "colab": {
          "base_uri": "https://localhost:8080/"
        },
        "id": "gRRXehaxVgk3",
        "outputId": "852f6ef3-190e-4f2a-aba7-5c34e0b333a7"
      },
      "execution_count": null,
      "outputs": [
        {
          "output_type": "execute_result",
          "data": {
            "text/plain": [
              "dict_items([('name', 'Ali'), ('family', 'Mohamadi'), ('age', 23), ('gender', 'male'), ('city', 'gorgan'), ('height', 180), ('weight', 80)])"
            ]
          },
          "metadata": {},
          "execution_count": 74
        }
      ]
    },
    {
      "cell_type": "markdown",
      "source": [
        "## pop()"
      ],
      "metadata": {
        "id": "z4G84L0WV9u_"
      }
    },
    {
      "cell_type": "code",
      "source": [
        "car = {\n",
        "  \"brand\": \"Ford\",\n",
        "  \"model\": \"Mustang\",\n",
        "  \"year\": 1964\n",
        "}\n",
        "\n",
        "poped_key = \"model\"\n",
        "poped_value = car.pop(poped_key)\n",
        "\n",
        "print(f'This is my new dict:\\t{car}\\n\\nAnd \\\"{poped_value}\\\" is the value of the \\\"{poped_key}\\\" key in our dictionary.')"
      ],
      "metadata": {
        "colab": {
          "base_uri": "https://localhost:8080/"
        },
        "id": "q-Wta0uxVjUB",
        "outputId": "7fded55f-c3e0-4011-f579-9949ed2094f3"
      },
      "execution_count": null,
      "outputs": [
        {
          "output_type": "stream",
          "name": "stdout",
          "text": [
            "This is my new dict:\t{'brand': 'Ford', 'year': 1964}\n",
            "\n",
            "And \"Mustang\" is the value of the \"model\" key in our dictionary.\n"
          ]
        }
      ]
    },
    {
      "cell_type": "markdown",
      "source": [
        "## Set\n",
        "unordered and unique and mutable"
      ],
      "metadata": {
        "id": "uu1zkUH2V_4S"
      }
    },
    {
      "cell_type": "code",
      "source": [
        "my_set = {1, 2, 3, 3, 4, 5, 5, 5}\n",
        "my_set"
      ],
      "metadata": {
        "colab": {
          "base_uri": "https://localhost:8080/"
        },
        "id": "z0ILj5oMXxAn",
        "outputId": "c1b1cbca-83b8-402e-919b-ec78801e0343"
      },
      "execution_count": null,
      "outputs": [
        {
          "output_type": "execute_result",
          "data": {
            "text/plain": [
              "{1, 2, 3, 4, 5}"
            ]
          },
          "metadata": {},
          "execution_count": 82
        }
      ]
    },
    {
      "cell_type": "code",
      "source": [
        "emails = ['peyman@gmail.com', 'sam@gmail.com', 'pendar@yahoo.com', 'peyman@gmail.com', 'peyman@gmail.com']"
      ],
      "metadata": {
        "id": "q0urBMtoYBy6"
      },
      "execution_count": null,
      "outputs": []
    },
    {
      "cell_type": "code",
      "source": [
        "emails_to_send = set(emails)\n",
        "emails_to_send"
      ],
      "metadata": {
        "colab": {
          "base_uri": "https://localhost:8080/"
        },
        "id": "XrmDH1KNYaYf",
        "outputId": "1f5f7905-d92c-45d5-da18-b72e647463cc"
      },
      "execution_count": null,
      "outputs": [
        {
          "output_type": "execute_result",
          "data": {
            "text/plain": [
              "{'pendar@yahoo.com', 'peyman@gmail.com', 'sam@gmail.com'}"
            ]
          },
          "metadata": {},
          "execution_count": 84
        }
      ]
    },
    {
      "cell_type": "code",
      "source": [
        "'pendar@yahoo.com' in emails_to_send"
      ],
      "metadata": {
        "colab": {
          "base_uri": "https://localhost:8080/"
        },
        "id": "2Dn0IntSYncU",
        "outputId": "29a4e5c9-475b-4333-fd8d-151c5c99694a"
      },
      "execution_count": null,
      "outputs": [
        {
          "output_type": "execute_result",
          "data": {
            "text/plain": [
              "True"
            ]
          },
          "metadata": {},
          "execution_count": 86
        }
      ]
    },
    {
      "cell_type": "markdown",
      "source": [
        "## .add()"
      ],
      "metadata": {
        "id": "ojZ5-mBiZoYm"
      }
    },
    {
      "cell_type": "code",
      "source": [
        "fruits = {\"apple\", \"banana\", \"cherry\"}\n",
        "\n",
        "fruits.add(\"orange\")\n",
        "\n",
        "print(fruits)"
      ],
      "metadata": {
        "colab": {
          "base_uri": "https://localhost:8080/"
        },
        "id": "okrECizmY3g_",
        "outputId": "a8dd2db3-b3ab-4408-8dec-e1900f52f188"
      },
      "execution_count": null,
      "outputs": [
        {
          "output_type": "stream",
          "name": "stdout",
          "text": [
            "{'banana', 'cherry', 'orange', 'apple'}\n"
          ]
        }
      ]
    },
    {
      "cell_type": "markdown",
      "source": [
        "## .difference()"
      ],
      "metadata": {
        "id": "RIXyAOsHaDEs"
      }
    },
    {
      "cell_type": "code",
      "source": [
        "x = {\"apple\", \"banana\", \"cherry\"}\n",
        "y = {\"google\", \"microsoft\", \"apple\"}\n",
        "\n",
        "z = x.difference(y)\n",
        "\n",
        "print(f'x: {x}\\ny: {y}\\nz: {z}')"
      ],
      "metadata": {
        "colab": {
          "base_uri": "https://localhost:8080/"
        },
        "id": "bHl0BxH8ZYll",
        "outputId": "33841cb7-21b8-47ba-e141-a2e5fb873ccc"
      },
      "execution_count": null,
      "outputs": [
        {
          "output_type": "stream",
          "name": "stdout",
          "text": [
            "x: {'banana', 'cherry', 'apple'}\n",
            "y: {'microsoft', 'apple', 'google'}\n",
            "z: {'banana', 'cherry'}\n"
          ]
        }
      ]
    },
    {
      "cell_type": "code",
      "source": [
        "x = {\"apple\", \"banana\", \"cherry\"}\n",
        "y = {\"google\", \"microsoft\", \"apple\"}\n",
        "\n",
        "print(f'before function:\\nx: {x}\\ny: {y}')\n",
        "\n",
        "x.difference_update(y)\n",
        "\n",
        "print(f'\\n\\nafter funciton:\\nx: {x}\\ny: {y}')"
      ],
      "metadata": {
        "colab": {
          "base_uri": "https://localhost:8080/"
        },
        "id": "oAvXxedNaNJm",
        "outputId": "e199b513-6b8f-45ab-a662-f87beee6efae"
      },
      "execution_count": null,
      "outputs": [
        {
          "output_type": "stream",
          "name": "stdout",
          "text": [
            "before function:\n",
            "x: {'banana', 'cherry', 'apple'}\n",
            "y: {'microsoft', 'apple', 'google'}\n",
            "\n",
            "\n",
            "after funciton:\n",
            "x: {'banana', 'cherry'}\n",
            "y: {'microsoft', 'apple', 'google'}\n"
          ]
        }
      ]
    },
    {
      "cell_type": "code",
      "source": [],
      "metadata": {
        "id": "sUeJ7Di7aZhM"
      },
      "execution_count": null,
      "outputs": []
    }
  ]
}