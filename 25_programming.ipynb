{
  "nbformat": 4,
  "nbformat_minor": 0,
  "metadata": {
    "colab": {
      "provenance": [],
      "authorship_tag": "ABX9TyNH50nTc+fBRYpd/KKkIlSt",
      "include_colab_link": true
    },
    "kernelspec": {
      "name": "python3",
      "display_name": "Python 3"
    },
    "language_info": {
      "name": "python"
    }
  },
  "cells": [
    {
      "cell_type": "markdown",
      "metadata": {
        "id": "view-in-github",
        "colab_type": "text"
      },
      "source": [
        "<a href=\"https://colab.research.google.com/github/heispv/programming-feb2023/blob/master/25_programming.ipynb\" target=\"_parent\"><img src=\"https://colab.research.google.com/assets/colab-badge.svg\" alt=\"Open In Colab\"/></a>"
      ]
    },
    {
      "cell_type": "code",
      "source": [
        "class MyPet:\n",
        "\n",
        "  def __init__(self, cat_dog, breed, name):\n",
        "    self.cat_dog = cat_dog\n",
        "    self.breed = breed\n",
        "    self.name = name\n",
        "\n",
        "  def give_info(self):\n",
        "    print(f'This is a {self.cat_dog} and its name is {self.name}')\n",
        "\n",
        "  def breed_type(self):\n",
        "    print(f\"{self.name}'s breed is {self.breed} \")\n",
        "\n",
        "  def talk(self, jomle):\n",
        "    print(f'{self.name} says {jomle}')"
      ],
      "metadata": {
        "id": "is6Si5mJ9_f_"
      },
      "execution_count": 2,
      "outputs": []
    },
    {
      "cell_type": "code",
      "source": [
        "pet1 = MyPet('dog', 'German', 'Rex')"
      ],
      "metadata": {
        "id": "VOgYTYkYAZUU"
      },
      "execution_count": 3,
      "outputs": []
    },
    {
      "cell_type": "code",
      "source": [
        "pet1.name"
      ],
      "metadata": {
        "colab": {
          "base_uri": "https://localhost:8080/",
          "height": 35
        },
        "id": "xrMN1ifVD0nu",
        "outputId": "33555a77-1541-4943-c810-e42449229cef"
      },
      "execution_count": 13,
      "outputs": [
        {
          "output_type": "execute_result",
          "data": {
            "text/plain": [
              "'Rex'"
            ],
            "application/vnd.google.colaboratory.intrinsic+json": {
              "type": "string"
            }
          },
          "metadata": {},
          "execution_count": 13
        }
      ]
    },
    {
      "cell_type": "code",
      "source": [
        "pet1.breed_type()"
      ],
      "metadata": {
        "colab": {
          "base_uri": "https://localhost:8080/"
        },
        "id": "47G3xzb7Amul",
        "outputId": "a0865e4d-f761-47f1-f52b-a6af9e0908c8"
      },
      "execution_count": 14,
      "outputs": [
        {
          "output_type": "stream",
          "name": "stdout",
          "text": [
            "Rex's breed is German \n"
          ]
        }
      ]
    },
    {
      "cell_type": "code",
      "source": [
        "pet1.talk('Hap Hap')"
      ],
      "metadata": {
        "colab": {
          "base_uri": "https://localhost:8080/"
        },
        "id": "BDehZnDUCSJg",
        "outputId": "02b0d9fb-5438-472a-c572-07dc99589f48"
      },
      "execution_count": 17,
      "outputs": [
        {
          "output_type": "stream",
          "name": "stdout",
          "text": [
            "Rex says Hap Hap\n"
          ]
        }
      ]
    },
    {
      "cell_type": "code",
      "source": [
        "pet2 = MyPet('Cat', 'Scotish', 'Jully')"
      ],
      "metadata": {
        "id": "ofq1t3KdEDYI"
      },
      "execution_count": 18,
      "outputs": []
    },
    {
      "cell_type": "code",
      "source": [
        "pet2.give_info()"
      ],
      "metadata": {
        "colab": {
          "base_uri": "https://localhost:8080/"
        },
        "id": "ry2QO6ssEibI",
        "outputId": "df022ca2-9d23-482e-9d7e-c785b88aa2cb"
      },
      "execution_count": 20,
      "outputs": [
        {
          "output_type": "stream",
          "name": "stdout",
          "text": [
            "This is a Cat and its name is Jully\n"
          ]
        }
      ]
    },
    {
      "cell_type": "code",
      "source": [
        "pet2.talk('miow')"
      ],
      "metadata": {
        "colab": {
          "base_uri": "https://localhost:8080/"
        },
        "id": "BNxVD6spEkAT",
        "outputId": "0c5e0bf5-a4a5-417a-d709-f7c50cdb8b28"
      },
      "execution_count": 21,
      "outputs": [
        {
          "output_type": "stream",
          "name": "stdout",
          "text": [
            "Jully says miow\n"
          ]
        }
      ]
    }
  ]
}