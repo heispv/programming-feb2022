{
  "nbformat": 4,
  "nbformat_minor": 0,
  "metadata": {
    "colab": {
      "provenance": [],
      "authorship_tag": "ABX9TyNMhAat2W47DYWzJ8fMG/k7",
      "include_colab_link": true
    },
    "kernelspec": {
      "name": "python3",
      "display_name": "Python 3"
    },
    "language_info": {
      "name": "python"
    }
  },
  "cells": [
    {
      "cell_type": "markdown",
      "metadata": {
        "id": "view-in-github",
        "colab_type": "text"
      },
      "source": [
        "<a href=\"https://colab.research.google.com/github/heispv/programming-feb2023/blob/master/23_programming_exercise.ipynb\" target=\"_parent\"><img src=\"https://colab.research.google.com/assets/colab-badge.svg\" alt=\"Open In Colab\"/></a>"
      ]
    },
    {
      "cell_type": "markdown",
      "source": [
        "# 23_programming_exercise\n",
        "\n",
        "Salam doostan, omidvaram ke haletoon khoob bashe.\n",
        "tooye ghesmate payin yek seri tamrin mibinin ke bayad oonaro anjam bedin. faghat bayad be yek nokte deghat konin ke bayad hatman khuruji hayi ke neveshte shode daghighan raayat beshe va be hamoon soorati ke azatoon khastam namayesh bedin."
      ],
      "metadata": {
        "id": "6plF5ohnBCoE"
      }
    },
    {
      "cell_type": "markdown",
      "source": [
        "## 1.\n",
        "Barnamei benvisid ke esme user ro be onvane vurudi migire va dar khurji behesh salam mikone.\n",
        "\n",
        "yani agar vurudi : `Mohamad` bood\n",
        "\n",
        "bayad payame khurji daghighan be shekl zir bashe : `Salam Mohamad omid varam halet khoob bashe.`"
      ],
      "metadata": {
        "id": "KkldVoblA7RU"
      }
    },
    {
      "cell_type": "code",
      "source": [
        "# Code ro inja benvisin\n"
      ],
      "metadata": {
        "id": "eYQOiN9yBs0E"
      },
      "execution_count": 1,
      "outputs": []
    },
    {
      "cell_type": "markdown",
      "source": [
        "## 2.\n",
        "Barname benvisid ke tool va arz ro be onvane vurudi begire va masahat mostatil ro hesab kone.\n",
        "\n",
        "yani agar vurudi tool : `14.2` bood\n",
        "\n",
        "va vurudi arz : `10` bood\n",
        "\n",
        "bayad khurji be shekl zir bashad : `Masahad moraba 142 mibashad.`"
      ],
      "metadata": {
        "id": "f5ShrJtEBvUk"
      }
    },
    {
      "cell_type": "code",
      "source": [
        "# Code ro inja benvisin\n"
      ],
      "metadata": {
        "id": "l3B2j392B1aE"
      },
      "execution_count": null,
      "outputs": []
    },
    {
      "cell_type": "markdown",
      "source": [
        "## 3.\n",
        "Baraname bala ro be onvae yek function benvisid. vurudi haye function bayad tool va arz moraba bashad va masahat oon bayad be return beshe.\n",
        "\n",
        "yani agar vurudi zir ro bedim :\n",
        "```\n",
        "masahat = masahat_hesab_kon(5, 10)\n",
        "masahat\n",
        "```\n",
        "\n",
        "khurji ya hamoon meghdare zakhire shode dar variable e masahat bayad adade 50 bashad."
      ],
      "metadata": {
        "id": "xlxFBqCbB1y8"
      }
    },
    {
      "cell_type": "code",
      "source": [
        "# Code ro inja benvisin\n"
      ],
      "metadata": {
        "id": "DeOkAeLbB5z-"
      },
      "execution_count": null,
      "outputs": []
    },
    {
      "cell_type": "markdown",
      "source": [
        "## 4.\n",
        "Baranemi benvisid ke az user yek adad ro vurudi migire va bar asase inke adad zoj ya farde oon ro dar khuruji mige."
      ],
      "metadata": {
        "id": "MhqWkoKtB7d7"
      }
    },
    {
      "cell_type": "code",
      "source": [
        "# Code ro inja benvisin\n"
      ],
      "metadata": {
        "id": "EhjhjT69B-88"
      },
      "execution_count": null,
      "outputs": []
    }
  ]
}