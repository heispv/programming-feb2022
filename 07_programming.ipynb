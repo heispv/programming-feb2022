{
  "nbformat": 4,
  "nbformat_minor": 0,
  "metadata": {
    "colab": {
      "provenance": [],
      "authorship_tag": "ABX9TyOENst+f67pHRaN10KCN/Mj",
      "include_colab_link": true
    },
    "kernelspec": {
      "name": "python3",
      "display_name": "Python 3"
    },
    "language_info": {
      "name": "python"
    }
  },
  "cells": [
    {
      "cell_type": "markdown",
      "metadata": {
        "id": "view-in-github",
        "colab_type": "text"
      },
      "source": [
        "<a href=\"https://colab.research.google.com/github/heispv/programming-feb2023/blob/master/07_programming.ipynb\" target=\"_parent\"><img src=\"https://colab.research.google.com/assets/colab-badge.svg\" alt=\"Open In Colab\"/></a>"
      ]
    },
    {
      "cell_type": "markdown",
      "source": [
        "# Conditional Formating\n",
        "\n",
        "ma miaim baraye inke barnamamoon iteractive tar beshe az conditional formatting estefade mikonim, miad check mikone agar sharti ke tarif kardim `True` bood, block esh ejra mishe, va agar `False` bood blockesh ejra nemishe."
      ],
      "metadata": {
        "id": "nN4il3ApKJ_3"
      }
    },
    {
      "cell_type": "code",
      "source": [
        "is_pass = True"
      ],
      "metadata": {
        "id": "04ITQVfeL1Y-"
      },
      "execution_count": 9,
      "outputs": []
    },
    {
      "cell_type": "code",
      "source": [
        "if is_pass:\n",
        "  print(\"Your pass is ok\")\n"
      ],
      "metadata": {
        "colab": {
          "base_uri": "https://localhost:8080/"
        },
        "id": "YQdhTAv5Mkuv",
        "outputId": "15ab7424-c4f8-44dd-ee2f-418511221778"
      },
      "execution_count": 10,
      "outputs": [
        {
          "output_type": "stream",
          "name": "stdout",
          "text": [
            "Your pass is ok\n"
          ]
        }
      ]
    },
    {
      "cell_type": "code",
      "source": [
        "if is_pass:\n",
        "  print(\"Your pass is ok (inside if)\")\n",
        "print(\"Out of the if\")"
      ],
      "metadata": {
        "colab": {
          "base_uri": "https://localhost:8080/"
        },
        "id": "lMX0FbNEMwFP",
        "outputId": "e481f4a5-6479-4247-e4f5-095af206a815"
      },
      "execution_count": 11,
      "outputs": [
        {
          "output_type": "stream",
          "name": "stdout",
          "text": [
            "Your pass is ok (inside if)\n",
            "Out of the if\n"
          ]
        }
      ]
    },
    {
      "cell_type": "code",
      "source": [
        "is_pass = False"
      ],
      "metadata": {
        "id": "MN37PRmMNPLV"
      },
      "execution_count": 12,
      "outputs": []
    },
    {
      "cell_type": "code",
      "source": [
        "if is_pass:\n",
        "  print(\"Your pass is ok (inside if)\")\n",
        "print(\"Out of the if\")"
      ],
      "metadata": {
        "colab": {
          "base_uri": "https://localhost:8080/"
        },
        "id": "0DwLjEeiNUys",
        "outputId": "a73fdc1f-2329-42a7-e001-9b3b8b083913"
      },
      "execution_count": 13,
      "outputs": [
        {
          "output_type": "stream",
          "name": "stdout",
          "text": [
            "Out of the if\n"
          ]
        }
      ]
    },
    {
      "cell_type": "code",
      "source": [
        "is_pass = True\n",
        "is_username = True\n",
        "\n",
        "if is_username:\n",
        "  print(\"Your username is correct.\")\n",
        "else:\n",
        "  print(\"Your username is not correct.\")"
      ],
      "metadata": {
        "colab": {
          "base_uri": "https://localhost:8080/"
        },
        "id": "7Nuh_O2jNaGA",
        "outputId": "95a989d2-79a7-401f-d58e-964a68e945e3"
      },
      "execution_count": 14,
      "outputs": [
        {
          "output_type": "stream",
          "name": "stdout",
          "text": [
            "Your username is correct.\n"
          ]
        }
      ]
    },
    {
      "cell_type": "code",
      "source": [
        "is_pass = True\n",
        "is_username = False\n",
        "\n",
        "if is_username:\n",
        "  print(\"Your username is correct.\")\n",
        "else:\n",
        "  print(\"Your username is not correct.\")"
      ],
      "metadata": {
        "colab": {
          "base_uri": "https://localhost:8080/"
        },
        "id": "9yBPZwHwOhz5",
        "outputId": "cd541bb1-98a0-4d50-f1b3-e7c0f7da33d4"
      },
      "execution_count": 15,
      "outputs": [
        {
          "output_type": "stream",
          "name": "stdout",
          "text": [
            "Your username is not correct.\n"
          ]
        }
      ]
    },
    {
      "cell_type": "code",
      "source": [
        "True and True"
      ],
      "metadata": {
        "colab": {
          "base_uri": "https://localhost:8080/"
        },
        "id": "fgNq2LbmQTre",
        "outputId": "4250779e-853a-47bc-c429-db5aa8aaebe4"
      },
      "execution_count": 23,
      "outputs": [
        {
          "output_type": "execute_result",
          "data": {
            "text/plain": [
              "True"
            ]
          },
          "metadata": {},
          "execution_count": 23
        }
      ]
    },
    {
      "cell_type": "code",
      "source": [
        "True and False"
      ],
      "metadata": {
        "colab": {
          "base_uri": "https://localhost:8080/"
        },
        "id": "Cd6OYcMXQXdC",
        "outputId": "96ddfbed-cba5-4730-c9b0-8519b8718761"
      },
      "execution_count": 24,
      "outputs": [
        {
          "output_type": "execute_result",
          "data": {
            "text/plain": [
              "False"
            ]
          },
          "metadata": {},
          "execution_count": 24
        }
      ]
    },
    {
      "cell_type": "code",
      "source": [
        "True or False"
      ],
      "metadata": {
        "colab": {
          "base_uri": "https://localhost:8080/"
        },
        "id": "GXVDoP6_QgAH",
        "outputId": "a2d85fe6-d6ee-4a1f-dd96-8bb3e709e024"
      },
      "execution_count": 25,
      "outputs": [
        {
          "output_type": "execute_result",
          "data": {
            "text/plain": [
              "True"
            ]
          },
          "metadata": {},
          "execution_count": 25
        }
      ]
    },
    {
      "cell_type": "code",
      "source": [
        "is_pass = False\n",
        "is_username = True\n",
        "\n",
        "if (is_pass and is_username):\n",
        "  print('Username and password are correct.')\n",
        "elif is_username:\n",
        "  print('Username is correct.')\n",
        "elif is_pass:\n",
        "  print('Password is correct.')\n",
        "else:\n",
        "  print('None of them are correct.')"
      ],
      "metadata": {
        "colab": {
          "base_uri": "https://localhost:8080/"
        },
        "id": "jYNtv71YPy8q",
        "outputId": "c8a36cf1-cb4c-4eed-b270-c10ac21132bd"
      },
      "execution_count": 30,
      "outputs": [
        {
          "output_type": "stream",
          "name": "stdout",
          "text": [
            "Username is correct.\n"
          ]
        }
      ]
    },
    {
      "cell_type": "code",
      "source": [
        "name = 'Sam'\n",
        "\n",
        "if name:\n",
        "  print('welcome')"
      ],
      "metadata": {
        "colab": {
          "base_uri": "https://localhost:8080/"
        },
        "id": "QGRgdhiUSHdn",
        "outputId": "8afb9869-8ee4-44d2-bf8c-18a10dde5711"
      },
      "execution_count": 33,
      "outputs": [
        {
          "output_type": "stream",
          "name": "stdout",
          "text": [
            "welcome\n"
          ]
        }
      ]
    },
    {
      "cell_type": "markdown",
      "source": [
        "Truthy and Falsy"
      ],
      "metadata": {
        "id": "pWGI11meS_on"
      }
    },
    {
      "cell_type": "code",
      "source": [
        "bool('hey')"
      ],
      "metadata": {
        "colab": {
          "base_uri": "https://localhost:8080/"
        },
        "id": "W21o29eDSvjf",
        "outputId": "b6136208-6331-4bd7-c6cc-80d2ce7824c0"
      },
      "execution_count": 38,
      "outputs": [
        {
          "output_type": "execute_result",
          "data": {
            "text/plain": [
              "True"
            ]
          },
          "metadata": {},
          "execution_count": 38
        }
      ]
    },
    {
      "cell_type": "code",
      "source": [
        "bool('')"
      ],
      "metadata": {
        "colab": {
          "base_uri": "https://localhost:8080/"
        },
        "id": "tY_Gz-pkTJE4",
        "outputId": "30ecef70-9ea3-474a-9ac2-7bb808dfb80f"
      },
      "execution_count": 39,
      "outputs": [
        {
          "output_type": "execute_result",
          "data": {
            "text/plain": [
              "False"
            ]
          },
          "metadata": {},
          "execution_count": 39
        }
      ]
    },
    {
      "cell_type": "code",
      "source": [
        "bool([])"
      ],
      "metadata": {
        "colab": {
          "base_uri": "https://localhost:8080/"
        },
        "id": "8PF0Oz1PTKpe",
        "outputId": "9062d1ff-2c2d-42ef-b666-4c24f5207cf5"
      },
      "execution_count": 40,
      "outputs": [
        {
          "output_type": "execute_result",
          "data": {
            "text/plain": [
              "False"
            ]
          },
          "metadata": {},
          "execution_count": 40
        }
      ]
    },
    {
      "cell_type": "code",
      "source": [
        "bool([1, 2, 3])"
      ],
      "metadata": {
        "colab": {
          "base_uri": "https://localhost:8080/"
        },
        "id": "iA16EuymTMsU",
        "outputId": "a22c9347-ba83-496a-ed91-978674feb3ba"
      },
      "execution_count": 41,
      "outputs": [
        {
          "output_type": "execute_result",
          "data": {
            "text/plain": [
              "True"
            ]
          },
          "metadata": {},
          "execution_count": 41
        }
      ]
    },
    {
      "cell_type": "code",
      "source": [
        "bool(0.0)"
      ],
      "metadata": {
        "colab": {
          "base_uri": "https://localhost:8080/"
        },
        "id": "JfGSK-s7TRgG",
        "outputId": "b419964e-04b1-48f7-e0f2-40c8a49be89a"
      },
      "execution_count": 48,
      "outputs": [
        {
          "output_type": "execute_result",
          "data": {
            "text/plain": [
              "False"
            ]
          },
          "metadata": {},
          "execution_count": 48
        }
      ]
    },
    {
      "cell_type": "markdown",
      "source": [
        "## logical operation"
      ],
      "metadata": {
        "id": "ep_sfeE8Ts0I"
      }
    },
    {
      "cell_type": "code",
      "source": [
        "1 > 2"
      ],
      "metadata": {
        "colab": {
          "base_uri": "https://localhost:8080/"
        },
        "id": "PKvznQ10TwO-",
        "outputId": "48f7cab4-7afc-49ca-e0a2-7add574cd782"
      },
      "execution_count": 49,
      "outputs": [
        {
          "output_type": "execute_result",
          "data": {
            "text/plain": [
              "False"
            ]
          },
          "metadata": {},
          "execution_count": 49
        }
      ]
    },
    {
      "cell_type": "code",
      "source": [
        "5.5 < 7.1"
      ],
      "metadata": {
        "colab": {
          "base_uri": "https://localhost:8080/"
        },
        "id": "5r1WdlNCT04x",
        "outputId": "872e41a1-25d8-4a84-c013-1141e5771dca"
      },
      "execution_count": 51,
      "outputs": [
        {
          "output_type": "execute_result",
          "data": {
            "text/plain": [
              "True"
            ]
          },
          "metadata": {},
          "execution_count": 51
        }
      ]
    },
    {
      "cell_type": "code",
      "source": [
        "3 == 3.1"
      ],
      "metadata": {
        "colab": {
          "base_uri": "https://localhost:8080/"
        },
        "id": "65mgQiXsT02Z",
        "outputId": "cec663d9-0446-4ddb-9f04-cb3e48ce343e"
      },
      "execution_count": 54,
      "outputs": [
        {
          "output_type": "execute_result",
          "data": {
            "text/plain": [
              "False"
            ]
          },
          "metadata": {},
          "execution_count": 54
        }
      ]
    },
    {
      "cell_type": "code",
      "source": [
        "3 >= 3"
      ],
      "metadata": {
        "colab": {
          "base_uri": "https://localhost:8080/"
        },
        "id": "-6Egj64fT0zO",
        "outputId": "0180397d-494b-4e48-94bc-28be481570cf"
      },
      "execution_count": 59,
      "outputs": [
        {
          "output_type": "execute_result",
          "data": {
            "text/plain": [
              "True"
            ]
          },
          "metadata": {},
          "execution_count": 59
        }
      ]
    },
    {
      "cell_type": "code",
      "source": [
        "3 != 4"
      ],
      "metadata": {
        "colab": {
          "base_uri": "https://localhost:8080/"
        },
        "id": "ohtW_s79T0u-",
        "outputId": "f1e803a7-e762-4636-94bd-6e9f34fd33dc"
      },
      "execution_count": 62,
      "outputs": [
        {
          "output_type": "execute_result",
          "data": {
            "text/plain": [
              "True"
            ]
          },
          "metadata": {},
          "execution_count": 62
        }
      ]
    },
    {
      "cell_type": "code",
      "source": [
        "2 < 3 > 6 <= 6"
      ],
      "metadata": {
        "colab": {
          "base_uri": "https://localhost:8080/"
        },
        "id": "qs04CsOzT0n3",
        "outputId": "045c0638-a2df-45cc-b3b6-58b537ab12dc"
      },
      "execution_count": 65,
      "outputs": [
        {
          "output_type": "execute_result",
          "data": {
            "text/plain": [
              "False"
            ]
          },
          "metadata": {},
          "execution_count": 65
        }
      ]
    },
    {
      "cell_type": "markdown",
      "source": [
        "> ma tooye and miaim check mikonim az samte chap doone doone, agar hame dorost boodan True barmigardoonim, ama agar oon vasat didim yeki False e baghiaro dge check nemikonim, chon dar har soorat javab False."
      ],
      "metadata": {
        "id": "qDMMEYvaVDfn"
      }
    },
    {
      "cell_type": "code",
      "source": [
        "(6 > 3) and (4 < 2)"
      ],
      "metadata": {
        "colab": {
          "base_uri": "https://localhost:8080/"
        },
        "id": "dQktk6CZT0cf",
        "outputId": "caec8f98-5700-4420-d5f7-6679d684580a"
      },
      "execution_count": 66,
      "outputs": [
        {
          "output_type": "execute_result",
          "data": {
            "text/plain": [
              "False"
            ]
          },
          "metadata": {},
          "execution_count": 66
        }
      ]
    },
    {
      "cell_type": "markdown",
      "source": [
        "> or miad tak tak az samte chap check mikone, agar yedoone True peyda kard dge baghiaro check nemikone, va dar enteha javabemoonam True mishe."
      ],
      "metadata": {
        "id": "kZgo3q8eVY0C"
      }
    },
    {
      "cell_type": "code",
      "source": [
        "(10 > 3) or (3 < 1)"
      ],
      "metadata": {
        "colab": {
          "base_uri": "https://localhost:8080/"
        },
        "id": "1AxsI1xCU6U4",
        "outputId": "674a8ea4-8602-495b-b1f4-6258c21a43f4"
      },
      "execution_count": 67,
      "outputs": [
        {
          "output_type": "execute_result",
          "data": {
            "text/plain": [
              "True"
            ]
          },
          "metadata": {},
          "execution_count": 67
        }
      ]
    },
    {
      "cell_type": "code",
      "source": [
        "your_username = input(\"Enter your username: \")\n",
        "\n",
        "if (your_username == 'peyman'):\n",
        "  print('Welcome')\n",
        "else:\n",
        "  print('Username is not correct.')"
      ],
      "metadata": {
        "colab": {
          "base_uri": "https://localhost:8080/"
        },
        "id": "C4vXtI8LOpTd",
        "outputId": "61e2fc13-9bd4-4a35-900e-0eeffdd7e43a"
      },
      "execution_count": 21,
      "outputs": [
        {
          "output_type": "stream",
          "name": "stdout",
          "text": [
            "Enter your username: peyman\n",
            "Welcome\n"
          ]
        }
      ]
    },
    {
      "cell_type": "code",
      "source": [
        "anti_mage = {\n",
        "    'Game' : 'Dota2',\n",
        "    'HP' : 'Low',\n",
        "    'Attack Type' : 'Melee',\n",
        "    'Roles' : ['Carry', 'Escape', 'Nuker']\n",
        "}\n",
        "\n",
        "medusa = {\n",
        "    'Game' : 'Dota2',\n",
        "    'HP' : 'Medium',\n",
        "    'Attack Type' : 'Ranged',\n",
        "    'Roles' : ['Carry', 'Disabler', 'Durable']\n",
        "}\n",
        "\n",
        "viper = {\n",
        "    'Game' : 'Dota2',\n",
        "    'HP' : 'High',\n",
        "    'Attack Type' : 'Ranged',\n",
        "    'Roles' : ['Carry', 'Disabler', 'Durable', 'Initiatior']\n",
        "}\n",
        "\n",
        "undying = {\n",
        "    'Game' : 'Dota2',\n",
        "    'HP' : 'Low',\n",
        "    'Attack Type' : 'Melee',\n",
        "    'Roles' : ['Support', 'Disabler', 'Durable', 'Nuker']\n",
        "}"
      ],
      "metadata": {
        "id": "teN060NASe7v"
      },
      "execution_count": 82,
      "outputs": []
    },
    {
      "cell_type": "code",
      "source": [
        "undying['HP']"
      ],
      "metadata": {
        "colab": {
          "base_uri": "https://localhost:8080/",
          "height": 36
        },
        "id": "oPn8br0MXMXo",
        "outputId": "0cde7163-3a67-4b4b-b070-7df98d31897e"
      },
      "execution_count": 78,
      "outputs": [
        {
          "output_type": "execute_result",
          "data": {
            "text/plain": [
              "'High'"
            ],
            "application/vnd.google.colaboratory.intrinsic+json": {
              "type": "string"
            }
          },
          "metadata": {},
          "execution_count": 78
        }
      ]
    },
    {
      "cell_type": "code",
      "source": [
        "# undying check\n",
        "\n",
        "if (undying['HP'] == 'High'):\n",
        "  print('your HP is high.')\n",
        "elif (undying['HP'] == 'Low'):\n",
        "  print('Your HP is low')\n",
        "else:\n",
        "  print('Your HP is medium')"
      ],
      "metadata": {
        "colab": {
          "base_uri": "https://localhost:8080/"
        },
        "id": "wU5ZimW3V7DF",
        "outputId": "bfa624f7-a0a2-46d1-c0a3-e20450f30a8d"
      },
      "execution_count": 83,
      "outputs": [
        {
          "output_type": "stream",
          "name": "stdout",
          "text": [
            "Your HP is low\n"
          ]
        }
      ]
    },
    {
      "cell_type": "markdown",
      "source": [
        "Zamani ke miaim az `==` estefade mikonim dar asl darim value haro baham dge check mikonim, ama mitoonim az keyword `is` estefade konim, farghesh tooye ine ke bejaye inke biad value haro check bokone, check mikone ke hardoye oon variable ha az yek address memory hastand ya na."
      ],
      "metadata": {
        "id": "zSXs4oYCZSuw"
      }
    },
    {
      "cell_type": "code",
      "source": [
        "1 == 1"
      ],
      "metadata": {
        "colab": {
          "base_uri": "https://localhost:8080/"
        },
        "id": "T5LJIQQQZM9o",
        "outputId": "5e8b406a-f794-4a82-b155-4dd41638c0f3"
      },
      "execution_count": 85,
      "outputs": [
        {
          "output_type": "execute_result",
          "data": {
            "text/plain": [
              "True"
            ]
          },
          "metadata": {},
          "execution_count": 85
        }
      ]
    },
    {
      "cell_type": "code",
      "source": [
        "'hello' == 'hello'"
      ],
      "metadata": {
        "colab": {
          "base_uri": "https://localhost:8080/"
        },
        "id": "1B9ShFaLZ4p6",
        "outputId": "abf6a6b3-041f-40c3-fca0-e3204d52787c"
      },
      "execution_count": 87,
      "outputs": [
        {
          "output_type": "execute_result",
          "data": {
            "text/plain": [
              "True"
            ]
          },
          "metadata": {},
          "execution_count": 87
        }
      ]
    },
    {
      "cell_type": "code",
      "source": [
        "[1, 2, 3] == [1, 2, 3]"
      ],
      "metadata": {
        "colab": {
          "base_uri": "https://localhost:8080/"
        },
        "id": "ceOeSf-7ZzjX",
        "outputId": "108c4a8a-5034-45d7-a8d2-9cabed3f98aa"
      },
      "execution_count": 86,
      "outputs": [
        {
          "output_type": "execute_result",
          "data": {
            "text/plain": [
              "True"
            ]
          },
          "metadata": {},
          "execution_count": 86
        }
      ]
    },
    {
      "cell_type": "code",
      "source": [
        "[1, 2, 3] is [1, 2, 3]"
      ],
      "metadata": {
        "colab": {
          "base_uri": "https://localhost:8080/"
        },
        "id": "btbkkYScZ67g",
        "outputId": "b7e14c96-366b-4854-c730-a1e29615039c"
      },
      "execution_count": 89,
      "outputs": [
        {
          "output_type": "execute_result",
          "data": {
            "text/plain": [
              "False"
            ]
          },
          "metadata": {},
          "execution_count": 89
        }
      ]
    },
    {
      "cell_type": "code",
      "source": [
        "'hello' is 'hello'"
      ],
      "metadata": {
        "colab": {
          "base_uri": "https://localhost:8080/"
        },
        "id": "pYNpzo8JaVGp",
        "outputId": "7e16d718-b16b-4cc7-9b32-c9675c7fe649"
      },
      "execution_count": 90,
      "outputs": [
        {
          "output_type": "stream",
          "name": "stderr",
          "text": [
            "<>:1: SyntaxWarning: \"is\" with a literal. Did you mean \"==\"?\n",
            "<>:1: SyntaxWarning: \"is\" with a literal. Did you mean \"==\"?\n",
            "<ipython-input-90-234a37275e88>:1: SyntaxWarning: \"is\" with a literal. Did you mean \"==\"?\n",
            "  'hello' is 'hello'\n"
          ]
        },
        {
          "output_type": "execute_result",
          "data": {
            "text/plain": [
              "True"
            ]
          },
          "metadata": {},
          "execution_count": 90
        }
      ]
    },
    {
      "cell_type": "code",
      "source": [
        "user_list = ['Sam', 'Pendar', 'Peyman']\n",
        "'sam' in user_list"
      ],
      "metadata": {
        "colab": {
          "base_uri": "https://localhost:8080/"
        },
        "id": "fS3Fhqkya4bY",
        "outputId": "d1203ed1-6c40-4ab0-de17-72e097e589ae"
      },
      "execution_count": 93,
      "outputs": [
        {
          "output_type": "execute_result",
          "data": {
            "text/plain": [
              "False"
            ]
          },
          "metadata": {},
          "execution_count": 93
        }
      ]
    },
    {
      "cell_type": "code",
      "source": [
        "user_list = ['Sam', 'Pendar', 'Peyman']\n",
        "my_name = 'Sam'\n",
        "\n",
        "if my_name in user_list:\n",
        "  print(f'Welcome {my_name}')\n",
        "elif (type(my_name) != str):\n",
        "  print('You should enter a string')\n",
        "else:\n",
        "  print('Your name is not in the list')"
      ],
      "metadata": {
        "colab": {
          "base_uri": "https://localhost:8080/"
        },
        "id": "yqwiGhA1XTzL",
        "outputId": "a3c62e52-4eb0-4855-899c-f4e5f9d475e7"
      },
      "execution_count": 107,
      "outputs": [
        {
          "output_type": "stream",
          "name": "stdout",
          "text": [
            "Welcome Sam\n"
          ]
        }
      ]
    },
    {
      "cell_type": "markdown",
      "source": [
        "> mikhaim ye code bezanim ke ye adad vared koni, bad biad check kone ke oon adad az 10 bozorgtare ya na va hamchenin az 20 chetor?"
      ],
      "metadata": {
        "id": "OilB-IG2bplL"
      }
    },
    {
      "cell_type": "code",
      "source": [
        "my_number = float(input(\"Enter the number: \"))\n",
        "\n",
        "if (my_number < 10):\n",
        "  print('Your number is less than 10')\n",
        "elif (10 < my_number < 20):\n",
        "  print('Your number is greater than 10 but less than 20')\n",
        "elif (my_number == 10):\n",
        "  print('Your number is 10')\n",
        "elif (my_number == 20):\n",
        "  print('Your number is 20')\n",
        "else:\n",
        "  print('Your number is greater than 20')"
      ],
      "metadata": {
        "colab": {
          "base_uri": "https://localhost:8080/"
        },
        "id": "NQCngYK6cyIq",
        "outputId": "2091331e-952f-4630-862b-07404678d06c"
      },
      "execution_count": 124,
      "outputs": [
        {
          "output_type": "stream",
          "name": "stdout",
          "text": [
            "Enter the number: 11.5\n",
            "Your number is greater than 10 but less than 20\n"
          ]
        }
      ]
    },
    {
      "cell_type": "code",
      "source": [],
      "metadata": {
        "id": "ojo0o2j3c_qO"
      },
      "execution_count": null,
      "outputs": []
    }
  ]
}