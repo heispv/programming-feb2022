{
  "nbformat": 4,
  "nbformat_minor": 0,
  "metadata": {
    "colab": {
      "provenance": [],
      "authorship_tag": "ABX9TyNwW5E/Hmv2lJe4WWn2G1B1",
      "include_colab_link": true
    },
    "kernelspec": {
      "name": "python3",
      "display_name": "Python 3"
    },
    "language_info": {
      "name": "python"
    }
  },
  "cells": [
    {
      "cell_type": "markdown",
      "metadata": {
        "id": "view-in-github",
        "colab_type": "text"
      },
      "source": [
        "<a href=\"https://colab.research.google.com/github/heispv/programming-feb2023/blob/master/32_programming_web_scarping_project.ipynb\" target=\"_parent\"><img src=\"https://colab.research.google.com/assets/colab-badge.svg\" alt=\"Open In Colab\"/></a>"
      ]
    },
    {
      "cell_type": "code",
      "execution_count": 2,
      "metadata": {
        "id": "LFbHaEywxEwg"
      },
      "outputs": [],
      "source": [
        "import requests\n",
        "from bs4 import BeautifulSoup"
      ]
    },
    {
      "cell_type": "code",
      "source": [
        "URL = \"https://coinmarketcap.com/\"\n",
        "page = requests.get(URL)"
      ],
      "metadata": {
        "id": "zpnIC9bIyd17"
      },
      "execution_count": 3,
      "outputs": []
    },
    {
      "cell_type": "code",
      "source": [
        "# Check the response of the get request\n",
        "print(page)"
      ],
      "metadata": {
        "colab": {
          "base_uri": "https://localhost:8080/"
        },
        "id": "FeBgaEHjypnM",
        "outputId": "613082d9-f117-4f36-b04a-1e9d50527678"
      },
      "execution_count": 4,
      "outputs": [
        {
          "output_type": "stream",
          "name": "stdout",
          "text": [
            "<Response [200]>\n"
          ]
        }
      ]
    },
    {
      "cell_type": "code",
      "source": [
        "# Check the page.text\n",
        "print(page.text)"
      ],
      "metadata": {
        "id": "02eSq6sr29Cr"
      },
      "execution_count": null,
      "outputs": []
    },
    {
      "cell_type": "code",
      "source": [
        "# Parse the HTML code to BeautifulSoup function\n",
        "soup = BeautifulSoup(page.content, 'html.parser')"
      ],
      "metadata": {
        "id": "ah7-yaD-zR3h"
      },
      "execution_count": 6,
      "outputs": []
    },
    {
      "cell_type": "code",
      "source": [
        "print(soup)"
      ],
      "metadata": {
        "id": "s_FqDYiu264s"
      },
      "execution_count": null,
      "outputs": []
    },
    {
      "cell_type": "code",
      "source": [
        "# Check the soup type\n",
        "type(soup)"
      ],
      "metadata": {
        "colab": {
          "base_uri": "https://localhost:8080/"
        },
        "id": "SqouQRxZx-OR",
        "outputId": "1fe3e52d-34e5-4e8f-fc8e-4381545dbc63"
      },
      "execution_count": 8,
      "outputs": [
        {
          "output_type": "execute_result",
          "data": {
            "text/plain": [
              "bs4.BeautifulSoup"
            ]
          },
          "metadata": {},
          "execution_count": 8
        }
      ]
    },
    {
      "cell_type": "code",
      "source": [
        "# Check the page.text type\n",
        "type(page.text)"
      ],
      "metadata": {
        "colab": {
          "base_uri": "https://localhost:8080/"
        },
        "id": "qdBxC1G_2mc5",
        "outputId": "e7643724-c023-4713-a9e0-bed3c090134b"
      },
      "execution_count": 9,
      "outputs": [
        {
          "output_type": "execute_result",
          "data": {
            "text/plain": [
              "str"
            ]
          },
          "metadata": {},
          "execution_count": 9
        }
      ]
    },
    {
      "cell_type": "markdown",
      "source": [
        "* Havasemoon bashe ke ba inke zamani ke `soup` ro print mikonim va zamani ke `page.text` ro print mikonim ye chiz moshabeh migirm, ama dar vaghe in do to datatype mokhtalef hastan."
      ],
      "metadata": {
        "id": "8n30YkK33SY0"
      }
    },
    {
      "cell_type": "code",
      "source": [
        "results = soup.find(id=\"__next\")"
      ],
      "metadata": {
        "id": "D7CfZM7v3Or8"
      },
      "execution_count": 10,
      "outputs": []
    },
    {
      "cell_type": "code",
      "source": [
        "print(results.prettify())"
      ],
      "metadata": {
        "id": "DyOPGjg4rYJA"
      },
      "execution_count": null,
      "outputs": []
    },
    {
      "cell_type": "markdown",
      "source": [
        "biaim va baham bebinim ke chjuri mitoonim yek container ro az dakhele code e HTML emoon estekhraj konim. ba tavajoh be inke midoonim che etelaati mikhaim, miaim va `tag` va `calss name` e oon container emoon ro moshakhas mikonim."
      ],
      "metadata": {
        "id": "jtUu9CcYzX6t"
      }
    },
    {
      "cell_type": "code",
      "source": [
        "coins_details = results.find_all(\"div\", class_=\"sc-aef7b723-0 sc-adbfcfff-1 klolJt\")"
      ],
      "metadata": {
        "id": "8lageUBDrY7M"
      },
      "execution_count": 27,
      "outputs": []
    },
    {
      "cell_type": "markdown",
      "source": [
        "Hala check konim yeki az object hamoon ro ke aya tebghe oon chizi ke madde nazaremooon bood, hast ya na."
      ],
      "metadata": {
        "id": "gpLAIJbTzqR2"
      }
    },
    {
      "cell_type": "code",
      "source": [
        "coins_details[0]"
      ],
      "metadata": {
        "colab": {
          "base_uri": "https://localhost:8080/"
        },
        "id": "ZQ5v2bVwvwzt",
        "outputId": "9a7e4fd9-2e19-438d-b821-d671cdb886b5"
      },
      "execution_count": 33,
      "outputs": [
        {
          "output_type": "execute_result",
          "data": {
            "text/plain": [
              "<div class=\"sc-aef7b723-0 sc-adbfcfff-1 klolJt\"><div class=\"sc-aef7b723-0 sc-adbfcfff-2 iOUohe hide-ranking-number\"><p class=\"sc-4984dd93-0 kKpPOn\" color=\"text\" data-sensors-click=\"true\" font-size=\"1\" font-weight=\"semibold\">Bitcoin</p><div class=\"sc-adbfcfff-3 dDrhas\" data-nosnippet=\"true\"><p class=\"sc-4984dd93-0 iqdbQL coin-item-symbol\" color=\"text3\" data-sensors-click=\"true\" font-size=\"1\">BTC</p></div></div></div>"
            ]
          },
          "metadata": {},
          "execution_count": 33
        }
      ]
    },
    {
      "cell_type": "markdown",
      "source": [
        "Hala tooye list e `coins_details` micharkhim va doone doone coin_name va coin_short_name ro ba tavajoh be `tag` va `class name` esh estekhraj mikonim va tooye variable ha mirizim."
      ],
      "metadata": {
        "id": "v9IMGsYGzxJ2"
      }
    },
    {
      "cell_type": "code",
      "source": [
        "for coin_detail in coins_details:\n",
        "    coin_name = coin_detail.find(\"p\", class_=\"sc-4984dd93-0 kKpPOn\")\n",
        "    coin_short_name = coin_detail.find(\"p\", class_=\"sc-4984dd93-0 iqdbQL coin-item-symbol\")\n",
        "\n",
        "    print(f\"Coin name: {coin_name}\\nCoin short name: {coin_short_name}\\n\\n\")"
      ],
      "metadata": {
        "colab": {
          "base_uri": "https://localhost:8080/"
        },
        "id": "6TPPWHCMsr-g",
        "outputId": "364ccc5a-cdc6-44c6-af6f-9d7b253f5016"
      },
      "execution_count": 28,
      "outputs": [
        {
          "output_type": "stream",
          "name": "stdout",
          "text": [
            "Coin name: <p class=\"sc-4984dd93-0 kKpPOn\" color=\"text\" data-sensors-click=\"true\" font-size=\"1\" font-weight=\"semibold\">Bitcoin</p>\n",
            "Coin short name: <p class=\"sc-4984dd93-0 iqdbQL coin-item-symbol\" color=\"text3\" data-sensors-click=\"true\" font-size=\"1\">BTC</p>\n",
            "\n",
            "\n",
            "Coin name: <p class=\"sc-4984dd93-0 kKpPOn\" color=\"text\" data-sensors-click=\"true\" font-size=\"1\" font-weight=\"semibold\">Ethereum</p>\n",
            "Coin short name: <p class=\"sc-4984dd93-0 iqdbQL coin-item-symbol\" color=\"text3\" data-sensors-click=\"true\" font-size=\"1\">ETH</p>\n",
            "\n",
            "\n",
            "Coin name: <p class=\"sc-4984dd93-0 kKpPOn\" color=\"text\" data-sensors-click=\"true\" font-size=\"1\" font-weight=\"semibold\">Tether USDt</p>\n",
            "Coin short name: <p class=\"sc-4984dd93-0 iqdbQL coin-item-symbol\" color=\"text3\" data-sensors-click=\"true\" font-size=\"1\">USDT</p>\n",
            "\n",
            "\n",
            "Coin name: <p class=\"sc-4984dd93-0 kKpPOn\" color=\"text\" data-sensors-click=\"true\" font-size=\"1\" font-weight=\"semibold\">BNB</p>\n",
            "Coin short name: <p class=\"sc-4984dd93-0 iqdbQL coin-item-symbol\" color=\"text3\" data-sensors-click=\"true\" font-size=\"1\">BNB</p>\n",
            "\n",
            "\n",
            "Coin name: <p class=\"sc-4984dd93-0 kKpPOn\" color=\"text\" data-sensors-click=\"true\" font-size=\"1\" font-weight=\"semibold\">Solana</p>\n",
            "Coin short name: <p class=\"sc-4984dd93-0 iqdbQL coin-item-symbol\" color=\"text3\" data-sensors-click=\"true\" font-size=\"1\">SOL</p>\n",
            "\n",
            "\n",
            "Coin name: <p class=\"sc-4984dd93-0 kKpPOn\" color=\"text\" data-sensors-click=\"true\" font-size=\"1\" font-weight=\"semibold\">XRP</p>\n",
            "Coin short name: <p class=\"sc-4984dd93-0 iqdbQL coin-item-symbol\" color=\"text3\" data-sensors-click=\"true\" font-size=\"1\">XRP</p>\n",
            "\n",
            "\n",
            "Coin name: <p class=\"sc-4984dd93-0 kKpPOn\" color=\"text\" data-sensors-click=\"true\" font-size=\"1\" font-weight=\"semibold\">USDC</p>\n",
            "Coin short name: <p class=\"sc-4984dd93-0 iqdbQL coin-item-symbol\" color=\"text3\" data-sensors-click=\"true\" font-size=\"1\">USDC</p>\n",
            "\n",
            "\n",
            "Coin name: <p class=\"sc-4984dd93-0 kKpPOn\" color=\"text\" data-sensors-click=\"true\" font-size=\"1\" font-weight=\"semibold\">Cardano</p>\n",
            "Coin short name: <p class=\"sc-4984dd93-0 iqdbQL coin-item-symbol\" color=\"text3\" data-sensors-click=\"true\" font-size=\"1\">ADA</p>\n",
            "\n",
            "\n",
            "Coin name: <p class=\"sc-4984dd93-0 kKpPOn\" color=\"text\" data-sensors-click=\"true\" font-size=\"1\" font-weight=\"semibold\">Avalanche</p>\n",
            "Coin short name: <p class=\"sc-4984dd93-0 iqdbQL coin-item-symbol\" color=\"text3\" data-sensors-click=\"true\" font-size=\"1\">AVAX</p>\n",
            "\n",
            "\n",
            "Coin name: <p class=\"sc-4984dd93-0 kKpPOn\" color=\"text\" data-sensors-click=\"true\" font-size=\"1\" font-weight=\"semibold\">Dogecoin</p>\n",
            "Coin short name: <p class=\"sc-4984dd93-0 iqdbQL coin-item-symbol\" color=\"text3\" data-sensors-click=\"true\" font-size=\"1\">DOGE</p>\n",
            "\n",
            "\n"
          ]
        }
      ]
    },
    {
      "cell_type": "markdown",
      "source": [
        "Faghat baraye ma text mohem hast, va baghieie chizhayi ke print mishe ro lazem nadarim, pas bejaye `coin_name` mitoonim az `coin_name.text` estefade konim, baraye coin_short_name ham hamintor."
      ],
      "metadata": {
        "id": "A3ab7M4dzU4w"
      }
    },
    {
      "cell_type": "code",
      "source": [
        "example = coins_details[0].find(\"p\", class_=\"sc-4984dd93-0 kKpPOn\")"
      ],
      "metadata": {
        "id": "BNROcfU602Z-"
      },
      "execution_count": 37,
      "outputs": []
    },
    {
      "cell_type": "code",
      "source": [
        "type(example)"
      ],
      "metadata": {
        "colab": {
          "base_uri": "https://localhost:8080/"
        },
        "id": "7ua-QzVL1Cj_",
        "outputId": "f977d255-4a25-4526-c58e-77971dc42e82"
      },
      "execution_count": 38,
      "outputs": [
        {
          "output_type": "execute_result",
          "data": {
            "text/plain": [
              "bs4.element.Tag"
            ]
          },
          "metadata": {},
          "execution_count": 38
        }
      ]
    },
    {
      "cell_type": "code",
      "source": [
        "for coin_detail in coins_details:\n",
        "    coin_name = coin_detail.find(\"p\", class_=\"sc-4984dd93-0 kKpPOn\")\n",
        "    coin_short_name = coin_detail.find(\"p\", class_=\"sc-4984dd93-0 iqdbQL coin-item-symbol\")\n",
        "\n",
        "    print(f\"Coin name: {coin_name.text}\\nCoin short name: {coin_short_name.text}\\n\\n\")"
      ],
      "metadata": {
        "colab": {
          "base_uri": "https://localhost:8080/"
        },
        "id": "arYxLy2GuE5J",
        "outputId": "b20d8ca8-ba19-4c96-fd00-d760fabf1237"
      },
      "execution_count": 34,
      "outputs": [
        {
          "output_type": "stream",
          "name": "stdout",
          "text": [
            "Coin name: Bitcoin\n",
            "Coin short name: BTC\n",
            "\n",
            "\n",
            "Coin name: Ethereum\n",
            "Coin short name: ETH\n",
            "\n",
            "\n",
            "Coin name: Tether USDt\n",
            "Coin short name: USDT\n",
            "\n",
            "\n",
            "Coin name: BNB\n",
            "Coin short name: BNB\n",
            "\n",
            "\n",
            "Coin name: Solana\n",
            "Coin short name: SOL\n",
            "\n",
            "\n",
            "Coin name: XRP\n",
            "Coin short name: XRP\n",
            "\n",
            "\n",
            "Coin name: USDC\n",
            "Coin short name: USDC\n",
            "\n",
            "\n",
            "Coin name: Cardano\n",
            "Coin short name: ADA\n",
            "\n",
            "\n",
            "Coin name: Avalanche\n",
            "Coin short name: AVAX\n",
            "\n",
            "\n",
            "Coin name: Dogecoin\n",
            "Coin short name: DOGE\n",
            "\n",
            "\n"
          ]
        }
      ]
    },
    {
      "cell_type": "markdown",
      "source": [
        "**Next Session's assignment**\n",
        "\n",
        "1. Link pain ro dobare murur konin (optional): https://realpython.com/beautiful-soup-web-scraper-python/\n",
        "\n",
        "2. https://coinmarketcap.com/rankings/exchanges/\n",
        "Baraye man `Exchange name` va `Score` ro estekhraj konin va mesle mesale bala print konin."
      ],
      "metadata": {
        "id": "L1EasADg2Z8-"
      }
    }
  ]
}