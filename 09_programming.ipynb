{
  "nbformat": 4,
  "nbformat_minor": 0,
  "metadata": {
    "colab": {
      "provenance": [],
      "authorship_tag": "ABX9TyPPA/UkHpIOz28Ftq6fbcb6",
      "include_colab_link": true
    },
    "kernelspec": {
      "name": "python3",
      "display_name": "Python 3"
    },
    "language_info": {
      "name": "python"
    }
  },
  "cells": [
    {
      "cell_type": "markdown",
      "metadata": {
        "id": "view-in-github",
        "colab_type": "text"
      },
      "source": [
        "<a href=\"https://colab.research.google.com/github/heispv/programming-feb2023/blob/master/09_programming.ipynb\" target=\"_parent\"><img src=\"https://colab.research.google.com/assets/colab-badge.svg\" alt=\"Open In Colab\"/></a>"
      ]
    },
    {
      "cell_type": "markdown",
      "source": [
        "# Break\n",
        "\n",
        "Keyword e brake vaghti ke tooye yek ghesmat az code e ma hast dakhele loop zamani ke be oon berese dge baghieye oon loop ejra nemishe. az khode manisham moshakhase.\n",
        "\n",
        "* zamani ke break tooye loop residim. halghe tamoom mishe."
      ],
      "metadata": {
        "id": "aDJhp-LcAJ1C"
      }
    },
    {
      "cell_type": "code",
      "source": [
        "for i in range(10):\n",
        "  print(f'ghable if {i}')\n",
        "  \n",
        "  if i == 3:\n",
        "    break\n",
        "\n",
        "  print(f'bade if {i}')\n"
      ],
      "metadata": {
        "colab": {
          "base_uri": "https://localhost:8080/"
        },
        "id": "wZLTVoXRAaLq",
        "outputId": "8090000e-7919-4ad4-9920-d70421f9aee9"
      },
      "execution_count": null,
      "outputs": [
        {
          "output_type": "stream",
          "name": "stdout",
          "text": [
            "ghable if 0\n",
            "bade if 0\n",
            "ghable if 1\n",
            "bade if 1\n",
            "ghable if 2\n",
            "bade if 2\n",
            "ghable if 3\n"
          ]
        }
      ]
    },
    {
      "cell_type": "markdown",
      "source": [
        "# While"
      ],
      "metadata": {
        "id": "sBk3-ORv_kXr"
      }
    },
    {
      "cell_type": "code",
      "source": [
        "i = 1\n",
        "while i < 6:\n",
        "  print(i)\n",
        "  i += 1"
      ],
      "metadata": {
        "colab": {
          "base_uri": "https://localhost:8080/"
        },
        "id": "s-H_gvTbBoUx",
        "outputId": "595c1871-d141-4fe1-bb4d-08adfccbd615"
      },
      "execution_count": null,
      "outputs": [
        {
          "output_type": "stream",
          "name": "stdout",
          "text": [
            "1\n",
            "2\n",
            "3\n",
            "4\n",
            "5\n"
          ]
        }
      ]
    },
    {
      "cell_type": "code",
      "source": [
        "count = 0\n",
        "while count < 5:\n",
        "    print(\"The count is:\", count)\n",
        "    count += 1\n",
        "print(\"Finished counting!\")"
      ],
      "metadata": {
        "colab": {
          "base_uri": "https://localhost:8080/"
        },
        "id": "BOEyg03kB5Zd",
        "outputId": "900cdc51-0ad9-404b-e40e-dc342caedf02"
      },
      "execution_count": null,
      "outputs": [
        {
          "output_type": "stream",
          "name": "stdout",
          "text": [
            "The count is: 0\n",
            "The count is: 1\n",
            "The count is: 2\n",
            "The count is: 3\n",
            "The count is: 4\n",
            "Finished counting!\n"
          ]
        }
      ]
    },
    {
      "cell_type": "code",
      "source": [
        "import random\n",
        "\n",
        "number = random.randint(1, 10)\n",
        "guess = None\n",
        "attempts = 0\n",
        "\n",
        "print(\"Guess the number between 1 and 10!\")\n",
        "\n",
        "while guess != number:\n",
        "    guess = int(input(\"Enter your guess: \"))\n",
        "    attempts += 1\n",
        "\n",
        "    if guess < number:\n",
        "        print(\"Too low, try again!\")\n",
        "    elif guess > number:\n",
        "        print(\"Too high, try again!\")\n",
        "\n",
        "print(f\"Congratulations, you guessed the number in {attempts} attempts!\")"
      ],
      "metadata": {
        "colab": {
          "base_uri": "https://localhost:8080/"
        },
        "id": "kvCHzH7uC908",
        "outputId": "0165dad7-b8cc-41a2-94d4-258df94e39b2"
      },
      "execution_count": null,
      "outputs": [
        {
          "output_type": "stream",
          "name": "stdout",
          "text": [
            "Guess the number between 1 and 10!\n",
            "Enter your guess: 5\n",
            "Too low, try again!\n",
            "Enter your guess: 7\n",
            "Too low, try again!\n",
            "Enter your guess: 8\n",
            "Too low, try again!\n",
            "Enter your guess: 9\n",
            "Too low, try again!\n",
            "Enter your guess: 10\n",
            "Congratulations, you guessed the number in 5 attempts!\n"
          ]
        }
      ]
    },
    {
      "cell_type": "code",
      "source": [
        "number = int(input(\"Enter a positive integer: \"))\n",
        "factorial = 1\n",
        "\n",
        "while number > 0:\n",
        "    factorial *= number\n",
        "    number -= 1\n",
        "\n",
        "print(\"The factorial is:\", factorial)"
      ],
      "metadata": {
        "colab": {
          "base_uri": "https://localhost:8080/"
        },
        "id": "BFK5xEacGfU2",
        "outputId": "da49146b-6e71-4daf-dbb6-7b04fc73b792"
      },
      "execution_count": null,
      "outputs": [
        {
          "output_type": "stream",
          "name": "stdout",
          "text": [
            "Enter a positive integer: 8\n",
            "The factorial is: 40320\n"
          ]
        }
      ]
    },
    {
      "cell_type": "markdown",
      "source": [
        "# Function"
      ],
      "metadata": {
        "id": "bX_-IqOLGsy7"
      }
    },
    {
      "cell_type": "code",
      "source": [
        "def say_hello():\n",
        "  print('Hello and good morning.')"
      ],
      "metadata": {
        "id": "YLrA5ggRIATG"
      },
      "execution_count": null,
      "outputs": []
    },
    {
      "cell_type": "code",
      "source": [
        "say_hello()"
      ],
      "metadata": {
        "colab": {
          "base_uri": "https://localhost:8080/"
        },
        "id": "5pzk9m4vIR80",
        "outputId": "802413e1-591f-45c3-fe4d-394a502cdd84"
      },
      "execution_count": null,
      "outputs": [
        {
          "output_type": "stream",
          "name": "stdout",
          "text": [
            "Hello and good morning.\n"
          ]
        }
      ]
    },
    {
      "cell_type": "code",
      "source": [
        "def say_hello_1(name):\n",
        "  print(f'Hello {name}, good morning.')"
      ],
      "metadata": {
        "id": "M0L3r3soIZtu"
      },
      "execution_count": null,
      "outputs": []
    },
    {
      "cell_type": "code",
      "source": [
        "say_hello_1('Ali')"
      ],
      "metadata": {
        "colab": {
          "base_uri": "https://localhost:8080/"
        },
        "id": "lvdQVGwBIz_P",
        "outputId": "90e3573b-63a3-4566-966a-d3d6290aa233"
      },
      "execution_count": null,
      "outputs": [
        {
          "output_type": "stream",
          "name": "stdout",
          "text": [
            "Hello Ali, good morning.\n"
          ]
        }
      ]
    },
    {
      "cell_type": "code",
      "source": [
        "def calculate_your_age(name, birth_year):\n",
        "  '''\n",
        "  This function gets your name and birth_year\n",
        "  and then returns a sentence with your name and\n",
        "  age information.\n",
        "  '''\n",
        "  age = 2023 - birth_year\n",
        "  print(f'Hello {name} you are {age} years old.')\n",
        "\n",
        "  return age"
      ],
      "metadata": {
        "id": "_YVI9RDcI3hO"
      },
      "execution_count": null,
      "outputs": []
    },
    {
      "cell_type": "code",
      "source": [
        "my_age = calculate_your_age('Zahra', 1999)"
      ],
      "metadata": {
        "colab": {
          "base_uri": "https://localhost:8080/"
        },
        "id": "PNirJHi8JacO",
        "outputId": "b7136513-944c-4dce-94ff-47ddad056ed8"
      },
      "execution_count": null,
      "outputs": [
        {
          "output_type": "stream",
          "name": "stdout",
          "text": [
            "calculation is done\n"
          ]
        }
      ]
    },
    {
      "cell_type": "code",
      "source": [
        "my_age"
      ],
      "metadata": {
        "colab": {
          "base_uri": "https://localhost:8080/"
        },
        "id": "ymuNPKM7LWCm",
        "outputId": "cd0e0a36-8871-4dfa-bf15-7643a8008a37"
      },
      "execution_count": null,
      "outputs": [
        {
          "output_type": "execute_result",
          "data": {
            "text/plain": [
              "24"
            ]
          },
          "metadata": {},
          "execution_count": 32
        }
      ]
    },
    {
      "cell_type": "code",
      "source": [
        "def add_numbers(x, y):\n",
        "    \"\"\"\n",
        "    This function adds two numbers and returns the result.\n",
        "    \"\"\"\n",
        "    result = x + y\n",
        "    return result"
      ],
      "metadata": {
        "id": "81y7bnW1JqZO"
      },
      "execution_count": null,
      "outputs": []
    },
    {
      "cell_type": "code",
      "source": [
        "total_num = add_numbers(2, 5)"
      ],
      "metadata": {
        "id": "9IYljhDrKwcc"
      },
      "execution_count": null,
      "outputs": []
    },
    {
      "cell_type": "code",
      "source": [
        "total_num"
      ],
      "metadata": {
        "colab": {
          "base_uri": "https://localhost:8080/"
        },
        "id": "Zz3NOTRPLqqT",
        "outputId": "3c5a1796-5732-4b67-d773-03eb633b2069"
      },
      "execution_count": null,
      "outputs": [
        {
          "output_type": "execute_result",
          "data": {
            "text/plain": [
              "7"
            ]
          },
          "metadata": {},
          "execution_count": 36
        }
      ]
    },
    {
      "cell_type": "code",
      "source": [
        "max([1, 2, 3, 4, 5, 10])"
      ],
      "metadata": {
        "colab": {
          "base_uri": "https://localhost:8080/"
        },
        "id": "xBvL_wDTL0Jm",
        "outputId": "c3c455b1-75b2-47ca-cdd7-f5cc0f168adc"
      },
      "execution_count": null,
      "outputs": [
        {
          "output_type": "execute_result",
          "data": {
            "text/plain": [
              "10"
            ]
          },
          "metadata": {},
          "execution_count": 37
        }
      ]
    },
    {
      "cell_type": "code",
      "source": [
        "def find_max(numbers):\n",
        "    \"\"\"\n",
        "    This function takes a list of numbers as input\n",
        "    and returns the maximum value in the list.\n",
        "    If the list is empty, the function returns None.\n",
        "    \"\"\"\n",
        "    if not numbers:\n",
        "        return None\n",
        "    else:\n",
        "        max_number = numbers[0]\n",
        "        for number in numbers:\n",
        "            if number > max_number:\n",
        "                max_number = number\n",
        "        return max_number\n"
      ],
      "metadata": {
        "id": "flNFXIBmMC0G"
      },
      "execution_count": null,
      "outputs": []
    },
    {
      "cell_type": "code",
      "source": [
        "find_max([])"
      ],
      "metadata": {
        "id": "Y8kktCcMMK1a"
      },
      "execution_count": null,
      "outputs": []
    },
    {
      "cell_type": "code",
      "source": [
        "def calculate_grade(marks):\n",
        "    \"\"\"\n",
        "    This function takes a list of marks as input and returns the corresponding grade based on the following scale:\n",
        "    90-100: A+\n",
        "    85-89: A\n",
        "    80-84: A-\n",
        "    75-79: B+\n",
        "    70-74: B\n",
        "    65-69: C+\n",
        "    60-64: C\n",
        "    55-59: D+\n",
        "    50-54: D\n",
        "    0-49: F\n",
        "    \"\"\"\n",
        "    if not marks:\n",
        "        return \"Enter sth\"\n",
        "    \n",
        "    average = sum(marks) / len(marks)\n",
        "    print(average)\n",
        "    \n",
        "    if average >= 90:\n",
        "        return \"A+\"\n",
        "    elif average >= 85:\n",
        "        return \"A\"\n",
        "    elif average >= 80:\n",
        "        return \"A-\"\n",
        "    elif average >= 75:\n",
        "        return \"B+\"\n",
        "    elif average >= 70:\n",
        "        return \"B\"\n",
        "    elif average >= 65:\n",
        "        return \"C+\"\n",
        "    elif average >= 60:\n",
        "        return \"C\"\n",
        "    elif average >= 55:\n",
        "        return \"D+\"\n",
        "    elif average >= 50:\n",
        "        return \"D\"\n",
        "    else:\n",
        "        return \"F\"\n"
      ],
      "metadata": {
        "id": "figQjTPGMOma"
      },
      "execution_count": null,
      "outputs": []
    },
    {
      "cell_type": "code",
      "source": [
        "final_grade = calculate_grade([90, 83, 20, 88, 70, 75, 65])"
      ],
      "metadata": {
        "colab": {
          "base_uri": "https://localhost:8080/"
        },
        "id": "gXy52URPOkjI",
        "outputId": "63b972af-6d31-4fb8-e04a-ca876947b0f5"
      },
      "execution_count": null,
      "outputs": [
        {
          "output_type": "stream",
          "name": "stdout",
          "text": [
            "70.14285714285714\n"
          ]
        }
      ]
    },
    {
      "cell_type": "code",
      "source": [
        "print(final_grade)"
      ],
      "metadata": {
        "colab": {
          "base_uri": "https://localhost:8080/"
        },
        "id": "7yhYnHa4OnvA",
        "outputId": "0d51405e-32fc-47ec-ee8d-e59be564a0b1"
      },
      "execution_count": null,
      "outputs": [
        {
          "output_type": "stream",
          "name": "stdout",
          "text": [
            "B\n"
          ]
        }
      ]
    },
    {
      "cell_type": "code",
      "source": [
        "import matplotlib.pyplot as plt"
      ],
      "metadata": {
        "id": "oiM1dNhzPfpD"
      },
      "execution_count": null,
      "outputs": []
    },
    {
      "cell_type": "code",
      "source": [
        "x = [1, 2, 3, 4, 5]\n",
        "y = [2, 5, 7, 9, 10]\n",
        "\n",
        "plt.plot(x, y)"
      ],
      "metadata": {
        "colab": {
          "base_uri": "https://localhost:8080/",
          "height": 447
        },
        "id": "QVf5BV7DQbIn",
        "outputId": "20393e63-36fc-44c4-8555-c912bb90d25a"
      },
      "execution_count": null,
      "outputs": [
        {
          "output_type": "execute_result",
          "data": {
            "text/plain": [
              "[<matplotlib.lines.Line2D at 0x7f80ce314280>]"
            ]
          },
          "metadata": {},
          "execution_count": 49
        },
        {
          "output_type": "display_data",
          "data": {
            "text/plain": [
              "<Figure size 640x480 with 1 Axes>"
            ],
            "image/png": "[encoded data removed]"
          },
          "metadata": {}
        }
      ]
    },
    {
      "cell_type": "code",
      "source": [],
      "metadata": {
        "id": "A2ib2sK0Qm8e"
      },
      "execution_count": null,
      "outputs": []
    }
  ]
}