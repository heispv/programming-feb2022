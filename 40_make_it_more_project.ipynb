{
  "nbformat": 4,
  "nbformat_minor": 0,
  "metadata": {
    "colab": {
      "provenance": [],
      "authorship_tag": "ABX9TyPtvaHCA+NAruf9rvdMKe+q",
      "include_colab_link": true
    },
    "kernelspec": {
      "name": "python3",
      "display_name": "Python 3"
    },
    "language_info": {
      "name": "python"
    }
  },
  "cells": [
    {
      "cell_type": "markdown",
      "metadata": {
        "id": "view-in-github",
        "colab_type": "text"
      },
      "source": [
        "<a href=\"https://colab.research.google.com/github/heispv/programming-feb2023/blob/master/40_make_it_more_project.ipynb\" target=\"_parent\"><img src=\"https://colab.research.google.com/assets/colab-badge.svg\" alt=\"Open In Colab\"/></a>"
      ]
    },
    {
      "cell_type": "code",
      "source": [
        "import numpy as np"
      ],
      "metadata": {
        "id": "UXnCRhJgXK-t"
      },
      "execution_count": 11,
      "outputs": []
    },
    {
      "cell_type": "code",
      "execution_count": 8,
      "metadata": {
        "id": "sxOsFYtgK6Tr"
      },
      "outputs": [],
      "source": [
        "# Read the file\n",
        "with open(\"names.txt\", \"r\") as f:\n",
        "    names = f.read().splitlines()"
      ]
    },
    {
      "cell_type": "markdown",
      "source": [
        "`splitlines() == split('\\n')`"
      ],
      "metadata": {
        "id": "qBF64h2PUuPr"
      }
    },
    {
      "cell_type": "code",
      "source": [
        "names[:10]"
      ],
      "metadata": {
        "colab": {
          "base_uri": "https://localhost:8080/"
        },
        "id": "yffJypt6Lk03",
        "outputId": "1dff094c-2ab1-49e6-8d73-7a52e5b445c1"
      },
      "execution_count": null,
      "outputs": [
        {
          "output_type": "execute_result",
          "data": {
            "text/plain": [
              "['emma',\n",
              " 'olivia',\n",
              " 'ava',\n",
              " 'isabella',\n",
              " 'sophia',\n",
              " 'charlotte',\n",
              " 'mia',\n",
              " 'amelia',\n",
              " 'harper',\n",
              " 'evelyn']"
            ]
          },
          "metadata": {},
          "execution_count": 4
        }
      ]
    },
    {
      "cell_type": "code",
      "source": [
        "numbers = [1, 2, 3, 4, 5]"
      ],
      "metadata": {
        "id": "MDQMF92fNF3h"
      },
      "execution_count": null,
      "outputs": []
    },
    {
      "cell_type": "code",
      "source": [
        "names[:5]"
      ],
      "metadata": {
        "colab": {
          "base_uri": "https://localhost:8080/"
        },
        "id": "hPtnOPu4NavA",
        "outputId": "34350db6-16ba-4ae8-f5b2-bfee976db898"
      },
      "execution_count": null,
      "outputs": [
        {
          "output_type": "execute_result",
          "data": {
            "text/plain": [
              "['emma', 'olivia', 'ava', 'isabella', 'sophia']"
            ]
          },
          "metadata": {},
          "execution_count": 12
        }
      ]
    },
    {
      "cell_type": "code",
      "source": [
        "[name for name in names[:5]]"
      ],
      "metadata": {
        "colab": {
          "base_uri": "https://localhost:8080/"
        },
        "id": "MpLC4wS7OMUT",
        "outputId": "076b8b6c-9e55-43ce-c856-8b62b8bf6dfe"
      },
      "execution_count": null,
      "outputs": [
        {
          "output_type": "execute_result",
          "data": {
            "text/plain": [
              "['emma', 'olivia', 'ava', 'isabella', 'sophia']"
            ]
          },
          "metadata": {},
          "execution_count": 15
        }
      ]
    },
    {
      "cell_type": "code",
      "source": [
        "max([len(name) for name in names[:5]])"
      ],
      "metadata": {
        "colab": {
          "base_uri": "https://localhost:8080/"
        },
        "id": "HDCuzJ4lMsT0",
        "outputId": "0693ad28-a0cc-4a60-9e2f-9f982984b5c3"
      },
      "execution_count": null,
      "outputs": [
        {
          "output_type": "execute_result",
          "data": {
            "text/plain": [
              "8"
            ]
          },
          "metadata": {},
          "execution_count": 14
        }
      ]
    },
    {
      "cell_type": "code",
      "source": [
        "[len(name) for name in names[:5]]"
      ],
      "metadata": {
        "colab": {
          "base_uri": "https://localhost:8080/"
        },
        "id": "iwnZkJ8xOlcC",
        "outputId": "45cc4edc-df31-4853-fca8-0e04a70a7205"
      },
      "execution_count": null,
      "outputs": [
        {
          "output_type": "execute_result",
          "data": {
            "text/plain": [
              "[4, 6, 3, 8, 6]"
            ]
          },
          "metadata": {},
          "execution_count": 17
        }
      ]
    },
    {
      "cell_type": "code",
      "source": [
        "ans = []\n",
        "for name in names[:5]:\n",
        "    ans.append(len(name))\n",
        "ans"
      ],
      "metadata": {
        "colab": {
          "base_uri": "https://localhost:8080/"
        },
        "id": "tkicjiXpNgzy",
        "outputId": "b2733d24-117c-44e7-bd38-85dbd7ef15f5"
      },
      "execution_count": null,
      "outputs": [
        {
          "output_type": "execute_result",
          "data": {
            "text/plain": [
              "[4, 6, 3, 8, 6]"
            ]
          },
          "metadata": {},
          "execution_count": 13
        }
      ]
    },
    {
      "cell_type": "code",
      "source": [
        "my_array = np.array([1, 2, 3, 4, 20, 6, 70, 8])"
      ],
      "metadata": {
        "id": "TxzvT6cgXOGL"
      },
      "execution_count": 14,
      "outputs": []
    },
    {
      "cell_type": "code",
      "source": [
        "my_array[np.argmax(my_array)]"
      ],
      "metadata": {
        "colab": {
          "base_uri": "https://localhost:8080/"
        },
        "id": "L1wVJjWaXZk1",
        "outputId": "9138855d-f730-4e96-c21d-37b4cad02299"
      },
      "execution_count": 21,
      "outputs": [
        {
          "output_type": "execute_result",
          "data": {
            "text/plain": [
              "70"
            ]
          },
          "metadata": {},
          "execution_count": 21
        }
      ]
    },
    {
      "cell_type": "markdown",
      "source": [
        "pas code e bala az do ghesmat tashkil shode.\n",
        "ghesmat e aval `np.argmax(my_array)`->`6` va bad `my_array[6]`-> `70`"
      ],
      "metadata": {
        "id": "CllFi_R_Xphv"
      }
    },
    {
      "cell_type": "code",
      "source": [
        "names_index = np.array([len(name) for name in names])\n",
        "names[np.argmax(names_index)]"
      ],
      "metadata": {
        "colab": {
          "base_uri": "https://localhost:8080/",
          "height": 35
        },
        "id": "0q0KslvRYITz",
        "outputId": "0a172507-f1be-4afb-c374-b328e5467631"
      },
      "execution_count": 30,
      "outputs": [
        {
          "output_type": "execute_result",
          "data": {
            "text/plain": [
              "'muhammadibrahim'"
            ],
            "application/vnd.google.colaboratory.intrinsic+json": {
              "type": "string"
            }
          },
          "metadata": {},
          "execution_count": 30
        }
      ]
    },
    {
      "cell_type": "code",
      "source": [
        "print(f'Longest string in names: {max([len(name) for name in names])}')\n",
        "print(f'Shortest string in names: {min([len(name) for name in names])}')"
      ],
      "metadata": {
        "colab": {
          "base_uri": "https://localhost:8080/"
        },
        "id": "SZyZ1P2mLlv-",
        "outputId": "76953b57-ebb3-4b1c-d901-5792b0ac117a"
      },
      "execution_count": null,
      "outputs": [
        {
          "output_type": "stream",
          "name": "stdout",
          "text": [
            "Longest string in names: 15\n",
            "Shortest string in names: 2\n"
          ]
        }
      ]
    },
    {
      "cell_type": "code",
      "source": [
        "['<S>', list('emma'), '<E>']"
      ],
      "metadata": {
        "colab": {
          "base_uri": "https://localhost:8080/"
        },
        "id": "Wr6A7_4KQDj4",
        "outputId": "4b5a8292-cf7e-4d36-c600-5e9edd9c3afc"
      },
      "execution_count": null,
      "outputs": [
        {
          "output_type": "execute_result",
          "data": {
            "text/plain": [
              "['<S>', ['e', 'm', 'm', 'a'], '<E>']"
            ]
          },
          "metadata": {},
          "execution_count": 25
        }
      ]
    },
    {
      "cell_type": "code",
      "source": [
        "['<S>', 'emma', '<E>']"
      ],
      "metadata": {
        "colab": {
          "base_uri": "https://localhost:8080/"
        },
        "id": "jZZUFGv4PzC5",
        "outputId": "4a576d46-3397-464b-fb8f-9a8c8e01e9c0"
      },
      "execution_count": null,
      "outputs": [
        {
          "output_type": "execute_result",
          "data": {
            "text/plain": [
              "['<S>', 'emma', '<E>']"
            ]
          },
          "metadata": {},
          "execution_count": 27
        }
      ]
    },
    {
      "cell_type": "code",
      "source": [
        "['<S>', *list('emma'), '<E>']\n"
      ],
      "metadata": {
        "colab": {
          "base_uri": "https://localhost:8080/"
        },
        "id": "ZpkoApryPVE0",
        "outputId": "6087cd79-7ad4-46d9-fe62-b2e98a3b82f5"
      },
      "execution_count": null,
      "outputs": [
        {
          "output_type": "execute_result",
          "data": {
            "text/plain": [
              "['<S>', 'e', 'm', 'm', 'a', '<E>']"
            ]
          },
          "metadata": {},
          "execution_count": 26
        }
      ]
    },
    {
      "cell_type": "code",
      "source": [
        "# the importance of initialization\n",
        "numbers = 10\n",
        "my_list = []\n",
        "for i in range(numbers):\n",
        "    my_list.append(i)\n",
        "my_list"
      ],
      "metadata": {
        "colab": {
          "base_uri": "https://localhost:8080/"
        },
        "id": "ZOoiMkhFaR7c",
        "outputId": "f1ed6d49-74cd-4c67-c6a0-dcd9d6c696d1"
      },
      "execution_count": 31,
      "outputs": [
        {
          "output_type": "execute_result",
          "data": {
            "text/plain": [
              "[0, 1, 2, 3, 4, 5, 6, 7, 8, 9]"
            ]
          },
          "metadata": {},
          "execution_count": 31
        }
      ]
    },
    {
      "cell_type": "markdown",
      "source": [
        "1. []\n",
        "2. [0]\n",
        "3. [0, 1]\n",
        "4. [0, 1, 2]\n",
        ".\n",
        ".\n",
        ".\n",
        "10. [0, 1, 2, 3, 4, 5, 6, 7, 8, 9]"
      ],
      "metadata": {
        "id": "QiZ98fDzbACE"
      }
    },
    {
      "cell_type": "code",
      "source": [
        "# the importance of initialization\n",
        "numbers = 10\n",
        "my_list = [None] * numbers\n",
        "for i in range(numbers):\n",
        "    my_list[i] = i\n",
        "my_list"
      ],
      "metadata": {
        "colab": {
          "base_uri": "https://localhost:8080/"
        },
        "id": "BPzxdEmBamAb",
        "outputId": "5a36fb30-7d02-4f14-e72f-38cc10c19b3c"
      },
      "execution_count": 33,
      "outputs": [
        {
          "output_type": "execute_result",
          "data": {
            "text/plain": [
              "[0, 1, 2, 3, 4, 5, 6, 7, 8, 9]"
            ]
          },
          "metadata": {},
          "execution_count": 33
        }
      ]
    },
    {
      "cell_type": "code",
      "source": [
        "[None] * 10"
      ],
      "metadata": {
        "colab": {
          "base_uri": "https://localhost:8080/"
        },
        "id": "RlzkaI3Ka5B0",
        "outputId": "ed961364-8169-40e2-c3a4-4c9df1cab17e"
      },
      "execution_count": 35,
      "outputs": [
        {
          "output_type": "execute_result",
          "data": {
            "text/plain": [
              "[None, None, None, None, None, None, None, None, None, None]"
            ]
          },
          "metadata": {},
          "execution_count": 35
        }
      ]
    },
    {
      "cell_type": "code",
      "source": [
        "for name in names[:2]:\n",
        "    characters = ['<S>', *list(name), '<E>']\n",
        "    print(characters)\n",
        "    # print(characters[1:])\n",
        "    for i in range(len(characters)-1):\n",
        "        ch1 = characters[i]\n",
        "        ch2 = characters[i+1]\n",
        "        print(f'{ch1=}, {ch2=}')\n",
        "    print()"
      ],
      "metadata": {
        "colab": {
          "base_uri": "https://localhost:8080/"
        },
        "id": "6iUjgP7qRzjH",
        "outputId": "e34213eb-6b5f-491d-c24c-9f5fedf539ff"
      },
      "execution_count": 37,
      "outputs": [
        {
          "output_type": "stream",
          "name": "stdout",
          "text": [
            "['<S>', 'e', 'm', 'm', 'a', '<E>']\n",
            "ch1='<S>', ch2='e'\n",
            "ch1='e', ch2='m'\n",
            "ch1='m', ch2='m'\n",
            "ch1='m', ch2='a'\n",
            "ch1='a', ch2='<E>'\n",
            "\n",
            "['<S>', 'o', 'l', 'i', 'v', 'i', 'a', '<E>']\n",
            "ch1='<S>', ch2='o'\n",
            "ch1='o', ch2='l'\n",
            "ch1='l', ch2='i'\n",
            "ch1='i', ch2='v'\n",
            "ch1='v', ch2='i'\n",
            "ch1='i', ch2='a'\n",
            "ch1='a', ch2='<E>'\n",
            "\n"
          ]
        }
      ]
    },
    {
      "cell_type": "code",
      "source": [
        "b = {3: 'salam'}"
      ],
      "metadata": {
        "id": "SFbrAmIYWJ2g"
      },
      "execution_count": 38,
      "outputs": []
    },
    {
      "cell_type": "markdown",
      "source": [
        "`b.get(num1, num2)` miad aval mibine ke tooye `b` aya kilid e `num1` vujud dare yana. yani amalan `b[num1]` search mikone, agar vujud dasht meghdare value oon kilid ro barmigardoone, dar gheire in soorat `num2` ro barmigardoone."
      ],
      "metadata": {
        "id": "c_PaiLWXW3eU"
      }
    },
    {
      "cell_type": "code",
      "source": [
        "b.get(3, 100)"
      ],
      "metadata": {
        "colab": {
          "base_uri": "https://localhost:8080/",
          "height": 35
        },
        "id": "0uJW_dobXX-g",
        "outputId": "4cd0c22c-0705-4ceb-9df6-e63610609507"
      },
      "execution_count": 40,
      "outputs": [
        {
          "output_type": "execute_result",
          "data": {
            "text/plain": [
              "'salam'"
            ],
            "application/vnd.google.colaboratory.intrinsic+json": {
              "type": "string"
            }
          },
          "metadata": {},
          "execution_count": 40
        }
      ]
    },
    {
      "cell_type": "code",
      "source": [
        "b.get(2, 100)"
      ],
      "metadata": {
        "colab": {
          "base_uri": "https://localhost:8080/"
        },
        "id": "zbbONBmZWoGC",
        "outputId": "bd869c6d-a329-4ba4-ea24-f25e4360feef"
      },
      "execution_count": 41,
      "outputs": [
        {
          "output_type": "execute_result",
          "data": {
            "text/plain": [
              "100"
            ]
          },
          "metadata": {},
          "execution_count": 41
        }
      ]
    },
    {
      "cell_type": "code",
      "source": [
        "b = dict()\n",
        "\n",
        "for name in names:\n",
        "    characters = ['<S>', *list(name), '<E>']\n",
        "    for ch1, ch2 in zip(characters, characters[1:]):\n",
        "        b[(ch1, ch2)] = b.get((ch1, ch2), 0) + 1"
      ],
      "metadata": {
        "id": "mPfAsgWVQJox"
      },
      "execution_count": 42,
      "outputs": []
    },
    {
      "cell_type": "code",
      "source": [
        "b"
      ],
      "metadata": {
        "colab": {
          "base_uri": "https://localhost:8080/"
        },
        "id": "3z-mx_9MXzsT",
        "outputId": "77e07e8d-70e3-4a9d-a3ff-436b6409c68a"
      },
      "execution_count": 43,
      "outputs": [
        {
          "output_type": "execute_result",
          "data": {
            "text/plain": [
              "{('<S>', 'e'): 1531,\n",
              " ('e', 'm'): 769,\n",
              " ('m', 'm'): 168,\n",
              " ('m', 'a'): 2590,\n",
              " ('a', '<E>'): 6640,\n",
              " ('<S>', 'o'): 394,\n",
              " ('o', 'l'): 619,\n",
              " ('l', 'i'): 2480,\n",
              " ('i', 'v'): 269,\n",
              " ('v', 'i'): 911,\n",
              " ('i', 'a'): 2445,\n",
              " ('<S>', 'a'): 4410,\n",
              " ('a', 'v'): 834,\n",
              " ('v', 'a'): 642,\n",
              " ('<S>', 'i'): 591,\n",
              " ('i', 's'): 1316,\n",
              " ('s', 'a'): 1201,\n",
              " ('a', 'b'): 541,\n",
              " ('b', 'e'): 655,\n",
              " ('e', 'l'): 3248,\n",
              " ('l', 'l'): 1345,\n",
              " ('l', 'a'): 2623,\n",
              " ('<S>', 's'): 2055,\n",
              " ('s', 'o'): 531,\n",
              " ('o', 'p'): 95,\n",
              " ('p', 'h'): 204,\n",
              " ('h', 'i'): 729,\n",
              " ('<S>', 'c'): 1542,\n",
              " ('c', 'h'): 664,\n",
              " ('h', 'a'): 2244,\n",
              " ('a', 'r'): 3264,\n",
              " ('r', 'l'): 413,\n",
              " ('l', 'o'): 692,\n",
              " ('o', 't'): 118,\n",
              " ('t', 't'): 374,\n",
              " ('t', 'e'): 716,\n",
              " ('e', '<E>'): 3983,\n",
              " ('<S>', 'm'): 2538,\n",
              " ('m', 'i'): 1256,\n",
              " ('a', 'm'): 1634,\n",
              " ('m', 'e'): 818,\n",
              " ('<S>', 'h'): 874,\n",
              " ('r', 'p'): 14,\n",
              " ('p', 'e'): 197,\n",
              " ('e', 'r'): 1958,\n",
              " ('r', '<E>'): 1377,\n",
              " ('e', 'v'): 463,\n",
              " ('v', 'e'): 568,\n",
              " ('l', 'y'): 1588,\n",
              " ('y', 'n'): 1826,\n",
              " ('n', '<E>'): 6763,\n",
              " ('b', 'i'): 217,\n",
              " ('i', 'g'): 428,\n",
              " ('g', 'a'): 330,\n",
              " ('a', 'i'): 1650,\n",
              " ('i', 'l'): 1345,\n",
              " ('l', '<E>'): 1314,\n",
              " ('y', '<E>'): 2007,\n",
              " ('i', 'z'): 277,\n",
              " ('z', 'a'): 860,\n",
              " ('e', 't'): 580,\n",
              " ('t', 'h'): 647,\n",
              " ('h', '<E>'): 2409,\n",
              " ('r', 'y'): 773,\n",
              " ('o', 'f'): 34,\n",
              " ('f', 'i'): 160,\n",
              " ('c', 'a'): 815,\n",
              " ('r', 'i'): 3033,\n",
              " ('s', 'c'): 60,\n",
              " ('l', 'e'): 2921,\n",
              " ('t', '<E>'): 483,\n",
              " ('<S>', 'v'): 376,\n",
              " ('i', 'c'): 509,\n",
              " ('c', 't'): 35,\n",
              " ('t', 'o'): 667,\n",
              " ('o', 'r'): 1059,\n",
              " ('a', 'd'): 1042,\n",
              " ('d', 'i'): 674,\n",
              " ('o', 'n'): 2411,\n",
              " ('<S>', 'l'): 1572,\n",
              " ('l', 'u'): 324,\n",
              " ('u', 'n'): 275,\n",
              " ('n', 'a'): 2977,\n",
              " ('<S>', 'g'): 669,\n",
              " ('g', 'r'): 201,\n",
              " ('r', 'a'): 2356,\n",
              " ('a', 'c'): 470,\n",
              " ('c', 'e'): 551,\n",
              " ('h', 'l'): 185,\n",
              " ('o', 'e'): 132,\n",
              " ('<S>', 'p'): 515,\n",
              " ('e', 'n'): 2675,\n",
              " ('n', 'e'): 1359,\n",
              " ('a', 'y'): 2050,\n",
              " ('y', 'l'): 1104,\n",
              " ('<S>', 'r'): 1639,\n",
              " ('e', 'y'): 1070,\n",
              " ('<S>', 'z'): 929,\n",
              " ('z', 'o'): 110,\n",
              " ('<S>', 'n'): 1146,\n",
              " ('n', 'o'): 496,\n",
              " ('e', 'a'): 679,\n",
              " ('a', 'n'): 5438,\n",
              " ('n', 'n'): 1906,\n",
              " ('a', 'h'): 2332,\n",
              " ('d', 'd'): 149,\n",
              " ('a', 'u'): 381,\n",
              " ('u', 'b'): 103,\n",
              " ('b', 'r'): 842,\n",
              " ('r', 'e'): 1697,\n",
              " ('i', 'e'): 1653,\n",
              " ('s', 't'): 765,\n",
              " ('a', 't'): 687,\n",
              " ('t', 'a'): 1027,\n",
              " ('a', 'l'): 2528,\n",
              " ('a', 'z'): 435,\n",
              " ('z', 'e'): 373,\n",
              " ('i', 'o'): 588,\n",
              " ('u', 'r'): 414,\n",
              " ('r', 'o'): 869,\n",
              " ('u', 'd'): 136,\n",
              " ('d', 'r'): 424,\n",
              " ('<S>', 'b'): 1306,\n",
              " ('o', 'o'): 115,\n",
              " ('o', 'k'): 68,\n",
              " ('k', 'l'): 139,\n",
              " ('c', 'l'): 116,\n",
              " ('i', 'r'): 849,\n",
              " ('s', 'k'): 82,\n",
              " ('k', 'y'): 379,\n",
              " ('u', 'c'): 103,\n",
              " ('c', 'y'): 104,\n",
              " ('p', 'a'): 209,\n",
              " ('s', 'l'): 279,\n",
              " ('i', 'n'): 2126,\n",
              " ('o', 'v'): 176,\n",
              " ('g', 'e'): 334,\n",
              " ('e', 's'): 861,\n",
              " ('s', 'i'): 684,\n",
              " ('s', '<E>'): 1169,\n",
              " ('<S>', 'k'): 2963,\n",
              " ('k', 'e'): 895,\n",
              " ('e', 'd'): 384,\n",
              " ('d', 'y'): 317,\n",
              " ('n', 't'): 443,\n",
              " ('y', 'a'): 2143,\n",
              " ('<S>', 'w'): 307,\n",
              " ('w', 'i'): 148,\n",
              " ('o', 'w'): 114,\n",
              " ('w', '<E>'): 51,\n",
              " ('k', 'i'): 509,\n",
              " ('n', 's'): 278,\n",
              " ('a', 'o'): 63,\n",
              " ('o', 'm'): 261,\n",
              " ('i', '<E>'): 2489,\n",
              " ('a', 'a'): 556,\n",
              " ('i', 'y'): 779,\n",
              " ('d', 'e'): 1283,\n",
              " ('c', 'o'): 380,\n",
              " ('r', 'u'): 252,\n",
              " ('b', 'y'): 83,\n",
              " ('s', 'e'): 884,\n",
              " ('n', 'i'): 1725,\n",
              " ('i', 't'): 541,\n",
              " ('t', 'y'): 341,\n",
              " ('u', 't'): 82,\n",
              " ('t', 'u'): 78,\n",
              " ('u', 'm'): 154,\n",
              " ('m', 'n'): 20,\n",
              " ('g', 'i'): 190,\n",
              " ('t', 'i'): 532,\n",
              " ('<S>', 'q'): 92,\n",
              " ('q', 'u'): 206,\n",
              " ('u', 'i'): 121,\n",
              " ('a', 'e'): 692,\n",
              " ('e', 'h'): 152,\n",
              " ('v', 'y'): 121,\n",
              " ('p', 'i'): 61,\n",
              " ('i', 'p'): 53,\n",
              " ('y', 'd'): 272,\n",
              " ('e', 'x'): 132,\n",
              " ('x', 'a'): 103,\n",
              " ('<S>', 'j'): 2422,\n",
              " ('j', 'o'): 479,\n",
              " ('o', 's'): 504,\n",
              " ('e', 'p'): 83,\n",
              " ('j', 'u'): 202,\n",
              " ('u', 'l'): 301,\n",
              " ('<S>', 'd'): 1690,\n",
              " ('k', 'a'): 1731,\n",
              " ('e', 'e'): 1271,\n",
              " ('y', 't'): 104,\n",
              " ('d', 'l'): 60,\n",
              " ('c', 'k'): 316,\n",
              " ('n', 'z'): 145,\n",
              " ('z', 'i'): 364,\n",
              " ('a', 'g'): 168,\n",
              " ('d', 'a'): 1303,\n",
              " ('j', 'a'): 1473,\n",
              " ('h', 'e'): 674,\n",
              " ('<S>', 'x'): 134,\n",
              " ('x', 'i'): 102,\n",
              " ('i', 'm'): 427,\n",
              " ('e', 'i'): 818,\n",
              " ('<S>', 't'): 1308,\n",
              " ('<S>', 'f'): 417,\n",
              " ('f', 'a'): 242,\n",
              " ('n', 'd'): 704,\n",
              " ('r', 'g'): 76,\n",
              " ('a', 's'): 1118,\n",
              " ('s', 'h'): 1285,\n",
              " ('b', 'a'): 321,\n",
              " ('k', 'h'): 307,\n",
              " ('s', 'm'): 90,\n",
              " ('o', 'd'): 190,\n",
              " ('r', 's'): 190,\n",
              " ('g', 'h'): 360,\n",
              " ('s', 'y'): 215,\n",
              " ('y', 's'): 401,\n",
              " ('s', 's'): 461,\n",
              " ('e', 'c'): 153,\n",
              " ('c', 'i'): 271,\n",
              " ('m', 'o'): 452,\n",
              " ('r', 'k'): 90,\n",
              " ('n', 'l'): 195,\n",
              " ('d', 'n'): 31,\n",
              " ('r', 'd'): 187,\n",
              " ('o', 'i'): 69,\n",
              " ('t', 'r'): 352,\n",
              " ('m', 'b'): 112,\n",
              " ('r', 'm'): 162,\n",
              " ('n', 'y'): 465,\n",
              " ('d', 'o'): 378,\n",
              " ('o', 'a'): 149,\n",
              " ('o', 'c'): 114,\n",
              " ('m', 'y'): 287,\n",
              " ('s', 'u'): 185,\n",
              " ('m', 'c'): 51,\n",
              " ('p', 'r'): 151,\n",
              " ('o', 'u'): 275,\n",
              " ('r', 'n'): 140,\n",
              " ('w', 'a'): 280,\n",
              " ('e', 'b'): 121,\n",
              " ('c', 'c'): 42,\n",
              " ('a', 'w'): 161,\n",
              " ('w', 'y'): 73,\n",
              " ('y', 'e'): 301,\n",
              " ('e', 'o'): 269,\n",
              " ('a', 'k'): 568,\n",
              " ('n', 'g'): 273,\n",
              " ('k', 'o'): 344,\n",
              " ('b', 'l'): 103,\n",
              " ('h', 'o'): 287,\n",
              " ('e', 'g'): 125,\n",
              " ('f', 'r'): 114,\n",
              " ('s', 'p'): 51,\n",
              " ('l', 's'): 94,\n",
              " ('y', 'z'): 78,\n",
              " ('g', 'g'): 25,\n",
              " ('z', 'u'): 73,\n",
              " ('i', 'd'): 440,\n",
              " ('m', '<E>'): 516,\n",
              " ('o', 'g'): 44,\n",
              " ('j', 'e'): 440,\n",
              " ('g', 'n'): 27,\n",
              " ('y', 'r'): 291,\n",
              " ('c', '<E>'): 97,\n",
              " ('c', 'q'): 11,\n",
              " ('u', 'e'): 169,\n",
              " ('i', 'f'): 101,\n",
              " ('f', 'e'): 123,\n",
              " ('i', 'x'): 89,\n",
              " ('x', '<E>'): 164,\n",
              " ('o', 'y'): 103,\n",
              " ('g', 'o'): 83,\n",
              " ('g', 't'): 31,\n",
              " ('l', 't'): 77,\n",
              " ('g', 'w'): 26,\n",
              " ('w', 'e'): 149,\n",
              " ('l', 'd'): 138,\n",
              " ('a', 'p'): 82,\n",
              " ('h', 'n'): 138,\n",
              " ('t', 'l'): 134,\n",
              " ('m', 'r'): 97,\n",
              " ('n', 'c'): 213,\n",
              " ('l', 'b'): 52,\n",
              " ('i', 'k'): 445,\n",
              " ('<S>', 'y'): 535,\n",
              " ('t', 'z'): 105,\n",
              " ('h', 'r'): 204,\n",
              " ('j', 'i'): 119,\n",
              " ('h', 't'): 71,\n",
              " ('r', 'r'): 425,\n",
              " ('z', 'l'): 123,\n",
              " ('w', 'r'): 22,\n",
              " ('b', 'b'): 38,\n",
              " ('r', 't'): 208,\n",
              " ('l', 'v'): 72,\n",
              " ('e', 'j'): 55,\n",
              " ('o', 'h'): 171,\n",
              " ('u', 's'): 474,\n",
              " ('i', 'b'): 110,\n",
              " ('g', 'l'): 32,\n",
              " ('h', 'y'): 213,\n",
              " ('p', 'o'): 59,\n",
              " ('p', 'p'): 39,\n",
              " ('p', 'y'): 12,\n",
              " ('n', 'r'): 44,\n",
              " ('z', 'm'): 35,\n",
              " ('v', 'o'): 153,\n",
              " ('l', 'm'): 60,\n",
              " ('o', 'x'): 45,\n",
              " ('d', '<E>'): 516,\n",
              " ('i', 'u'): 109,\n",
              " ('v', '<E>'): 88,\n",
              " ('f', 'f'): 44,\n",
              " ('b', 'o'): 105,\n",
              " ('e', 'k'): 178,\n",
              " ('c', 'r'): 76,\n",
              " ('d', 'g'): 25,\n",
              " ('r', 'c'): 99,\n",
              " ('r', 'h'): 121,\n",
              " ('n', 'k'): 58,\n",
              " ('h', 'u'): 166,\n",
              " ('d', 's'): 29,\n",
              " ('a', 'x'): 182,\n",
              " ('y', 'c'): 115,\n",
              " ('e', 'w'): 50,\n",
              " ('v', 'k'): 3,\n",
              " ('z', 'h'): 43,\n",
              " ('w', 'h'): 23,\n",
              " ('t', 'n'): 22,\n",
              " ('x', 'l'): 39,\n",
              " ('g', 'u'): 85,\n",
              " ('u', 'a'): 163,\n",
              " ('u', 'p'): 16,\n",
              " ('u', 'g'): 47,\n",
              " ('d', 'u'): 92,\n",
              " ('l', 'c'): 25,\n",
              " ('r', 'b'): 41,\n",
              " ('a', 'q'): 60,\n",
              " ('b', '<E>'): 114,\n",
              " ('g', 'y'): 31,\n",
              " ('y', 'p'): 15,\n",
              " ('p', 't'): 17,\n",
              " ('e', 'z'): 181,\n",
              " ('z', 'r'): 32,\n",
              " ('f', 'l'): 20,\n",
              " ('o', '<E>'): 855,\n",
              " ('o', 'b'): 140,\n",
              " ('u', 'z'): 45,\n",
              " ('z', '<E>'): 160,\n",
              " ('i', 'q'): 52,\n",
              " ('y', 'v'): 106,\n",
              " ('n', 'v'): 55,\n",
              " ('d', 'h'): 118,\n",
              " ('g', 'd'): 19,\n",
              " ('t', 's'): 35,\n",
              " ('n', 'h'): 26,\n",
              " ('y', 'j'): 23,\n",
              " ('k', 'r'): 109,\n",
              " ('z', 'b'): 4,\n",
              " ('g', '<E>'): 108,\n",
              " ('a', 'j'): 175,\n",
              " ('r', 'j'): 25,\n",
              " ('m', 'p'): 38,\n",
              " ('p', 'b'): 2,\n",
              " ('y', 'o'): 271,\n",
              " ('z', 'y'): 147,\n",
              " ('p', 'l'): 16,\n",
              " ('l', 'k'): 24,\n",
              " ('i', 'j'): 76,\n",
              " ('x', 'e'): 36,\n",
              " ('y', 'u'): 141,\n",
              " ('l', 'n'): 14,\n",
              " ('u', 'x'): 34,\n",
              " ('i', 'h'): 95,\n",
              " ('w', 's'): 20,\n",
              " ('k', 's'): 95,\n",
              " ('m', 'u'): 139,\n",
              " ('y', 'k'): 86,\n",
              " ('e', 'f'): 82,\n",
              " ('k', '<E>'): 363,\n",
              " ('y', 'm'): 148,\n",
              " ('z', 'z'): 45,\n",
              " ('m', 'd'): 24,\n",
              " ('s', 'r'): 55,\n",
              " ('e', 'u'): 69,\n",
              " ('l', 'h'): 19,\n",
              " ('a', 'f'): 134,\n",
              " ('r', 'w'): 21,\n",
              " ('n', 'u'): 96,\n",
              " ('v', 'r'): 48,\n",
              " ('m', 's'): 35,\n",
              " ('<S>', 'u'): 78,\n",
              " ('f', 's'): 6,\n",
              " ('y', 'b'): 27,\n",
              " ('x', 'o'): 41,\n",
              " ('g', 's'): 30,\n",
              " ('x', 'y'): 30,\n",
              " ('w', 'n'): 58,\n",
              " ('j', 'h'): 45,\n",
              " ('f', 'n'): 4,\n",
              " ('n', 'j'): 44,\n",
              " ('r', 'v'): 80,\n",
              " ('n', 'm'): 19,\n",
              " ('t', 'c'): 17,\n",
              " ('s', 'w'): 24,\n",
              " ('k', 't'): 17,\n",
              " ('f', 't'): 18,\n",
              " ('x', 't'): 70,\n",
              " ('u', 'v'): 37,\n",
              " ('k', 'k'): 20,\n",
              " ('s', 'n'): 24,\n",
              " ('u', '<E>'): 155,\n",
              " ('j', 'r'): 11,\n",
              " ('y', 'x'): 28,\n",
              " ('h', 'm'): 117,\n",
              " ('e', 'q'): 14,\n",
              " ('u', 'o'): 10,\n",
              " ('f', '<E>'): 80,\n",
              " ('h', 'z'): 20,\n",
              " ('h', 'k'): 29,\n",
              " ('y', 'g'): 30,\n",
              " ('q', 'r'): 1,\n",
              " ('v', 'n'): 8,\n",
              " ('s', 'd'): 9,\n",
              " ('y', 'i'): 192,\n",
              " ('n', 'w'): 11,\n",
              " ('d', 'v'): 17,\n",
              " ('h', 'v'): 39,\n",
              " ('x', 'w'): 3,\n",
              " ('o', 'z'): 54,\n",
              " ('k', 'u'): 50,\n",
              " ('u', 'h'): 58,\n",
              " ('k', 'n'): 26,\n",
              " ('s', 'b'): 21,\n",
              " ('i', 'i'): 82,\n",
              " ('y', 'y'): 23,\n",
              " ('r', 'z'): 23,\n",
              " ('l', 'g'): 6,\n",
              " ('l', 'p'): 15,\n",
              " ('p', '<E>'): 33,\n",
              " ('b', 'u'): 45,\n",
              " ('f', 'u'): 10,\n",
              " ('b', 'h'): 41,\n",
              " ('f', 'y'): 14,\n",
              " ('u', 'w'): 86,\n",
              " ('x', 'u'): 5,\n",
              " ('q', '<E>'): 28,\n",
              " ('l', 'r'): 18,\n",
              " ('m', 'h'): 5,\n",
              " ('l', 'w'): 16,\n",
              " ('j', '<E>'): 71,\n",
              " ('s', 'v'): 14,\n",
              " ('m', 'l'): 5,\n",
              " ('n', 'f'): 11,\n",
              " ('u', 'j'): 14,\n",
              " ('f', 'o'): 60,\n",
              " ('j', 'l'): 9,\n",
              " ('t', 'g'): 2,\n",
              " ('j', 'm'): 5,\n",
              " ('v', 'v'): 7,\n",
              " ('p', 's'): 16,\n",
              " ('t', 'w'): 11,\n",
              " ('x', 'c'): 4,\n",
              " ('u', 'k'): 93,\n",
              " ('v', 'l'): 14,\n",
              " ('h', 'd'): 24,\n",
              " ('l', 'z'): 10,\n",
              " ('k', 'w'): 34,\n",
              " ('n', 'b'): 8,\n",
              " ('q', 's'): 2,\n",
              " ('i', 'w'): 8,\n",
              " ('c', 's'): 5,\n",
              " ('h', 's'): 31,\n",
              " ('m', 't'): 4,\n",
              " ('h', 'w'): 10,\n",
              " ('x', 'x'): 38,\n",
              " ('t', 'x'): 2,\n",
              " ('d', 'z'): 1,\n",
              " ('x', 'z'): 19,\n",
              " ('t', 'm'): 4,\n",
              " ('t', 'j'): 3,\n",
              " ('u', 'q'): 10,\n",
              " ('q', 'a'): 13,\n",
              " ('f', 'k'): 2,\n",
              " ('z', 'n'): 4,\n",
              " ('l', 'j'): 6,\n",
              " ('j', 'w'): 6,\n",
              " ('v', 'u'): 7,\n",
              " ('c', 'j'): 3,\n",
              " ('h', 'b'): 8,\n",
              " ('z', 't'): 4,\n",
              " ('p', 'u'): 4,\n",
              " ('m', 'z'): 11,\n",
              " ('x', 's'): 31,\n",
              " ('b', 't'): 2,\n",
              " ('u', 'y'): 13,\n",
              " ('d', 'j'): 9,\n",
              " ('j', 's'): 7,\n",
              " ('w', 'u'): 25,\n",
              " ('o', 'j'): 16,\n",
              " ('b', 's'): 8,\n",
              " ('d', 'w'): 23,\n",
              " ('w', 'o'): 36,\n",
              " ('j', 'n'): 2,\n",
              " ('w', 't'): 8,\n",
              " ('l', 'f'): 22,\n",
              " ('d', 'm'): 30,\n",
              " ('p', 'j'): 1,\n",
              " ('j', 'y'): 10,\n",
              " ('y', 'f'): 12,\n",
              " ('q', 'i'): 13,\n",
              " ('j', 'v'): 5,\n",
              " ('q', 'l'): 1,\n",
              " ('s', 'z'): 10,\n",
              " ('k', 'm'): 9,\n",
              " ('w', 'l'): 13,\n",
              " ('p', 'f'): 1,\n",
              " ('q', 'w'): 3,\n",
              " ('n', 'x'): 6,\n",
              " ('k', 'c'): 2,\n",
              " ('t', 'v'): 15,\n",
              " ('c', 'u'): 35,\n",
              " ('z', 'k'): 2,\n",
              " ('c', 'z'): 4,\n",
              " ('y', 'q'): 6,\n",
              " ('y', 'h'): 22,\n",
              " ('r', 'f'): 9,\n",
              " ('s', 'j'): 2,\n",
              " ('h', 'j'): 9,\n",
              " ('g', 'b'): 3,\n",
              " ('u', 'f'): 19,\n",
              " ('s', 'f'): 2,\n",
              " ('q', 'e'): 1,\n",
              " ('b', 'c'): 1,\n",
              " ('c', 'd'): 1,\n",
              " ('z', 'j'): 2,\n",
              " ('n', 'q'): 2,\n",
              " ('m', 'f'): 1,\n",
              " ('p', 'n'): 1,\n",
              " ('f', 'z'): 2,\n",
              " ('b', 'n'): 4,\n",
              " ('w', 'd'): 8,\n",
              " ('w', 'b'): 1,\n",
              " ('b', 'd'): 65,\n",
              " ('z', 's'): 4,\n",
              " ('p', 'c'): 1,\n",
              " ('h', 'g'): 2,\n",
              " ('m', 'j'): 7,\n",
              " ('w', 'w'): 2,\n",
              " ('k', 'j'): 2,\n",
              " ('h', 'p'): 1,\n",
              " ('j', 'k'): 2,\n",
              " ('o', 'q'): 3,\n",
              " ('f', 'w'): 4,\n",
              " ('f', 'h'): 1,\n",
              " ('w', 'm'): 2,\n",
              " ('b', 'j'): 1,\n",
              " ('r', 'q'): 16,\n",
              " ('z', 'c'): 2,\n",
              " ('z', 'v'): 2,\n",
              " ('f', 'g'): 1,\n",
              " ('n', 'p'): 5,\n",
              " ('z', 'g'): 1,\n",
              " ('d', 't'): 4,\n",
              " ('w', 'f'): 2,\n",
              " ('d', 'f'): 5,\n",
              " ('w', 'k'): 6,\n",
              " ('q', 'm'): 2,\n",
              " ('k', 'z'): 2,\n",
              " ('j', 'j'): 2,\n",
              " ('c', 'p'): 1,\n",
              " ('p', 'k'): 1,\n",
              " ('p', 'm'): 1,\n",
              " ('j', 'd'): 4,\n",
              " ('r', 'x'): 3,\n",
              " ('x', 'n'): 1,\n",
              " ('d', 'c'): 3,\n",
              " ('g', 'j'): 3,\n",
              " ('x', 'f'): 3,\n",
              " ('j', 'c'): 4,\n",
              " ('s', 'q'): 1,\n",
              " ('k', 'f'): 1,\n",
              " ('z', 'p'): 2,\n",
              " ('j', 't'): 2,\n",
              " ('k', 'b'): 2,\n",
              " ('m', 'k'): 1,\n",
              " ('m', 'w'): 2,\n",
              " ('x', 'h'): 1,\n",
              " ('h', 'f'): 2,\n",
              " ('x', 'd'): 5,\n",
              " ('y', 'w'): 4,\n",
              " ('z', 'w'): 3,\n",
              " ('d', 'k'): 3,\n",
              " ('c', 'g'): 2,\n",
              " ('u', 'u'): 3,\n",
              " ('t', 'f'): 2,\n",
              " ('g', 'm'): 6,\n",
              " ('m', 'v'): 3,\n",
              " ('c', 'x'): 3,\n",
              " ('h', 'c'): 2,\n",
              " ('g', 'f'): 1,\n",
              " ('q', 'o'): 2,\n",
              " ('l', 'q'): 3,\n",
              " ('v', 'b'): 1,\n",
              " ('j', 'p'): 1,\n",
              " ('k', 'd'): 2,\n",
              " ('g', 'z'): 1,\n",
              " ('v', 'd'): 1,\n",
              " ('d', 'b'): 1,\n",
              " ('v', 'h'): 1,\n",
              " ('k', 'v'): 2,\n",
              " ('h', 'h'): 1,\n",
              " ('s', 'g'): 2,\n",
              " ('g', 'v'): 1,\n",
              " ('d', 'q'): 1,\n",
              " ('x', 'b'): 1,\n",
              " ('w', 'z'): 1,\n",
              " ('h', 'q'): 1,\n",
              " ('j', 'b'): 1,\n",
              " ('z', 'd'): 2,\n",
              " ('x', 'm'): 1,\n",
              " ('w', 'g'): 1,\n",
              " ('t', 'b'): 1,\n",
              " ('z', 'x'): 1}"
            ]
          },
          "metadata": {},
          "execution_count": 43
        }
      ]
    },
    {
      "cell_type": "code",
      "source": [
        "['.'] + list('hello') + ['.']"
      ],
      "metadata": {
        "colab": {
          "base_uri": "https://localhost:8080/"
        },
        "id": "NSDTU_pbgLmk",
        "outputId": "66c23d1f-96d8-414f-92c7-d36043ce6950"
      },
      "execution_count": 44,
      "outputs": [
        {
          "output_type": "execute_result",
          "data": {
            "text/plain": [
              "['.', 'h', 'e', 'l', 'l', 'o', '.']"
            ]
          },
          "metadata": {},
          "execution_count": 44
        }
      ]
    },
    {
      "cell_type": "code",
      "source": [
        "b = dict()\n",
        "\n",
        "for name in names:\n",
        "    characters = ['.'] + list(name) + ['.']\n",
        "    for ch1, ch2 in zip(characters, characters[1:]):\n",
        "        b[(ch1, ch2)] = b.get((ch1, ch2), 0) + 1"
      ],
      "metadata": {
        "id": "avRJiqQgV2dQ"
      },
      "execution_count": 45,
      "outputs": []
    },
    {
      "cell_type": "code",
      "source": [
        "b"
      ],
      "metadata": {
        "colab": {
          "base_uri": "https://localhost:8080/"
        },
        "id": "v6uZAvBagiA7",
        "outputId": "2345c514-2a79-40d9-c149-0c1bf45e9d7c"
      },
      "execution_count": 46,
      "outputs": [
        {
          "output_type": "execute_result",
          "data": {
            "text/plain": [
              "{('.', 'e'): 1531,\n",
              " ('e', 'm'): 769,\n",
              " ('m', 'm'): 168,\n",
              " ('m', 'a'): 2590,\n",
              " ('a', '.'): 6640,\n",
              " ('.', 'o'): 394,\n",
              " ('o', 'l'): 619,\n",
              " ('l', 'i'): 2480,\n",
              " ('i', 'v'): 269,\n",
              " ('v', 'i'): 911,\n",
              " ('i', 'a'): 2445,\n",
              " ('.', 'a'): 4410,\n",
              " ('a', 'v'): 834,\n",
              " ('v', 'a'): 642,\n",
              " ('.', 'i'): 591,\n",
              " ('i', 's'): 1316,\n",
              " ('s', 'a'): 1201,\n",
              " ('a', 'b'): 541,\n",
              " ('b', 'e'): 655,\n",
              " ('e', 'l'): 3248,\n",
              " ('l', 'l'): 1345,\n",
              " ('l', 'a'): 2623,\n",
              " ('.', 's'): 2055,\n",
              " ('s', 'o'): 531,\n",
              " ('o', 'p'): 95,\n",
              " ('p', 'h'): 204,\n",
              " ('h', 'i'): 729,\n",
              " ('.', 'c'): 1542,\n",
              " ('c', 'h'): 664,\n",
              " ('h', 'a'): 2244,\n",
              " ('a', 'r'): 3264,\n",
              " ('r', 'l'): 413,\n",
              " ('l', 'o'): 692,\n",
              " ('o', 't'): 118,\n",
              " ('t', 't'): 374,\n",
              " ('t', 'e'): 716,\n",
              " ('e', '.'): 3983,\n",
              " ('.', 'm'): 2538,\n",
              " ('m', 'i'): 1256,\n",
              " ('a', 'm'): 1634,\n",
              " ('m', 'e'): 818,\n",
              " ('.', 'h'): 874,\n",
              " ('r', 'p'): 14,\n",
              " ('p', 'e'): 197,\n",
              " ('e', 'r'): 1958,\n",
              " ('r', '.'): 1377,\n",
              " ('e', 'v'): 463,\n",
              " ('v', 'e'): 568,\n",
              " ('l', 'y'): 1588,\n",
              " ('y', 'n'): 1826,\n",
              " ('n', '.'): 6763,\n",
              " ('b', 'i'): 217,\n",
              " ('i', 'g'): 428,\n",
              " ('g', 'a'): 330,\n",
              " ('a', 'i'): 1650,\n",
              " ('i', 'l'): 1345,\n",
              " ('l', '.'): 1314,\n",
              " ('y', '.'): 2007,\n",
              " ('i', 'z'): 277,\n",
              " ('z', 'a'): 860,\n",
              " ('e', 't'): 580,\n",
              " ('t', 'h'): 647,\n",
              " ('h', '.'): 2409,\n",
              " ('r', 'y'): 773,\n",
              " ('o', 'f'): 34,\n",
              " ('f', 'i'): 160,\n",
              " ('c', 'a'): 815,\n",
              " ('r', 'i'): 3033,\n",
              " ('s', 'c'): 60,\n",
              " ('l', 'e'): 2921,\n",
              " ('t', '.'): 483,\n",
              " ('.', 'v'): 376,\n",
              " ('i', 'c'): 509,\n",
              " ('c', 't'): 35,\n",
              " ('t', 'o'): 667,\n",
              " ('o', 'r'): 1059,\n",
              " ('a', 'd'): 1042,\n",
              " ('d', 'i'): 674,\n",
              " ('o', 'n'): 2411,\n",
              " ('.', 'l'): 1572,\n",
              " ('l', 'u'): 324,\n",
              " ('u', 'n'): 275,\n",
              " ('n', 'a'): 2977,\n",
              " ('.', 'g'): 669,\n",
              " ('g', 'r'): 201,\n",
              " ('r', 'a'): 2356,\n",
              " ('a', 'c'): 470,\n",
              " ('c', 'e'): 551,\n",
              " ('h', 'l'): 185,\n",
              " ('o', 'e'): 132,\n",
              " ('.', 'p'): 515,\n",
              " ('e', 'n'): 2675,\n",
              " ('n', 'e'): 1359,\n",
              " ('a', 'y'): 2050,\n",
              " ('y', 'l'): 1104,\n",
              " ('.', 'r'): 1639,\n",
              " ('e', 'y'): 1070,\n",
              " ('.', 'z'): 929,\n",
              " ('z', 'o'): 110,\n",
              " ('.', 'n'): 1146,\n",
              " ('n', 'o'): 496,\n",
              " ('e', 'a'): 679,\n",
              " ('a', 'n'): 5438,\n",
              " ('n', 'n'): 1906,\n",
              " ('a', 'h'): 2332,\n",
              " ('d', 'd'): 149,\n",
              " ('a', 'u'): 381,\n",
              " ('u', 'b'): 103,\n",
              " ('b', 'r'): 842,\n",
              " ('r', 'e'): 1697,\n",
              " ('i', 'e'): 1653,\n",
              " ('s', 't'): 765,\n",
              " ('a', 't'): 687,\n",
              " ('t', 'a'): 1027,\n",
              " ('a', 'l'): 2528,\n",
              " ('a', 'z'): 435,\n",
              " ('z', 'e'): 373,\n",
              " ('i', 'o'): 588,\n",
              " ('u', 'r'): 414,\n",
              " ('r', 'o'): 869,\n",
              " ('u', 'd'): 136,\n",
              " ('d', 'r'): 424,\n",
              " ('.', 'b'): 1306,\n",
              " ('o', 'o'): 115,\n",
              " ('o', 'k'): 68,\n",
              " ('k', 'l'): 139,\n",
              " ('c', 'l'): 116,\n",
              " ('i', 'r'): 849,\n",
              " ('s', 'k'): 82,\n",
              " ('k', 'y'): 379,\n",
              " ('u', 'c'): 103,\n",
              " ('c', 'y'): 104,\n",
              " ('p', 'a'): 209,\n",
              " ('s', 'l'): 279,\n",
              " ('i', 'n'): 2126,\n",
              " ('o', 'v'): 176,\n",
              " ('g', 'e'): 334,\n",
              " ('e', 's'): 861,\n",
              " ('s', 'i'): 684,\n",
              " ('s', '.'): 1169,\n",
              " ('.', 'k'): 2963,\n",
              " ('k', 'e'): 895,\n",
              " ('e', 'd'): 384,\n",
              " ('d', 'y'): 317,\n",
              " ('n', 't'): 443,\n",
              " ('y', 'a'): 2143,\n",
              " ('.', 'w'): 307,\n",
              " ('w', 'i'): 148,\n",
              " ('o', 'w'): 114,\n",
              " ('w', '.'): 51,\n",
              " ('k', 'i'): 509,\n",
              " ('n', 's'): 278,\n",
              " ('a', 'o'): 63,\n",
              " ('o', 'm'): 261,\n",
              " ('i', '.'): 2489,\n",
              " ('a', 'a'): 556,\n",
              " ('i', 'y'): 779,\n",
              " ('d', 'e'): 1283,\n",
              " ('c', 'o'): 380,\n",
              " ('r', 'u'): 252,\n",
              " ('b', 'y'): 83,\n",
              " ('s', 'e'): 884,\n",
              " ('n', 'i'): 1725,\n",
              " ('i', 't'): 541,\n",
              " ('t', 'y'): 341,\n",
              " ('u', 't'): 82,\n",
              " ('t', 'u'): 78,\n",
              " ('u', 'm'): 154,\n",
              " ('m', 'n'): 20,\n",
              " ('g', 'i'): 190,\n",
              " ('t', 'i'): 532,\n",
              " ('.', 'q'): 92,\n",
              " ('q', 'u'): 206,\n",
              " ('u', 'i'): 121,\n",
              " ('a', 'e'): 692,\n",
              " ('e', 'h'): 152,\n",
              " ('v', 'y'): 121,\n",
              " ('p', 'i'): 61,\n",
              " ('i', 'p'): 53,\n",
              " ('y', 'd'): 272,\n",
              " ('e', 'x'): 132,\n",
              " ('x', 'a'): 103,\n",
              " ('.', 'j'): 2422,\n",
              " ('j', 'o'): 479,\n",
              " ('o', 's'): 504,\n",
              " ('e', 'p'): 83,\n",
              " ('j', 'u'): 202,\n",
              " ('u', 'l'): 301,\n",
              " ('.', 'd'): 1690,\n",
              " ('k', 'a'): 1731,\n",
              " ('e', 'e'): 1271,\n",
              " ('y', 't'): 104,\n",
              " ('d', 'l'): 60,\n",
              " ('c', 'k'): 316,\n",
              " ('n', 'z'): 145,\n",
              " ('z', 'i'): 364,\n",
              " ('a', 'g'): 168,\n",
              " ('d', 'a'): 1303,\n",
              " ('j', 'a'): 1473,\n",
              " ('h', 'e'): 674,\n",
              " ('.', 'x'): 134,\n",
              " ('x', 'i'): 102,\n",
              " ('i', 'm'): 427,\n",
              " ('e', 'i'): 818,\n",
              " ('.', 't'): 1308,\n",
              " ('.', 'f'): 417,\n",
              " ('f', 'a'): 242,\n",
              " ('n', 'd'): 704,\n",
              " ('r', 'g'): 76,\n",
              " ('a', 's'): 1118,\n",
              " ('s', 'h'): 1285,\n",
              " ('b', 'a'): 321,\n",
              " ('k', 'h'): 307,\n",
              " ('s', 'm'): 90,\n",
              " ('o', 'd'): 190,\n",
              " ('r', 's'): 190,\n",
              " ('g', 'h'): 360,\n",
              " ('s', 'y'): 215,\n",
              " ('y', 's'): 401,\n",
              " ('s', 's'): 461,\n",
              " ('e', 'c'): 153,\n",
              " ('c', 'i'): 271,\n",
              " ('m', 'o'): 452,\n",
              " ('r', 'k'): 90,\n",
              " ('n', 'l'): 195,\n",
              " ('d', 'n'): 31,\n",
              " ('r', 'd'): 187,\n",
              " ('o', 'i'): 69,\n",
              " ('t', 'r'): 352,\n",
              " ('m', 'b'): 112,\n",
              " ('r', 'm'): 162,\n",
              " ('n', 'y'): 465,\n",
              " ('d', 'o'): 378,\n",
              " ('o', 'a'): 149,\n",
              " ('o', 'c'): 114,\n",
              " ('m', 'y'): 287,\n",
              " ('s', 'u'): 185,\n",
              " ('m', 'c'): 51,\n",
              " ('p', 'r'): 151,\n",
              " ('o', 'u'): 275,\n",
              " ('r', 'n'): 140,\n",
              " ('w', 'a'): 280,\n",
              " ('e', 'b'): 121,\n",
              " ('c', 'c'): 42,\n",
              " ('a', 'w'): 161,\n",
              " ('w', 'y'): 73,\n",
              " ('y', 'e'): 301,\n",
              " ('e', 'o'): 269,\n",
              " ('a', 'k'): 568,\n",
              " ('n', 'g'): 273,\n",
              " ('k', 'o'): 344,\n",
              " ('b', 'l'): 103,\n",
              " ('h', 'o'): 287,\n",
              " ('e', 'g'): 125,\n",
              " ('f', 'r'): 114,\n",
              " ('s', 'p'): 51,\n",
              " ('l', 's'): 94,\n",
              " ('y', 'z'): 78,\n",
              " ('g', 'g'): 25,\n",
              " ('z', 'u'): 73,\n",
              " ('i', 'd'): 440,\n",
              " ('m', '.'): 516,\n",
              " ('o', 'g'): 44,\n",
              " ('j', 'e'): 440,\n",
              " ('g', 'n'): 27,\n",
              " ('y', 'r'): 291,\n",
              " ('c', '.'): 97,\n",
              " ('c', 'q'): 11,\n",
              " ('u', 'e'): 169,\n",
              " ('i', 'f'): 101,\n",
              " ('f', 'e'): 123,\n",
              " ('i', 'x'): 89,\n",
              " ('x', '.'): 164,\n",
              " ('o', 'y'): 103,\n",
              " ('g', 'o'): 83,\n",
              " ('g', 't'): 31,\n",
              " ('l', 't'): 77,\n",
              " ('g', 'w'): 26,\n",
              " ('w', 'e'): 149,\n",
              " ('l', 'd'): 138,\n",
              " ('a', 'p'): 82,\n",
              " ('h', 'n'): 138,\n",
              " ('t', 'l'): 134,\n",
              " ('m', 'r'): 97,\n",
              " ('n', 'c'): 213,\n",
              " ('l', 'b'): 52,\n",
              " ('i', 'k'): 445,\n",
              " ('.', 'y'): 535,\n",
              " ('t', 'z'): 105,\n",
              " ('h', 'r'): 204,\n",
              " ('j', 'i'): 119,\n",
              " ('h', 't'): 71,\n",
              " ('r', 'r'): 425,\n",
              " ('z', 'l'): 123,\n",
              " ('w', 'r'): 22,\n",
              " ('b', 'b'): 38,\n",
              " ('r', 't'): 208,\n",
              " ('l', 'v'): 72,\n",
              " ('e', 'j'): 55,\n",
              " ('o', 'h'): 171,\n",
              " ('u', 's'): 474,\n",
              " ('i', 'b'): 110,\n",
              " ('g', 'l'): 32,\n",
              " ('h', 'y'): 213,\n",
              " ('p', 'o'): 59,\n",
              " ('p', 'p'): 39,\n",
              " ('p', 'y'): 12,\n",
              " ('n', 'r'): 44,\n",
              " ('z', 'm'): 35,\n",
              " ('v', 'o'): 153,\n",
              " ('l', 'm'): 60,\n",
              " ('o', 'x'): 45,\n",
              " ('d', '.'): 516,\n",
              " ('i', 'u'): 109,\n",
              " ('v', '.'): 88,\n",
              " ('f', 'f'): 44,\n",
              " ('b', 'o'): 105,\n",
              " ('e', 'k'): 178,\n",
              " ('c', 'r'): 76,\n",
              " ('d', 'g'): 25,\n",
              " ('r', 'c'): 99,\n",
              " ('r', 'h'): 121,\n",
              " ('n', 'k'): 58,\n",
              " ('h', 'u'): 166,\n",
              " ('d', 's'): 29,\n",
              " ('a', 'x'): 182,\n",
              " ('y', 'c'): 115,\n",
              " ('e', 'w'): 50,\n",
              " ('v', 'k'): 3,\n",
              " ('z', 'h'): 43,\n",
              " ('w', 'h'): 23,\n",
              " ('t', 'n'): 22,\n",
              " ('x', 'l'): 39,\n",
              " ('g', 'u'): 85,\n",
              " ('u', 'a'): 163,\n",
              " ('u', 'p'): 16,\n",
              " ('u', 'g'): 47,\n",
              " ('d', 'u'): 92,\n",
              " ('l', 'c'): 25,\n",
              " ('r', 'b'): 41,\n",
              " ('a', 'q'): 60,\n",
              " ('b', '.'): 114,\n",
              " ('g', 'y'): 31,\n",
              " ('y', 'p'): 15,\n",
              " ('p', 't'): 17,\n",
              " ('e', 'z'): 181,\n",
              " ('z', 'r'): 32,\n",
              " ('f', 'l'): 20,\n",
              " ('o', '.'): 855,\n",
              " ('o', 'b'): 140,\n",
              " ('u', 'z'): 45,\n",
              " ('z', '.'): 160,\n",
              " ('i', 'q'): 52,\n",
              " ('y', 'v'): 106,\n",
              " ('n', 'v'): 55,\n",
              " ('d', 'h'): 118,\n",
              " ('g', 'd'): 19,\n",
              " ('t', 's'): 35,\n",
              " ('n', 'h'): 26,\n",
              " ('y', 'j'): 23,\n",
              " ('k', 'r'): 109,\n",
              " ('z', 'b'): 4,\n",
              " ('g', '.'): 108,\n",
              " ('a', 'j'): 175,\n",
              " ('r', 'j'): 25,\n",
              " ('m', 'p'): 38,\n",
              " ('p', 'b'): 2,\n",
              " ('y', 'o'): 271,\n",
              " ('z', 'y'): 147,\n",
              " ('p', 'l'): 16,\n",
              " ('l', 'k'): 24,\n",
              " ('i', 'j'): 76,\n",
              " ('x', 'e'): 36,\n",
              " ('y', 'u'): 141,\n",
              " ('l', 'n'): 14,\n",
              " ('u', 'x'): 34,\n",
              " ('i', 'h'): 95,\n",
              " ('w', 's'): 20,\n",
              " ('k', 's'): 95,\n",
              " ('m', 'u'): 139,\n",
              " ('y', 'k'): 86,\n",
              " ('e', 'f'): 82,\n",
              " ('k', '.'): 363,\n",
              " ('y', 'm'): 148,\n",
              " ('z', 'z'): 45,\n",
              " ('m', 'd'): 24,\n",
              " ('s', 'r'): 55,\n",
              " ('e', 'u'): 69,\n",
              " ('l', 'h'): 19,\n",
              " ('a', 'f'): 134,\n",
              " ('r', 'w'): 21,\n",
              " ('n', 'u'): 96,\n",
              " ('v', 'r'): 48,\n",
              " ('m', 's'): 35,\n",
              " ('.', 'u'): 78,\n",
              " ('f', 's'): 6,\n",
              " ('y', 'b'): 27,\n",
              " ('x', 'o'): 41,\n",
              " ('g', 's'): 30,\n",
              " ('x', 'y'): 30,\n",
              " ('w', 'n'): 58,\n",
              " ('j', 'h'): 45,\n",
              " ('f', 'n'): 4,\n",
              " ('n', 'j'): 44,\n",
              " ('r', 'v'): 80,\n",
              " ('n', 'm'): 19,\n",
              " ('t', 'c'): 17,\n",
              " ('s', 'w'): 24,\n",
              " ('k', 't'): 17,\n",
              " ('f', 't'): 18,\n",
              " ('x', 't'): 70,\n",
              " ('u', 'v'): 37,\n",
              " ('k', 'k'): 20,\n",
              " ('s', 'n'): 24,\n",
              " ('u', '.'): 155,\n",
              " ('j', 'r'): 11,\n",
              " ('y', 'x'): 28,\n",
              " ('h', 'm'): 117,\n",
              " ('e', 'q'): 14,\n",
              " ('u', 'o'): 10,\n",
              " ('f', '.'): 80,\n",
              " ('h', 'z'): 20,\n",
              " ('h', 'k'): 29,\n",
              " ('y', 'g'): 30,\n",
              " ('q', 'r'): 1,\n",
              " ('v', 'n'): 8,\n",
              " ('s', 'd'): 9,\n",
              " ('y', 'i'): 192,\n",
              " ('n', 'w'): 11,\n",
              " ('d', 'v'): 17,\n",
              " ('h', 'v'): 39,\n",
              " ('x', 'w'): 3,\n",
              " ('o', 'z'): 54,\n",
              " ('k', 'u'): 50,\n",
              " ('u', 'h'): 58,\n",
              " ('k', 'n'): 26,\n",
              " ('s', 'b'): 21,\n",
              " ('i', 'i'): 82,\n",
              " ('y', 'y'): 23,\n",
              " ('r', 'z'): 23,\n",
              " ('l', 'g'): 6,\n",
              " ('l', 'p'): 15,\n",
              " ('p', '.'): 33,\n",
              " ('b', 'u'): 45,\n",
              " ('f', 'u'): 10,\n",
              " ('b', 'h'): 41,\n",
              " ('f', 'y'): 14,\n",
              " ('u', 'w'): 86,\n",
              " ('x', 'u'): 5,\n",
              " ('q', '.'): 28,\n",
              " ('l', 'r'): 18,\n",
              " ('m', 'h'): 5,\n",
              " ('l', 'w'): 16,\n",
              " ('j', '.'): 71,\n",
              " ('s', 'v'): 14,\n",
              " ('m', 'l'): 5,\n",
              " ('n', 'f'): 11,\n",
              " ('u', 'j'): 14,\n",
              " ('f', 'o'): 60,\n",
              " ('j', 'l'): 9,\n",
              " ('t', 'g'): 2,\n",
              " ('j', 'm'): 5,\n",
              " ('v', 'v'): 7,\n",
              " ('p', 's'): 16,\n",
              " ('t', 'w'): 11,\n",
              " ('x', 'c'): 4,\n",
              " ('u', 'k'): 93,\n",
              " ('v', 'l'): 14,\n",
              " ('h', 'd'): 24,\n",
              " ('l', 'z'): 10,\n",
              " ('k', 'w'): 34,\n",
              " ('n', 'b'): 8,\n",
              " ('q', 's'): 2,\n",
              " ('i', 'w'): 8,\n",
              " ('c', 's'): 5,\n",
              " ('h', 's'): 31,\n",
              " ('m', 't'): 4,\n",
              " ('h', 'w'): 10,\n",
              " ('x', 'x'): 38,\n",
              " ('t', 'x'): 2,\n",
              " ('d', 'z'): 1,\n",
              " ('x', 'z'): 19,\n",
              " ('t', 'm'): 4,\n",
              " ('t', 'j'): 3,\n",
              " ('u', 'q'): 10,\n",
              " ('q', 'a'): 13,\n",
              " ('f', 'k'): 2,\n",
              " ('z', 'n'): 4,\n",
              " ('l', 'j'): 6,\n",
              " ('j', 'w'): 6,\n",
              " ('v', 'u'): 7,\n",
              " ('c', 'j'): 3,\n",
              " ('h', 'b'): 8,\n",
              " ('z', 't'): 4,\n",
              " ('p', 'u'): 4,\n",
              " ('m', 'z'): 11,\n",
              " ('x', 's'): 31,\n",
              " ('b', 't'): 2,\n",
              " ('u', 'y'): 13,\n",
              " ('d', 'j'): 9,\n",
              " ('j', 's'): 7,\n",
              " ('w', 'u'): 25,\n",
              " ('o', 'j'): 16,\n",
              " ('b', 's'): 8,\n",
              " ('d', 'w'): 23,\n",
              " ('w', 'o'): 36,\n",
              " ('j', 'n'): 2,\n",
              " ('w', 't'): 8,\n",
              " ('l', 'f'): 22,\n",
              " ('d', 'm'): 30,\n",
              " ('p', 'j'): 1,\n",
              " ('j', 'y'): 10,\n",
              " ('y', 'f'): 12,\n",
              " ('q', 'i'): 13,\n",
              " ('j', 'v'): 5,\n",
              " ('q', 'l'): 1,\n",
              " ('s', 'z'): 10,\n",
              " ('k', 'm'): 9,\n",
              " ('w', 'l'): 13,\n",
              " ('p', 'f'): 1,\n",
              " ('q', 'w'): 3,\n",
              " ('n', 'x'): 6,\n",
              " ('k', 'c'): 2,\n",
              " ('t', 'v'): 15,\n",
              " ('c', 'u'): 35,\n",
              " ('z', 'k'): 2,\n",
              " ('c', 'z'): 4,\n",
              " ('y', 'q'): 6,\n",
              " ('y', 'h'): 22,\n",
              " ('r', 'f'): 9,\n",
              " ('s', 'j'): 2,\n",
              " ('h', 'j'): 9,\n",
              " ('g', 'b'): 3,\n",
              " ('u', 'f'): 19,\n",
              " ('s', 'f'): 2,\n",
              " ('q', 'e'): 1,\n",
              " ('b', 'c'): 1,\n",
              " ('c', 'd'): 1,\n",
              " ('z', 'j'): 2,\n",
              " ('n', 'q'): 2,\n",
              " ('m', 'f'): 1,\n",
              " ('p', 'n'): 1,\n",
              " ('f', 'z'): 2,\n",
              " ('b', 'n'): 4,\n",
              " ('w', 'd'): 8,\n",
              " ('w', 'b'): 1,\n",
              " ('b', 'd'): 65,\n",
              " ('z', 's'): 4,\n",
              " ('p', 'c'): 1,\n",
              " ('h', 'g'): 2,\n",
              " ('m', 'j'): 7,\n",
              " ('w', 'w'): 2,\n",
              " ('k', 'j'): 2,\n",
              " ('h', 'p'): 1,\n",
              " ('j', 'k'): 2,\n",
              " ('o', 'q'): 3,\n",
              " ('f', 'w'): 4,\n",
              " ('f', 'h'): 1,\n",
              " ('w', 'm'): 2,\n",
              " ('b', 'j'): 1,\n",
              " ('r', 'q'): 16,\n",
              " ('z', 'c'): 2,\n",
              " ('z', 'v'): 2,\n",
              " ('f', 'g'): 1,\n",
              " ('n', 'p'): 5,\n",
              " ('z', 'g'): 1,\n",
              " ('d', 't'): 4,\n",
              " ('w', 'f'): 2,\n",
              " ('d', 'f'): 5,\n",
              " ('w', 'k'): 6,\n",
              " ('q', 'm'): 2,\n",
              " ('k', 'z'): 2,\n",
              " ('j', 'j'): 2,\n",
              " ('c', 'p'): 1,\n",
              " ('p', 'k'): 1,\n",
              " ('p', 'm'): 1,\n",
              " ('j', 'd'): 4,\n",
              " ('r', 'x'): 3,\n",
              " ('x', 'n'): 1,\n",
              " ('d', 'c'): 3,\n",
              " ('g', 'j'): 3,\n",
              " ('x', 'f'): 3,\n",
              " ('j', 'c'): 4,\n",
              " ('s', 'q'): 1,\n",
              " ('k', 'f'): 1,\n",
              " ('z', 'p'): 2,\n",
              " ('j', 't'): 2,\n",
              " ('k', 'b'): 2,\n",
              " ('m', 'k'): 1,\n",
              " ('m', 'w'): 2,\n",
              " ('x', 'h'): 1,\n",
              " ('h', 'f'): 2,\n",
              " ('x', 'd'): 5,\n",
              " ('y', 'w'): 4,\n",
              " ('z', 'w'): 3,\n",
              " ('d', 'k'): 3,\n",
              " ('c', 'g'): 2,\n",
              " ('u', 'u'): 3,\n",
              " ('t', 'f'): 2,\n",
              " ('g', 'm'): 6,\n",
              " ('m', 'v'): 3,\n",
              " ('c', 'x'): 3,\n",
              " ('h', 'c'): 2,\n",
              " ('g', 'f'): 1,\n",
              " ('q', 'o'): 2,\n",
              " ('l', 'q'): 3,\n",
              " ('v', 'b'): 1,\n",
              " ('j', 'p'): 1,\n",
              " ('k', 'd'): 2,\n",
              " ('g', 'z'): 1,\n",
              " ('v', 'd'): 1,\n",
              " ('d', 'b'): 1,\n",
              " ('v', 'h'): 1,\n",
              " ('k', 'v'): 2,\n",
              " ('h', 'h'): 1,\n",
              " ('s', 'g'): 2,\n",
              " ('g', 'v'): 1,\n",
              " ('d', 'q'): 1,\n",
              " ('x', 'b'): 1,\n",
              " ('w', 'z'): 1,\n",
              " ('h', 'q'): 1,\n",
              " ('j', 'b'): 1,\n",
              " ('z', 'd'): 2,\n",
              " ('x', 'm'): 1,\n",
              " ('w', 'g'): 1,\n",
              " ('t', 'b'): 1,\n",
              " ('z', 'x'): 1}"
            ]
          },
          "metadata": {},
          "execution_count": 46
        }
      ]
    },
    {
      "cell_type": "code",
      "source": [
        "set([1, 2, 2, 2, 3, 4, 4, 4, 5])"
      ],
      "metadata": {
        "colab": {
          "base_uri": "https://localhost:8080/"
        },
        "id": "tyPB1qXfhwzO",
        "outputId": "15a7b966-8d9e-4e63-c9ca-b284a99703a8"
      },
      "execution_count": 55,
      "outputs": [
        {
          "output_type": "execute_result",
          "data": {
            "text/plain": [
              "{1, 2, 3, 4, 5}"
            ]
          },
          "metadata": {},
          "execution_count": 55
        }
      ]
    },
    {
      "cell_type": "code",
      "source": [
        "chars = sorted(list(set(''.join(names)))) + ['.']"
      ],
      "metadata": {
        "id": "H5sD512_gi1e"
      },
      "execution_count": 64,
      "outputs": []
    },
    {
      "cell_type": "code",
      "source": [
        "num_chars = len(chars)\n",
        "num_chars"
      ],
      "metadata": {
        "colab": {
          "base_uri": "https://localhost:8080/"
        },
        "id": "KEoC5n5ShGfz",
        "outputId": "036c9928-fd98-45b8-dfef-f176d8b2c9da"
      },
      "execution_count": 65,
      "outputs": [
        {
          "output_type": "execute_result",
          "data": {
            "text/plain": [
              "27"
            ]
          },
          "metadata": {},
          "execution_count": 65
        }
      ]
    },
    {
      "cell_type": "code",
      "source": [
        "# Create lookup table\n",
        "s_to_i = {k: v for v, k in enumerate(chars)}"
      ],
      "metadata": {
        "id": "8OgdEFM1imru"
      },
      "execution_count": 67,
      "outputs": []
    },
    {
      "cell_type": "code",
      "source": [
        "i_to_s = {v: k for v, k in enumerate(chars)}"
      ],
      "metadata": {
        "id": "GNlkSKd1jiwl"
      },
      "execution_count": 69,
      "outputs": []
    },
    {
      "cell_type": "code",
      "source": [
        "i_to_s"
      ],
      "metadata": {
        "colab": {
          "base_uri": "https://localhost:8080/"
        },
        "id": "eQBqApJmjq2k",
        "outputId": "2898acf5-de3b-43cd-c036-aa2ae0f98d44"
      },
      "execution_count": 70,
      "outputs": [
        {
          "output_type": "execute_result",
          "data": {
            "text/plain": [
              "{0: 'a',\n",
              " 1: 'b',\n",
              " 2: 'c',\n",
              " 3: 'd',\n",
              " 4: 'e',\n",
              " 5: 'f',\n",
              " 6: 'g',\n",
              " 7: 'h',\n",
              " 8: 'i',\n",
              " 9: 'j',\n",
              " 10: 'k',\n",
              " 11: 'l',\n",
              " 12: 'm',\n",
              " 13: 'n',\n",
              " 14: 'o',\n",
              " 15: 'p',\n",
              " 16: 'q',\n",
              " 17: 'r',\n",
              " 18: 's',\n",
              " 19: 't',\n",
              " 20: 'u',\n",
              " 21: 'v',\n",
              " 22: 'w',\n",
              " 23: 'x',\n",
              " 24: 'y',\n",
              " 25: 'z',\n",
              " 26: '.'}"
            ]
          },
          "metadata": {},
          "execution_count": 70
        }
      ]
    },
    {
      "cell_type": "code",
      "source": [
        "'Jordan'.lower()"
      ],
      "metadata": {
        "colab": {
          "base_uri": "https://localhost:8080/",
          "height": 35
        },
        "id": "so2cEww2kdIW",
        "outputId": "9470b3e1-1323-4802-8da7-873c944e74df"
      },
      "execution_count": 77,
      "outputs": [
        {
          "output_type": "execute_result",
          "data": {
            "text/plain": [
              "'jordan'"
            ],
            "application/vnd.google.colaboratory.intrinsic+json": {
              "type": "string"
            }
          },
          "metadata": {},
          "execution_count": 77
        }
      ]
    },
    {
      "cell_type": "code",
      "source": [
        "res = []\n",
        "for ch in 'Jordan.'.lower():\n",
        "    res.append(s_to_i[ch])\n",
        "res"
      ],
      "metadata": {
        "colab": {
          "base_uri": "https://localhost:8080/"
        },
        "id": "7u7V1yGsjyv7",
        "outputId": "a004bf04-1eea-44b5-b69d-4e7ec38009f5"
      },
      "execution_count": 76,
      "outputs": [
        {
          "output_type": "execute_result",
          "data": {
            "text/plain": [
              "[9, 14, 17, 3, 0, 13, 26]"
            ]
          },
          "metadata": {},
          "execution_count": 76
        }
      ]
    },
    {
      "cell_type": "code",
      "source": [
        "my_matrix = np.zeros((num_chars, num_chars))\n",
        "my_matrix.shape"
      ],
      "metadata": {
        "colab": {
          "base_uri": "https://localhost:8080/"
        },
        "id": "AOqsMuYjjHZT",
        "outputId": "b1f232cd-8a45-4732-f091-420ef5ed83d4"
      },
      "execution_count": 78,
      "outputs": [
        {
          "output_type": "execute_result",
          "data": {
            "text/plain": [
              "(27, 27)"
            ]
          },
          "metadata": {},
          "execution_count": 78
        }
      ]
    },
    {
      "cell_type": "code",
      "source": [
        "my_matrix"
      ],
      "metadata": {
        "colab": {
          "base_uri": "https://localhost:8080/"
        },
        "id": "B8y8oksykwx7",
        "outputId": "e7478d75-a520-4b1c-9d28-edb1dae453a7"
      },
      "execution_count": 79,
      "outputs": [
        {
          "output_type": "execute_result",
          "data": {
            "text/plain": [
              "array([[0., 0., 0., 0., 0., 0., 0., 0., 0., 0., 0., 0., 0., 0., 0., 0.,\n",
              "        0., 0., 0., 0., 0., 0., 0., 0., 0., 0., 0.],\n",
              "       [0., 0., 0., 0., 0., 0., 0., 0., 0., 0., 0., 0., 0., 0., 0., 0.,\n",
              "        0., 0., 0., 0., 0., 0., 0., 0., 0., 0., 0.],\n",
              "       [0., 0., 0., 0., 0., 0., 0., 0., 0., 0., 0., 0., 0., 0., 0., 0.,\n",
              "        0., 0., 0., 0., 0., 0., 0., 0., 0., 0., 0.],\n",
              "       [0., 0., 0., 0., 0., 0., 0., 0., 0., 0., 0., 0., 0., 0., 0., 0.,\n",
              "        0., 0., 0., 0., 0., 0., 0., 0., 0., 0., 0.],\n",
              "       [0., 0., 0., 0., 0., 0., 0., 0., 0., 0., 0., 0., 0., 0., 0., 0.,\n",
              "        0., 0., 0., 0., 0., 0., 0., 0., 0., 0., 0.],\n",
              "       [0., 0., 0., 0., 0., 0., 0., 0., 0., 0., 0., 0., 0., 0., 0., 0.,\n",
              "        0., 0., 0., 0., 0., 0., 0., 0., 0., 0., 0.],\n",
              "       [0., 0., 0., 0., 0., 0., 0., 0., 0., 0., 0., 0., 0., 0., 0., 0.,\n",
              "        0., 0., 0., 0., 0., 0., 0., 0., 0., 0., 0.],\n",
              "       [0., 0., 0., 0., 0., 0., 0., 0., 0., 0., 0., 0., 0., 0., 0., 0.,\n",
              "        0., 0., 0., 0., 0., 0., 0., 0., 0., 0., 0.],\n",
              "       [0., 0., 0., 0., 0., 0., 0., 0., 0., 0., 0., 0., 0., 0., 0., 0.,\n",
              "        0., 0., 0., 0., 0., 0., 0., 0., 0., 0., 0.],\n",
              "       [0., 0., 0., 0., 0., 0., 0., 0., 0., 0., 0., 0., 0., 0., 0., 0.,\n",
              "        0., 0., 0., 0., 0., 0., 0., 0., 0., 0., 0.],\n",
              "       [0., 0., 0., 0., 0., 0., 0., 0., 0., 0., 0., 0., 0., 0., 0., 0.,\n",
              "        0., 0., 0., 0., 0., 0., 0., 0., 0., 0., 0.],\n",
              "       [0., 0., 0., 0., 0., 0., 0., 0., 0., 0., 0., 0., 0., 0., 0., 0.,\n",
              "        0., 0., 0., 0., 0., 0., 0., 0., 0., 0., 0.],\n",
              "       [0., 0., 0., 0., 0., 0., 0., 0., 0., 0., 0., 0., 0., 0., 0., 0.,\n",
              "        0., 0., 0., 0., 0., 0., 0., 0., 0., 0., 0.],\n",
              "       [0., 0., 0., 0., 0., 0., 0., 0., 0., 0., 0., 0., 0., 0., 0., 0.,\n",
              "        0., 0., 0., 0., 0., 0., 0., 0., 0., 0., 0.],\n",
              "       [0., 0., 0., 0., 0., 0., 0., 0., 0., 0., 0., 0., 0., 0., 0., 0.,\n",
              "        0., 0., 0., 0., 0., 0., 0., 0., 0., 0., 0.],\n",
              "       [0., 0., 0., 0., 0., 0., 0., 0., 0., 0., 0., 0., 0., 0., 0., 0.,\n",
              "        0., 0., 0., 0., 0., 0., 0., 0., 0., 0., 0.],\n",
              "       [0., 0., 0., 0., 0., 0., 0., 0., 0., 0., 0., 0., 0., 0., 0., 0.,\n",
              "        0., 0., 0., 0., 0., 0., 0., 0., 0., 0., 0.],\n",
              "       [0., 0., 0., 0., 0., 0., 0., 0., 0., 0., 0., 0., 0., 0., 0., 0.,\n",
              "        0., 0., 0., 0., 0., 0., 0., 0., 0., 0., 0.],\n",
              "       [0., 0., 0., 0., 0., 0., 0., 0., 0., 0., 0., 0., 0., 0., 0., 0.,\n",
              "        0., 0., 0., 0., 0., 0., 0., 0., 0., 0., 0.],\n",
              "       [0., 0., 0., 0., 0., 0., 0., 0., 0., 0., 0., 0., 0., 0., 0., 0.,\n",
              "        0., 0., 0., 0., 0., 0., 0., 0., 0., 0., 0.],\n",
              "       [0., 0., 0., 0., 0., 0., 0., 0., 0., 0., 0., 0., 0., 0., 0., 0.,\n",
              "        0., 0., 0., 0., 0., 0., 0., 0., 0., 0., 0.],\n",
              "       [0., 0., 0., 0., 0., 0., 0., 0., 0., 0., 0., 0., 0., 0., 0., 0.,\n",
              "        0., 0., 0., 0., 0., 0., 0., 0., 0., 0., 0.],\n",
              "       [0., 0., 0., 0., 0., 0., 0., 0., 0., 0., 0., 0., 0., 0., 0., 0.,\n",
              "        0., 0., 0., 0., 0., 0., 0., 0., 0., 0., 0.],\n",
              "       [0., 0., 0., 0., 0., 0., 0., 0., 0., 0., 0., 0., 0., 0., 0., 0.,\n",
              "        0., 0., 0., 0., 0., 0., 0., 0., 0., 0., 0.],\n",
              "       [0., 0., 0., 0., 0., 0., 0., 0., 0., 0., 0., 0., 0., 0., 0., 0.,\n",
              "        0., 0., 0., 0., 0., 0., 0., 0., 0., 0., 0.],\n",
              "       [0., 0., 0., 0., 0., 0., 0., 0., 0., 0., 0., 0., 0., 0., 0., 0.,\n",
              "        0., 0., 0., 0., 0., 0., 0., 0., 0., 0., 0.],\n",
              "       [0., 0., 0., 0., 0., 0., 0., 0., 0., 0., 0., 0., 0., 0., 0., 0.,\n",
              "        0., 0., 0., 0., 0., 0., 0., 0., 0., 0., 0.]])"
            ]
          },
          "metadata": {},
          "execution_count": 79
        }
      ]
    },
    {
      "cell_type": "code",
      "source": [],
      "metadata": {
        "id": "magCgy4Rkzie"
      },
      "execution_count": null,
      "outputs": []
    }
  ]
}