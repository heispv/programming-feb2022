{
  "nbformat": 4,
  "nbformat_minor": 0,
  "metadata": {
    "colab": {
      "provenance": [],
      "authorship_tag": "ABX9TyMBSUGmyePqKNf7ri57m37u",
      "include_colab_link": true
    },
    "kernelspec": {
      "name": "python3",
      "display_name": "Python 3"
    },
    "language_info": {
      "name": "python"
    }
  },
  "cells": [
    {
      "cell_type": "markdown",
      "metadata": {
        "id": "view-in-github",
        "colab_type": "text"
      },
      "source": [
        "<a href=\"https://colab.research.google.com/github/heispv/programming-feb2023/blob/master/25_programming_exercise.ipynb\" target=\"_parent\"><img src=\"https://colab.research.google.com/assets/colab-badge.svg\" alt=\"Open In Colab\"/></a>"
      ]
    },
    {
      "cell_type": "markdown",
      "source": [
        "Barnamei benvisid ke yek jomle az user be onvane vurudi migire va yek dictionary barmigardoone ke kilid haye dictionary kalamate unique oon jomle hast va value haye oon kilid ha tedade tekrar shodane oon kalame dar jomle mibashad.\n",
        "\n",
        "agar vurudi ma:\n",
        "```\n",
        "'salam khoobi chera emrooz be doostet salam nakardi.'\n",
        "```\n",
        "\n",
        "bayad khurji:\n",
        "```\n",
        "{\n",
        "  'salam': 2,\n",
        "  'khoobi': 1,\n",
        "  'chera': 1,\n",
        "  'emrooz': 1,\n",
        "  'be': 1,\n",
        "  'doostet': 1,\n",
        "  'nakardi': 1\n",
        "}\n",
        "```\n",
        "bashad.\n",
        "\n",
        "*Hint* : bayad be komake halghe masale ro hal konid."
      ],
      "metadata": {
        "id": "DU834ZrLFvrj"
      }
    }
  ]
}