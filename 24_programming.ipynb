{
  "nbformat": 4,
  "nbformat_minor": 0,
  "metadata": {
    "colab": {
      "provenance": [],
      "authorship_tag": "ABX9TyOWwrngtMn6AiAXlZVFHqWA",
      "include_colab_link": true
    },
    "kernelspec": {
      "name": "python3",
      "display_name": "Python 3"
    },
    "language_info": {
      "name": "python"
    }
  },
  "cells": [
    {
      "cell_type": "markdown",
      "metadata": {
        "id": "view-in-github",
        "colab_type": "text"
      },
      "source": [
        "<a href=\"https://colab.research.google.com/github/heispv/programming-feb2023/blob/master/24_programming.ipynb\" target=\"_parent\"><img src=\"https://colab.research.google.com/assets/colab-badge.svg\" alt=\"Open In Colab\"/></a>"
      ]
    },
    {
      "cell_type": "markdown",
      "source": [
        "Mikhaim yek code i bzanim ke biad yek text az user begire va bebine ke chand harfe seda dar dakhele oon jomle hast.\n",
        "\n",
        "be in deghat konim ke hurufe seda dar zabane english `aeiou` hastesh."
      ],
      "metadata": {
        "id": "HvhnHRyP-oLU"
      }
    },
    {
      "cell_type": "code",
      "source": [
        "def tedad_seda():\n",
        "\n",
        "  # Inputs\n",
        "  sentence = input('Enter your sentence: ').lower()\n",
        "  seda_dar = 'aeiou'\n",
        "  count = 0\n",
        "\n",
        "  # Tak take harf haye jomle ro begirim\n",
        "  for harf in sentence:\n",
        "    # Check konim ke seda dar hast ya na\n",
        "    if harf in seda_dar:\n",
        "      count += 1 # count = count + 1\n",
        "\n",
        "  print(f'Tedade hurufe seda dar {count} ast.')\n",
        "\n",
        "  return count"
      ],
      "metadata": {
        "id": "wzZ-XBtm_wsP"
      },
      "execution_count": null,
      "outputs": []
    },
    {
      "cell_type": "code",
      "source": [
        "tedad = tedad_seda()"
      ],
      "metadata": {
        "colab": {
          "base_uri": "https://localhost:8080/"
        },
        "id": "qT-WUEl3EeF8",
        "outputId": "73fc9448-fb93-4d91-c077-ac13070ed288"
      },
      "execution_count": null,
      "outputs": [
        {
          "output_type": "stream",
          "name": "stdout",
          "text": [
            "Enter your sentence: salam BACHEA\n",
            "Tedade hurufe seda dar 5 ast.\n"
          ]
        }
      ]
    },
    {
      "cell_type": "code",
      "source": [
        "tedad"
      ],
      "metadata": {
        "colab": {
          "base_uri": "https://localhost:8080/"
        },
        "id": "ITijlVgvFm_Z",
        "outputId": "669e13fa-7c2f-4a98-e434-699ac68a0a2d"
      },
      "execution_count": null,
      "outputs": [
        {
          "output_type": "execute_result",
          "data": {
            "text/plain": [
              "5"
            ]
          },
          "metadata": {},
          "execution_count": 51
        }
      ]
    },
    {
      "cell_type": "code",
      "source": [
        "def tedad_harf(harfha):\n",
        "\n",
        "  # Inputs\n",
        "  sentence = input('Enter your sentence: ').lower()\n",
        "  count = 0\n",
        "\n",
        "  # Tak take harf haye jomle ro begirim\n",
        "  for harf in sentence:\n",
        "    # Check konim ke seda dar hast ya na\n",
        "    if harf in harfha:\n",
        "      count += 1 # count = count + 1\n",
        "\n",
        "  print(f'Tedade hurufe {harfha} dakhele jomlei ke neveshtin {count} ast.')\n",
        "\n",
        "  return count"
      ],
      "metadata": {
        "id": "NR9eDV8zGHwS"
      },
      "execution_count": null,
      "outputs": []
    },
    {
      "cell_type": "code",
      "source": [
        "tedad_harf = tedad_harf('bg')"
      ],
      "metadata": {
        "colab": {
          "base_uri": "https://localhost:8080/"
        },
        "id": "NsfNxhbzGa6p",
        "outputId": "cd420daf-f9e8-4bbd-ec64-22df0fee5125"
      },
      "execution_count": null,
      "outputs": [
        {
          "output_type": "stream",
          "name": "stdout",
          "text": [
            "Enter your sentence: salam bachea\n",
            "Tedade hurufe bg dakhele jomlei ke neveshtin 1 ast.\n"
          ]
        }
      ]
    },
    {
      "cell_type": "code",
      "source": [
        "tedad_harf"
      ],
      "metadata": {
        "colab": {
          "base_uri": "https://localhost:8080/"
        },
        "id": "_4BqgXrMG6MJ",
        "outputId": "be505a3a-d71d-4b00-d3ad-07320b15e85b"
      },
      "execution_count": null,
      "outputs": [
        {
          "output_type": "execute_result",
          "data": {
            "text/plain": [
              "1"
            ]
          },
          "metadata": {},
          "execution_count": 61
        }
      ]
    },
    {
      "cell_type": "markdown",
      "source": [
        "# OOP"
      ],
      "metadata": {
        "id": "yjtFTFwXHBFy"
      }
    },
    {
      "cell_type": "code",
      "source": [
        "class Person:\n",
        "\n",
        "  def __init__(self, name, age, gender):\n",
        "    self.name = name\n",
        "    self.age = age\n",
        "    self.g = gender\n",
        "\n",
        "  def introduce(self):\n",
        "    print(f'Salam esme man {self.name} hastesh va {self.age} sal sen daram.')\n",
        "\n",
        "  def gender(self):\n",
        "    if self.g == 'male':\n",
        "      print(\"I'm a boy\")\n",
        "    else:\n",
        "      print(\"I'm a girl\")"
      ],
      "metadata": {
        "id": "fR9WoOSsG_rB"
      },
      "execution_count": null,
      "outputs": []
    },
    {
      "cell_type": "code",
      "source": [
        "shakhs1 = Person('Jack', 41, 'male')"
      ],
      "metadata": {
        "id": "VHxZuFuMMjup"
      },
      "execution_count": null,
      "outputs": []
    },
    {
      "cell_type": "code",
      "source": [
        "shakhs2 = Person('Lara', 21, 'female')"
      ],
      "metadata": {
        "id": "6-_gegg3N5dR"
      },
      "execution_count": null,
      "outputs": []
    },
    {
      "cell_type": "code",
      "source": [
        "shakhs1.name"
      ],
      "metadata": {
        "colab": {
          "base_uri": "https://localhost:8080/",
          "height": 36
        },
        "id": "JU7rILc8Mvf4",
        "outputId": "044874a5-cecb-41bb-90aa-616348573df3"
      },
      "execution_count": null,
      "outputs": [
        {
          "output_type": "execute_result",
          "data": {
            "text/plain": [
              "'Jack'"
            ],
            "application/vnd.google.colaboratory.intrinsic+json": {
              "type": "string"
            }
          },
          "metadata": {},
          "execution_count": 87
        }
      ]
    },
    {
      "cell_type": "code",
      "source": [
        "shakhs2.name"
      ],
      "metadata": {
        "colab": {
          "base_uri": "https://localhost:8080/",
          "height": 36
        },
        "id": "eAN4EX5hN9_A",
        "outputId": "2874c1dd-9015-4411-8efc-ca9782637bed"
      },
      "execution_count": null,
      "outputs": [
        {
          "output_type": "execute_result",
          "data": {
            "text/plain": [
              "'Lara'"
            ],
            "application/vnd.google.colaboratory.intrinsic+json": {
              "type": "string"
            }
          },
          "metadata": {},
          "execution_count": 88
        }
      ]
    },
    {
      "cell_type": "code",
      "source": [
        "shakhs1.age"
      ],
      "metadata": {
        "colab": {
          "base_uri": "https://localhost:8080/"
        },
        "id": "rlgQZDNmMxmB",
        "outputId": "b967b162-2c4c-42c1-cece-ff06469d3b7e"
      },
      "execution_count": null,
      "outputs": [
        {
          "output_type": "execute_result",
          "data": {
            "text/plain": [
              "41"
            ]
          },
          "metadata": {},
          "execution_count": 89
        }
      ]
    },
    {
      "cell_type": "code",
      "source": [
        "shakhs2.age"
      ],
      "metadata": {
        "colab": {
          "base_uri": "https://localhost:8080/"
        },
        "id": "n-JYf4aYOAUh",
        "outputId": "27703d70-85f2-4450-ef9b-b11707a535df"
      },
      "execution_count": null,
      "outputs": [
        {
          "output_type": "execute_result",
          "data": {
            "text/plain": [
              "21"
            ]
          },
          "metadata": {},
          "execution_count": 90
        }
      ]
    },
    {
      "cell_type": "code",
      "source": [
        "shakhs1.introduce()"
      ],
      "metadata": {
        "colab": {
          "base_uri": "https://localhost:8080/"
        },
        "id": "CMOWun7CNufB",
        "outputId": "b7ed554b-0c09-4b4e-86cd-ed5353caa2b8"
      },
      "execution_count": null,
      "outputs": [
        {
          "output_type": "stream",
          "name": "stdout",
          "text": [
            "Salam esme man Jack hastesh va 41 sal sen daram.\n"
          ]
        }
      ]
    },
    {
      "cell_type": "code",
      "source": [
        "shakhs2.introduce()"
      ],
      "metadata": {
        "colab": {
          "base_uri": "https://localhost:8080/"
        },
        "id": "aYpNQPJIOECx",
        "outputId": "dfce877a-5dbb-46b6-d806-f5e8650d4788"
      },
      "execution_count": null,
      "outputs": [
        {
          "output_type": "stream",
          "name": "stdout",
          "text": [
            "Salam esme man Lara hastesh va 21 sal sen daram.\n"
          ]
        }
      ]
    },
    {
      "cell_type": "code",
      "source": [
        "shakhs1.gender()"
      ],
      "metadata": {
        "id": "BQlEwusNPF0I",
        "outputId": "0e375f56-6dcc-4ad9-d36a-700879ab9161",
        "colab": {
          "base_uri": "https://localhost:8080/"
        }
      },
      "execution_count": null,
      "outputs": [
        {
          "output_type": "stream",
          "name": "stdout",
          "text": [
            "I'm a boy\n"
          ]
        }
      ]
    },
    {
      "cell_type": "code",
      "source": [
        "shakhs2.gender()"
      ],
      "metadata": {
        "id": "u4zNni5jPI5c",
        "outputId": "a07aebac-5b81-48a8-9a89-847c6edbcecb",
        "colab": {
          "base_uri": "https://localhost:8080/"
        }
      },
      "execution_count": null,
      "outputs": [
        {
          "output_type": "stream",
          "name": "stdout",
          "text": [
            "I'm a girl\n"
          ]
        }
      ]
    },
    {
      "cell_type": "code",
      "source": [],
      "metadata": {
        "id": "CxygvImbPKlL"
      },
      "execution_count": null,
      "outputs": []
    }
  ]
}