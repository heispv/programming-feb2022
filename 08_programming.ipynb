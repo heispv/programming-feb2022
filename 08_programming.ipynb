{
  "nbformat": 4,
  "nbformat_minor": 0,
  "metadata": {
    "colab": {
      "provenance": [],
      "authorship_tag": "ABX9TyPP7tu8VoEUJntMDdRy9SIn"
    },
    "kernelspec": {
      "name": "python3",
      "display_name": "Python 3"
    },
    "language_info": {
      "name": "python"
    }
  },
  "cells": [
    {
      "cell_type": "markdown",
      "source": [
        "# Loop\n",
        "\n",
        "yek seri az khutut tooye code emoon bayad chand bar run beshan, bekhatere hamin miaim va az loop ha estefade mikonim.\n",
        "\n",
        "be do halat mitoonim halghe haro moshakhas konim va azashoon estefade bokonim.\n",
        "\n",
        "* for\n",
        "* while\n",
        "\n",
        "`for sth in sth:\n",
        "\n",
        "  do something`"
      ],
      "metadata": {
        "id": "n1hDVlk7-X6J"
      }
    },
    {
      "cell_type": "code",
      "source": [
        "mive_ha = ['portoghal', 'moz', 'goje', 'hulu', 'hendoone']"
      ],
      "metadata": {
        "id": "tlHj-WqfDVQm"
      },
      "execution_count": 7,
      "outputs": []
    },
    {
      "cell_type": "code",
      "source": [
        "for mive in mive_ha:\n",
        "  print(mive)"
      ],
      "metadata": {
        "colab": {
          "base_uri": "https://localhost:8080/"
        },
        "id": "kLKXcB6iC1A8",
        "outputId": "bb13b688-51c6-4a2b-c65f-ed338ad95182"
      },
      "execution_count": 8,
      "outputs": [
        {
          "output_type": "stream",
          "name": "stdout",
          "text": [
            "portoghal\n",
            "moz\n",
            "goje\n",
            "hulu\n",
            "hendoone\n"
          ]
        }
      ]
    },
    {
      "cell_type": "code",
      "source": [
        "for i in range(len(mive_ha)):\n",
        "  print(f'in index {i} we have {mive_ha[i]}')"
      ],
      "metadata": {
        "colab": {
          "base_uri": "https://localhost:8080/"
        },
        "id": "2aIOdLIlMo97",
        "outputId": "b9661b73-3857-43d3-a1e9-17f35bffbaf1"
      },
      "execution_count": 42,
      "outputs": [
        {
          "output_type": "stream",
          "name": "stdout",
          "text": [
            "in index 0 we have portoghal\n",
            "in index 1 we have moz\n",
            "in index 2 we have goje\n",
            "in index 3 we have hulu\n",
            "in index 4 we have hendoone\n"
          ]
        }
      ]
    },
    {
      "cell_type": "code",
      "source": [
        "x = [1, 2, 3]\n",
        "y = ['a', 'b', 'c']"
      ],
      "metadata": {
        "id": "h_7Aha_CD4Il"
      },
      "execution_count": 9,
      "outputs": []
    },
    {
      "cell_type": "code",
      "source": [
        "for adad in x:\n",
        "  for harf in y:\n",
        "    print(f'Adad: {adad} Harf: {harf}')"
      ],
      "metadata": {
        "colab": {
          "base_uri": "https://localhost:8080/"
        },
        "id": "IK2Ks6ehEcdV",
        "outputId": "6d7528e8-6410-42e5-eca7-84c8eef8bace"
      },
      "execution_count": 10,
      "outputs": [
        {
          "output_type": "stream",
          "name": "stdout",
          "text": [
            "Adad: 1 Harf: a\n",
            "Adad: 1 Harf: b\n",
            "Adad: 1 Harf: c\n",
            "Adad: 2 Harf: a\n",
            "Adad: 2 Harf: b\n",
            "Adad: 2 Harf: c\n",
            "Adad: 3 Harf: a\n",
            "Adad: 3 Harf: b\n",
            "Adad: 3 Harf: c\n"
          ]
        }
      ]
    },
    {
      "cell_type": "markdown",
      "source": [
        "> alave bar list ha ma mitoonim tooye data type haye dge ham `iterate` konim ke oona ebaratand az:\n",
        "\n",
        "* dict\n",
        "* str\n",
        "* tuple\n",
        "* set"
      ],
      "metadata": {
        "id": "3XgXy7UjEuYy"
      }
    },
    {
      "cell_type": "code",
      "source": [
        "viper = {\n",
        "    'Game' : 'Dota2',\n",
        "    'HP' : 'High',\n",
        "    'Attack Type' : 'Ranged',\n",
        "    'Roles' : ['Carry', 'Disabler', 'Durable', 'Initiatior']\n",
        "}"
      ],
      "metadata": {
        "id": "5KquoKDgG311"
      },
      "execution_count": 11,
      "outputs": []
    },
    {
      "cell_type": "code",
      "source": [
        "viper.items()"
      ],
      "metadata": {
        "colab": {
          "base_uri": "https://localhost:8080/"
        },
        "id": "J47PgHxyIjrX",
        "outputId": "51109764-792c-46f2-8d03-0abbc23736b3"
      },
      "execution_count": 23,
      "outputs": [
        {
          "output_type": "execute_result",
          "data": {
            "text/plain": [
              "dict_items([('Game', 'Dota2'), ('HP', 'High'), ('Attack Type', 'Ranged'), ('Roles', ['Carry', 'Disabler', 'Durable', 'Initiatior'])])"
            ]
          },
          "metadata": {},
          "execution_count": 23
        }
      ]
    },
    {
      "cell_type": "code",
      "source": [
        "for items in viper.items():\n",
        "  print(f'Key: {items[0]} -- Value: {items[1]}')"
      ],
      "metadata": {
        "colab": {
          "base_uri": "https://localhost:8080/"
        },
        "id": "1mgSgQ2iG-yU",
        "outputId": "7eff1c26-0473-42a5-f70f-2567e77b204a"
      },
      "execution_count": 16,
      "outputs": [
        {
          "output_type": "stream",
          "name": "stdout",
          "text": [
            "Key: Game -- Value: Dota2\n",
            "Key: HP -- Value: High\n",
            "Key: Attack Type -- Value: Ranged\n",
            "Key: Roles -- Value: ['Carry', 'Disabler', 'Durable', 'Initiatior']\n"
          ]
        }
      ]
    },
    {
      "cell_type": "code",
      "source": [
        "for items in viper.items():\n",
        "  my_key, my_value = items\n",
        "  print(f'Key: {my_key} -- Value: {my_value}')"
      ],
      "metadata": {
        "colab": {
          "base_uri": "https://localhost:8080/"
        },
        "id": "rOPCqDTsHDcd",
        "outputId": "09fcd071-c0dc-4e67-914b-03cb675fb68e"
      },
      "execution_count": 21,
      "outputs": [
        {
          "output_type": "stream",
          "name": "stdout",
          "text": [
            "Key: Game -- Value: Dota2\n",
            "Key: HP -- Value: High\n",
            "Key: Attack Type -- Value: Ranged\n",
            "Key: Roles -- Value: ['Carry', 'Disabler', 'Durable', 'Initiatior']\n"
          ]
        }
      ]
    },
    {
      "cell_type": "code",
      "source": [
        "for my_key, my_value in viper.items():\n",
        "  print(f'Key: {my_key} -- Value: {my_value}')"
      ],
      "metadata": {
        "colab": {
          "base_uri": "https://localhost:8080/"
        },
        "id": "wVmcGfDsIazP",
        "outputId": "d2688f12-5c14-47a1-8b8f-f24d9c7183b0"
      },
      "execution_count": 28,
      "outputs": [
        {
          "output_type": "stream",
          "name": "stdout",
          "text": [
            "Key: Game -- Value: Dota2\n",
            "Key: HP -- Value: High\n",
            "Key: Attack Type -- Value: Ranged\n",
            "Key: Roles -- Value: ['Carry', 'Disabler', 'Durable', 'Initiatior']\n"
          ]
        }
      ]
    },
    {
      "cell_type": "code",
      "source": [
        "viper.keys()"
      ],
      "metadata": {
        "colab": {
          "base_uri": "https://localhost:8080/"
        },
        "id": "cqB0dPDoI3h_",
        "outputId": "2e547e15-ceac-4ed9-95aa-2248a0d8c397"
      },
      "execution_count": 24,
      "outputs": [
        {
          "output_type": "execute_result",
          "data": {
            "text/plain": [
              "dict_keys(['Game', 'HP', 'Attack Type', 'Roles'])"
            ]
          },
          "metadata": {},
          "execution_count": 24
        }
      ]
    },
    {
      "cell_type": "code",
      "source": [
        "liste_adad = [1, 2, 3, 4, 5, 6, 7, 8]\n",
        "sum(liste_adad)"
      ],
      "metadata": {
        "colab": {
          "base_uri": "https://localhost:8080/"
        },
        "id": "iXDet9SjIGej",
        "outputId": "88f7bb54-c045-4fd2-be00-58d6bab984e2"
      },
      "execution_count": 29,
      "outputs": [
        {
          "output_type": "execute_result",
          "data": {
            "text/plain": [
              "36"
            ]
          },
          "metadata": {},
          "execution_count": 29
        }
      ]
    },
    {
      "cell_type": "markdown",
      "source": [
        "> biaim yek code benvisim ke mesle funciton e sum baraye list ha amal bokone"
      ],
      "metadata": {
        "id": "evN-mCEXJubO"
      }
    },
    {
      "cell_type": "code",
      "source": [
        "majmoo = 0\n",
        "\n",
        "for adad in liste_adad:\n",
        "  majmoo = majmoo + adad\n",
        "\n",
        "print(majmoo)"
      ],
      "metadata": {
        "colab": {
          "base_uri": "https://localhost:8080/"
        },
        "id": "zRzi8finKILX",
        "outputId": "33f3a811-d42c-4b90-b216-8d99e15ca0e6"
      },
      "execution_count": 32,
      "outputs": [
        {
          "output_type": "stream",
          "name": "stdout",
          "text": [
            "36\n"
          ]
        }
      ]
    },
    {
      "cell_type": "code",
      "source": [
        "range(10)"
      ],
      "metadata": {
        "colab": {
          "base_uri": "https://localhost:8080/"
        },
        "id": "V-O86GqHLlB5",
        "outputId": "97b1f968-d1ea-49f1-a954-ed522a64c4aa"
      },
      "execution_count": 36,
      "outputs": [
        {
          "output_type": "execute_result",
          "data": {
            "text/plain": [
              "range(0, 10)"
            ]
          },
          "metadata": {},
          "execution_count": 36
        }
      ]
    },
    {
      "cell_type": "code",
      "source": [
        "list(range(10))"
      ],
      "metadata": {
        "colab": {
          "base_uri": "https://localhost:8080/"
        },
        "id": "vpy6H4YzLXNA",
        "outputId": "d8938a5e-1931-4830-9294-bc86cf52fb00"
      },
      "execution_count": 35,
      "outputs": [
        {
          "output_type": "execute_result",
          "data": {
            "text/plain": [
              "[0, 1, 2, 3, 4, 5, 6, 7, 8, 9]"
            ]
          },
          "metadata": {},
          "execution_count": 35
        }
      ]
    },
    {
      "cell_type": "code",
      "source": [
        "# mikhaim yek halghe benvisim ke faghat 5 bar tekrar beshe\n",
        "for i in range(5):\n",
        "  print(f'hello and i is {i}')"
      ],
      "metadata": {
        "colab": {
          "base_uri": "https://localhost:8080/"
        },
        "id": "1xa4NusoL1IS",
        "outputId": "a87b1526-f084-464d-fed2-5d284560a4fc"
      },
      "execution_count": 38,
      "outputs": [
        {
          "output_type": "stream",
          "name": "stdout",
          "text": [
            "hello and i is 0\n",
            "hello and i is 1\n",
            "hello and i is 2\n",
            "hello and i is 3\n",
            "hello and i is 4\n"
          ]
        }
      ]
    },
    {
      "cell_type": "code",
      "source": [
        "esm = 'Jack'\n",
        "\n",
        "for letter in esm:\n",
        "  print(letter)"
      ],
      "metadata": {
        "colab": {
          "base_uri": "https://localhost:8080/"
        },
        "id": "N122gwdCMPn0",
        "outputId": "3f27ccea-e733-4be3-c89e-2135f621425f"
      },
      "execution_count": 43,
      "outputs": [
        {
          "output_type": "stream",
          "name": "stdout",
          "text": [
            "J\n",
            "a\n",
            "c\n",
            "k\n"
          ]
        }
      ]
    },
    {
      "cell_type": "code",
      "source": [
        "for i in range(len(esm)):\n",
        "  print(f'{esm[i]} and the index is {i}')"
      ],
      "metadata": {
        "colab": {
          "base_uri": "https://localhost:8080/"
        },
        "id": "VUHfmy-UOng1",
        "outputId": "98c84042-2cd9-4b75-ee03-91da783e0fda"
      },
      "execution_count": 45,
      "outputs": [
        {
          "output_type": "stream",
          "name": "stdout",
          "text": [
            "J and the index is 0\n",
            "a and the index is 1\n",
            "c and the index is 2\n",
            "k and the index is 3\n"
          ]
        }
      ]
    },
    {
      "cell_type": "markdown",
      "source": [
        "> deghat bokonin ke tooye function e enumerate avalin variable esh index e va dovomish oon object e morede nazare."
      ],
      "metadata": {
        "id": "o3VmPWVeP4dX"
      }
    },
    {
      "cell_type": "code",
      "source": [
        "for i, letter in enumerate(esm):\n",
        "  print(f'{letter} and the index is {i}')"
      ],
      "metadata": {
        "colab": {
          "base_uri": "https://localhost:8080/"
        },
        "id": "ZRWJAtj5Oz5Y",
        "outputId": "6043dad2-e7af-460a-cf68-abb668063bb6"
      },
      "execution_count": 52,
      "outputs": [
        {
          "output_type": "stream",
          "name": "stdout",
          "text": [
            "J and the index is 0\n",
            "a and the index is 1\n",
            "c and the index is 2\n",
            "k and the index is 3\n"
          ]
        }
      ]
    },
    {
      "cell_type": "markdown",
      "source": [
        "## Continue"
      ],
      "metadata": {
        "id": "iRqR-ogZPftg"
      }
    },
    {
      "cell_type": "code",
      "source": [
        "for i in range(9):\n",
        "  if i == 3:\n",
        "    continue\n",
        "  print(i)"
      ],
      "metadata": {
        "colab": {
          "base_uri": "https://localhost:8080/"
        },
        "id": "5xwnUs8jRfNS",
        "outputId": "eae53a6a-e0eb-4b88-9dd2-cdf04f91b31d"
      },
      "execution_count": 59,
      "outputs": [
        {
          "output_type": "stream",
          "name": "stdout",
          "text": [
            "0\n",
            "1\n",
            "2\n",
            "4\n",
            "5\n",
            "6\n",
            "7\n",
            "8\n"
          ]
        }
      ]
    },
    {
      "cell_type": "code",
      "source": [],
      "metadata": {
        "id": "bgwKb-8ZR4CE"
      },
      "execution_count": null,
      "outputs": []
    }
  ]
}