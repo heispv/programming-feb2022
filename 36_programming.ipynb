{
  "nbformat": 4,
  "nbformat_minor": 0,
  "metadata": {
    "colab": {
      "provenance": [],
      "include_colab_link": true
    },
    "kernelspec": {
      "name": "python3",
      "display_name": "Python 3"
    },
    "language_info": {
      "name": "python"
    }
  },
  "cells": [
    {
      "cell_type": "markdown",
      "metadata": {
        "id": "view-in-github",
        "colab_type": "text"
      },
      "source": [
        "<a href=\"https://colab.research.google.com/github/heispv/programming-feb2023/blob/master/36_programming.ipynb\" target=\"_parent\"><img src=\"https://colab.research.google.com/assets/colab-badge.svg\" alt=\"Open In Colab\"/></a>"
      ]
    },
    {
      "cell_type": "markdown",
      "source": [
        "this weeks assignment with the date and time displayed at every deposit and withdrawal"
      ],
      "metadata": {
        "id": "Tq9oVk3KxFDL"
      }
    },
    {
      "cell_type": "code",
      "source": [
        "import datetime"
      ],
      "metadata": {
        "id": "-Us68XBjoU03"
      },
      "execution_count": 1,
      "outputs": []
    },
    {
      "cell_type": "code",
      "source": [
        "class Bank:\n",
        "    bank_name = \"Bank of America\"\n",
        "\n",
        "    def __init__(self, initial_balance=0):\n",
        "        self.__balance = initial_balance\n",
        "\n",
        "    def show_balance(self):\n",
        "        return self.__balance\n",
        "        # print(self.__balance)\n",
        "\n",
        "    def deposit_balance(self, deposit_amount):\n",
        "        self.__balance += deposit_amount\n",
        "        current_time = datetime.datetime.now()\n",
        "        formatted_time = current_time.strftime(\"%Y-%m-%d %H:%M:%S\")\n",
        "        print(f\"You have deposited {deposit_amount} and your balance is now {self.__balance}, time of deposit: {formatted_time}\")\n",
        "        return self.__balance, deposit_amount\n",
        "\n",
        "    def withdraw_balance(self, withdrawal_amount):\n",
        "        if withdrawal_amount > self.__balance:\n",
        "            print(\"Invalid number\")\n",
        "        else:\n",
        "            self.__balance -= withdrawal_amount\n",
        "            current_time = datetime.datetime.now()\n",
        "            formatted_time = current_time.strftime(\"%Y-%m-%d %H:%M:%S\")\n",
        "            print(f\"You have withdrawn {withdrawal_amount} and your balance is now {self.__balance}, time of withdrawal: {formatted_time}\")\n"
      ],
      "metadata": {
        "id": "MEloWzQ3laNU"
      },
      "execution_count": 2,
      "outputs": []
    },
    {
      "cell_type": "code",
      "source": [
        "peyman = Bank(100)"
      ],
      "metadata": {
        "id": "-MP0W8M8zEbJ"
      },
      "execution_count": 3,
      "outputs": []
    },
    {
      "cell_type": "code",
      "source": [
        "pool_man = peyman.show_balance()"
      ],
      "metadata": {
        "id": "aJtVIndxzxiC"
      },
      "execution_count": 4,
      "outputs": []
    },
    {
      "cell_type": "code",
      "source": [
        "pool_man"
      ],
      "metadata": {
        "id": "GWOwqhhrzyzx",
        "outputId": "e477c97a-b6d9-4b62-ae47-7f4f98339577",
        "colab": {
          "base_uri": "https://localhost:8080/"
        }
      },
      "execution_count": 5,
      "outputs": [
        {
          "output_type": "execute_result",
          "data": {
            "text/plain": [
              "100"
            ]
          },
          "metadata": {},
          "execution_count": 5
        }
      ]
    },
    {
      "cell_type": "code",
      "source": [
        "my_balance, my_deposit = peyman.deposit_balance(20)"
      ],
      "metadata": {
        "id": "wipYMFLg1OrP",
        "outputId": "0af83cf0-9a8f-46ff-c80c-28dc2a83a8d9",
        "colab": {
          "base_uri": "https://localhost:8080/"
        }
      },
      "execution_count": 6,
      "outputs": [
        {
          "output_type": "stream",
          "name": "stdout",
          "text": [
            "You have deposited 20 and your balance is now 120, time of deposit: 2024-02-16 12:22:15\n"
          ]
        }
      ]
    },
    {
      "cell_type": "code",
      "source": [
        "my_balance"
      ],
      "metadata": {
        "id": "MOB-gxQ72P0E",
        "outputId": "deb4750b-1ed0-47cd-bd81-940c2e898e31",
        "colab": {
          "base_uri": "https://localhost:8080/"
        }
      },
      "execution_count": 7,
      "outputs": [
        {
          "output_type": "execute_result",
          "data": {
            "text/plain": [
              "120"
            ]
          },
          "metadata": {},
          "execution_count": 7
        }
      ]
    },
    {
      "cell_type": "code",
      "source": [
        "my_deposit"
      ],
      "metadata": {
        "id": "PmJD8Z0m2XYV",
        "outputId": "7331c1ba-2900-4a8b-a887-744397d494cc",
        "colab": {
          "base_uri": "https://localhost:8080/"
        }
      },
      "execution_count": 8,
      "outputs": [
        {
          "output_type": "execute_result",
          "data": {
            "text/plain": [
              "20"
            ]
          },
          "metadata": {},
          "execution_count": 8
        }
      ]
    },
    {
      "cell_type": "markdown",
      "source": [
        "# Continue Classes"
      ],
      "metadata": {
        "id": "QFCoxTAi2gSU"
      }
    },
    {
      "cell_type": "code",
      "source": [
        "class Animal:\n",
        "    data = []\n",
        "    def __init__(self, name, age, gender):\n",
        "        self.name = name\n",
        "        self.age = age\n",
        "        self.gender = gender\n",
        "\n",
        "    def information(self):\n",
        "        acceptable_genders = ['m', 'f', 'male', 'female']\n",
        "        if self.gender in acceptable_genders:\n",
        "            if self.gender in ['m', 'male']:\n",
        "                print(f\"This is {self.name} and he is {self.age} year(s) old.\")\n",
        "            else:\n",
        "                print(f\"This is {self.name} and she is {self.age} year(s) old.\")\n",
        "        else:\n",
        "            print(\"Gender is not acceptable.\")"
      ],
      "metadata": {
        "id": "5PQC8maF3puW"
      },
      "execution_count": 66,
      "outputs": []
    },
    {
      "cell_type": "code",
      "source": [
        "tom = Animal(\"Tom\", 3, 'female')\n",
        "tom.information()"
      ],
      "metadata": {
        "colab": {
          "base_uri": "https://localhost:8080/"
        },
        "id": "mqfdBSb84hcI",
        "outputId": "c6e77f2c-c464-4272-dc98-65c0e5d92e8e"
      },
      "execution_count": 67,
      "outputs": [
        {
          "output_type": "stream",
          "name": "stdout",
          "text": [
            "This is Tom and she is 3 year(s) old.\n"
          ]
        }
      ]
    },
    {
      "cell_type": "code",
      "source": [
        "tom.data.append('hello')"
      ],
      "metadata": {
        "id": "Kc7fnn32DQJm"
      },
      "execution_count": 69,
      "outputs": []
    },
    {
      "cell_type": "code",
      "source": [
        "tom.data"
      ],
      "metadata": {
        "colab": {
          "base_uri": "https://localhost:8080/"
        },
        "id": "DRFqI7qFDV-c",
        "outputId": "daaf9659-991f-447b-9963-de4fe1054981"
      },
      "execution_count": 70,
      "outputs": [
        {
          "output_type": "execute_result",
          "data": {
            "text/plain": [
              "['hello']"
            ]
          },
          "metadata": {},
          "execution_count": 70
        }
      ]
    },
    {
      "cell_type": "code",
      "source": [
        "class Bird(Animal):\n",
        "    def __init__(self, name, age, gender, fur_color):\n",
        "        super().__init__(name, age, gender)\n",
        "        self.fur_color = fur_color\n",
        "\n",
        "    def speak(self):\n",
        "        print(\"jik jik\")"
      ],
      "metadata": {
        "id": "067D1hZK4nc4"
      },
      "execution_count": 71,
      "outputs": []
    },
    {
      "cell_type": "code",
      "source": [
        "parande = Bird('Jack', 2, 'm', 'black')"
      ],
      "metadata": {
        "id": "Y0ixnZgj9_-L"
      },
      "execution_count": 72,
      "outputs": []
    },
    {
      "cell_type": "code",
      "source": [
        "parande.information()"
      ],
      "metadata": {
        "colab": {
          "base_uri": "https://localhost:8080/"
        },
        "id": "7i9zaHMi-VWV",
        "outputId": "0cd23f42-0ce5-4411-cf45-5856e38248b6"
      },
      "execution_count": 73,
      "outputs": [
        {
          "output_type": "stream",
          "name": "stdout",
          "text": [
            "This is Jack and he is 2 year(s) old.\n"
          ]
        }
      ]
    },
    {
      "cell_type": "code",
      "source": [
        "parande.speak()"
      ],
      "metadata": {
        "colab": {
          "base_uri": "https://localhost:8080/"
        },
        "id": "9GJOe-yT-cbt",
        "outputId": "0423075a-7536-440d-bf80-dce4bf2e7962"
      },
      "execution_count": 74,
      "outputs": [
        {
          "output_type": "stream",
          "name": "stdout",
          "text": [
            "jik jik\n"
          ]
        }
      ]
    },
    {
      "cell_type": "code",
      "source": [
        "parande.data"
      ],
      "metadata": {
        "colab": {
          "base_uri": "https://localhost:8080/"
        },
        "id": "WpEOOG0MDaH1",
        "outputId": "2cf399a7-0bd8-4397-e798-f13b8cff453e"
      },
      "execution_count": 75,
      "outputs": [
        {
          "output_type": "execute_result",
          "data": {
            "text/plain": [
              "['hello']"
            ]
          },
          "metadata": {},
          "execution_count": 75
        }
      ]
    },
    {
      "cell_type": "code",
      "source": [
        "class Reptile(Animal):\n",
        "    def __init__(self, name, age, gender, scale):\n",
        "        super().__init__(name, age, gender)\n",
        "        self.scale = scale\n",
        "\n",
        "    def speak(self):\n",
        "        print('wooo')"
      ],
      "metadata": {
        "id": "74nrZ_gM_SEH"
      },
      "execution_count": 57,
      "outputs": []
    },
    {
      "cell_type": "code",
      "source": [
        "marmoolak = Reptile('Jerry', 1, 'male', 'Brown')"
      ],
      "metadata": {
        "id": "uzas4wYF_ylF"
      },
      "execution_count": 58,
      "outputs": []
    },
    {
      "cell_type": "code",
      "source": [
        "marmoolak.information()"
      ],
      "metadata": {
        "colab": {
          "base_uri": "https://localhost:8080/"
        },
        "id": "EyWTpbL_ACGC",
        "outputId": "b9d787a0-e7b6-4648-a208-232d10a028b0"
      },
      "execution_count": 59,
      "outputs": [
        {
          "output_type": "stream",
          "name": "stdout",
          "text": [
            "This is Jerry and he is 1 year(s) old.\n"
          ]
        }
      ]
    },
    {
      "cell_type": "code",
      "source": [
        "marmoolak.speak()"
      ],
      "metadata": {
        "colab": {
          "base_uri": "https://localhost:8080/"
        },
        "id": "XTp0VEkBAELr",
        "outputId": "bacc6a7f-e5ee-4a03-fc03-13a213df2a32"
      },
      "execution_count": 60,
      "outputs": [
        {
          "output_type": "stream",
          "name": "stdout",
          "text": [
            "wooo\n"
          ]
        }
      ]
    },
    {
      "cell_type": "code",
      "source": [
        "class Eagle(Bird):\n",
        "    def __init__(self, name, age, gender, fur_color, ability, beak_color):\n",
        "        super().__init__(name, age, gender, fur_color)\n",
        "        self.ability = ability\n",
        "        self.beak_color = beak_color\n",
        "\n",
        "    def specific_info(self):\n",
        "        print(f\"This eagle's beak color is {self.beak_color} and it has {self.ability} ability\")"
      ],
      "metadata": {
        "id": "IVKPCGz-AGNp"
      },
      "execution_count": 61,
      "outputs": []
    },
    {
      "cell_type": "code",
      "source": [
        "rex = Eagle(\"Rex\", 4, 'female', 'black', 'eye sight', 'black')"
      ],
      "metadata": {
        "id": "Bvcp6BdiBd2b"
      },
      "execution_count": 62,
      "outputs": []
    },
    {
      "cell_type": "code",
      "source": [
        "rex.information()"
      ],
      "metadata": {
        "colab": {
          "base_uri": "https://localhost:8080/"
        },
        "id": "0ggQ4eJWBwqt",
        "outputId": "66d0e3df-9dae-4e73-dc6c-c4a79886c198"
      },
      "execution_count": 63,
      "outputs": [
        {
          "output_type": "stream",
          "name": "stdout",
          "text": [
            "This is Rex and she is 4 year(s) old.\n"
          ]
        }
      ]
    },
    {
      "cell_type": "code",
      "source": [
        "rex.speak()"
      ],
      "metadata": {
        "colab": {
          "base_uri": "https://localhost:8080/"
        },
        "id": "913PhTluB3n7",
        "outputId": "611e72dc-9690-4281-ad1a-181a32a09699"
      },
      "execution_count": 64,
      "outputs": [
        {
          "output_type": "stream",
          "name": "stdout",
          "text": [
            "jik jik\n"
          ]
        }
      ]
    },
    {
      "cell_type": "code",
      "source": [
        "rex.specific_info()"
      ],
      "metadata": {
        "colab": {
          "base_uri": "https://localhost:8080/"
        },
        "id": "XECWqrzTB5OB",
        "outputId": "88c43f69-707d-4ca3-e863-368538b34218"
      },
      "execution_count": 65,
      "outputs": [
        {
          "output_type": "stream",
          "name": "stdout",
          "text": [
            "This eagle's beak color is black and it has eye sight ability\n"
          ]
        }
      ]
    },
    {
      "cell_type": "markdown",
      "source": [
        "* Yek class e mercedes benz (ya har brand e dge) besazin, az rooye oon x(min 3) ta class e mokhtalef baraye serie haye kollie oon besazin, va az har kudum x(min 2) ta class e dge besazin.\n",
        "\n",
        "* har class i ke misazin bayad yek seri attribute e monhaser be fard e khodesh ro dashte bashe, alave bar oon bayad hadeaghal yek function e mokhtas be khodesh ro ham dashte bashe.\n",
        "\n",
        "* alave bar in az harchizi ke ghablan yad gereftim baraye ghashang tar kardane in class ha mitoonin estefade konin.\n",
        "\n",
        "* yek instance attribute ham besazin ke beyne object ha share bashe va mashin haye mokhtalefi ke sakhte mishe ro track kone. bad agar function e show_data ro seda bezanim bayad baid va bege az har mashini ke tahala tolid shode chanta sakhte shode. tarjihan mitoonin bar chart ya pie chart estefade konin."
      ],
      "metadata": {
        "id": "gFp9pflEB8dR"
      }
    },
    {
      "cell_type": "code",
      "source": [],
      "metadata": {
        "id": "NmKhg7uHCcrk"
      },
      "execution_count": null,
      "outputs": []
    }
  ]
}