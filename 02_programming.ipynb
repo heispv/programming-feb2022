{
  "nbformat": 4,
  "nbformat_minor": 0,
  "metadata": {
    "colab": {
      "provenance": [],
      "authorship_tag": "ABX9TyOeSOnQgtYhpwH/YIlv0DJS",
      "include_colab_link": true
    },
    "kernelspec": {
      "name": "python3",
      "display_name": "Python 3"
    },
    "language_info": {
      "name": "python"
    }
  },
  "cells": [
    {
      "cell_type": "markdown",
      "metadata": {
        "id": "view-in-github",
        "colab_type": "text"
      },
      "source": [
        "<a href=\"https://colab.research.google.com/github/heispv/programming-feb2022/blob/master/02_programming.ipynb\" target=\"_parent\"><img src=\"https://colab.research.google.com/assets/colab-badge.svg\" alt=\"Open In Colab\"/></a>"
      ]
    },
    {
      "cell_type": "markdown",
      "source": [
        "# Installing Gitbash\n",
        "\n",
        "3 raveshe mokhtalef baraye estefade kardan az github vujud dare\n",
        "\n",
        "1. site github\n",
        "2. github desktop\n",
        "3. git bash (best)\n",
        "\n",
        "git baraye version control hast.\n",
        "\n",
        "github yki az platform hayie ke toosh az git estefade mishe."
      ],
      "metadata": {
        "id": "4lfQ_qusy5OJ"
      }
    },
    {
      "cell_type": "markdown",
      "source": [
        "tooye git command haye mokhtalefi hast ke mitoonin azash estefade bokonin."
      ],
      "metadata": {
        "id": "e2zqoNIJzbId"
      }
    },
    {
      "cell_type": "markdown",
      "source": [
        "# Git Bash\n",
        "\n",
        "`ls` => baraye inke bebinim tooye directory ke hastim che file hayi mojood hastesh\n",
        "\n",
        "`git clone (address)` => miad va repository i moshakhas kardin ro clone mikone\n",
        "\n",
        "`cd` => (change directory) miad va shomare be address jadidi ke behesh begin montaghel mikone.\n",
        "\n",
        "`git status` => miad check mikone ke shakheyi ke darim dar che hale => yani inke commit hash jolo e ya ghabe.\n",
        "\n",
        "\n",
        "`git add (name)` => injuri file ke darim ro amade mikonim baraye inke commit roosh anjam beshe. (agar khastim hameye file hayi ke edit shode ro amade baraye commit bokonim bejaye esme file az `.` estefade mikonim\n"
      ],
      "metadata": {
        "id": "X5Y2bmTv5xnl"
      }
    },
    {
      "cell_type": "markdown",
      "source": [
        "# Data Types (continue)"
      ],
      "metadata": {
        "id": "mleXJGfT5y6R"
      }
    },
    {
      "cell_type": "code",
      "source": [
        "# bebinim type esh chie\n",
        "type(5)"
      ],
      "metadata": {
        "colab": {
          "base_uri": "https://localhost:8080/"
        },
        "id": "aD2nJySH_-te",
        "outputId": "bb516b81-601f-413b-a94f-fe8da2289c5e"
      },
      "execution_count": 1,
      "outputs": [
        {
          "output_type": "execute_result",
          "data": {
            "text/plain": [
              "int"
            ]
          },
          "metadata": {},
          "execution_count": 1
        }
      ]
    },
    {
      "cell_type": "code",
      "source": [
        "type(0.00001)"
      ],
      "metadata": {
        "colab": {
          "base_uri": "https://localhost:8080/"
        },
        "id": "gIiYv8XqAGd_",
        "outputId": "61605040-fdd4-450c-8925-74a1b8e90263"
      },
      "execution_count": 3,
      "outputs": [
        {
          "output_type": "execute_result",
          "data": {
            "text/plain": [
              "float"
            ]
          },
          "metadata": {},
          "execution_count": 3
        }
      ]
    },
    {
      "cell_type": "code",
      "source": [
        "type(2 + 1.1)"
      ],
      "metadata": {
        "colab": {
          "base_uri": "https://localhost:8080/"
        },
        "id": "aIMlXcTaANmT",
        "outputId": "e6ed19af-acae-4a4c-e7f7-7620dead10c4"
      },
      "execution_count": 5,
      "outputs": [
        {
          "output_type": "execute_result",
          "data": {
            "text/plain": [
              "float"
            ]
          },
          "metadata": {},
          "execution_count": 5
        }
      ]
    },
    {
      "cell_type": "code",
      "source": [
        "type(2)"
      ],
      "metadata": {
        "colab": {
          "base_uri": "https://localhost:8080/"
        },
        "id": "2M3LB-QOA5dn",
        "outputId": "05caf93b-3413-4371-a99e-88d6755b4a9a"
      },
      "execution_count": 6,
      "outputs": [
        {
          "output_type": "execute_result",
          "data": {
            "text/plain": [
              "int"
            ]
          },
          "metadata": {},
          "execution_count": 6
        }
      ]
    },
    {
      "cell_type": "code",
      "source": [
        "type(2.0)"
      ],
      "metadata": {
        "colab": {
          "base_uri": "https://localhost:8080/"
        },
        "id": "ZHuxxtwWBJeN",
        "outputId": "00b6b9a6-2ea7-4a6f-8d9e-246bb81256be"
      },
      "execution_count": 7,
      "outputs": [
        {
          "output_type": "execute_result",
          "data": {
            "text/plain": [
              "float"
            ]
          },
          "metadata": {},
          "execution_count": 7
        }
      ]
    },
    {
      "cell_type": "code",
      "source": [
        "# ghadre motlagh adad\n",
        "abs(-230)"
      ],
      "metadata": {
        "colab": {
          "base_uri": "https://localhost:8080/"
        },
        "id": "IfhV5xmFBK2F",
        "outputId": "f4dd198a-94ea-4712-8704-09ef2e24ec34"
      },
      "execution_count": 11,
      "outputs": [
        {
          "output_type": "execute_result",
          "data": {
            "text/plain": [
              "230"
            ]
          },
          "metadata": {},
          "execution_count": 11
        }
      ]
    },
    {
      "cell_type": "code",
      "source": [
        "# barayei inke adad ro be tavan beresoonim\n",
        "pow(3, 2)"
      ],
      "metadata": {
        "colab": {
          "base_uri": "https://localhost:8080/"
        },
        "id": "RK-8V2fqCixK",
        "outputId": "c9712cb2-90de-4162-d5c7-609c744d023c"
      },
      "execution_count": 12,
      "outputs": [
        {
          "output_type": "execute_result",
          "data": {
            "text/plain": [
              "9"
            ]
          },
          "metadata": {},
          "execution_count": 12
        }
      ]
    },
    {
      "cell_type": "code",
      "source": [
        "# baraye rond kardane adad\n",
        "round(3.2)"
      ],
      "metadata": {
        "colab": {
          "base_uri": "https://localhost:8080/"
        },
        "id": "Zyx2sAJ7CpVA",
        "outputId": "01288ead-75a4-4fa2-94b9-402d317890cf"
      },
      "execution_count": 13,
      "outputs": [
        {
          "output_type": "execute_result",
          "data": {
            "text/plain": [
              "3"
            ]
          },
          "metadata": {},
          "execution_count": 13
        }
      ]
    },
    {
      "cell_type": "code",
      "source": [
        "round(3.7)"
      ],
      "metadata": {
        "colab": {
          "base_uri": "https://localhost:8080/"
        },
        "id": "eGpmOoQ5C3Jd",
        "outputId": "e4c44ab3-e6e5-4d41-de18-521ff7eed5a1"
      },
      "execution_count": 14,
      "outputs": [
        {
          "output_type": "execute_result",
          "data": {
            "text/plain": [
              "4"
            ]
          },
          "metadata": {},
          "execution_count": 14
        }
      ]
    },
    {
      "cell_type": "markdown",
      "source": [
        "## Olaviate mohasebat dar Python"
      ],
      "metadata": {
        "id": "332d8nOWC5qY"
      }
    },
    {
      "cell_type": "markdown",
      "source": [
        "dakhele python mohasebat ba olaviat anjam mishe\n",
        "\n",
        "1. `()`\n",
        "2. `**`\n",
        "3. `* va /`\n",
        "4. `+ va -`"
      ],
      "metadata": {
        "id": "5mmyS4CCDGuR"
      }
    },
    {
      "cell_type": "code",
      "source": [
        "# be in mesal deghat konin\n",
        "20 + 3 * 2"
      ],
      "metadata": {
        "colab": {
          "base_uri": "https://localhost:8080/"
        },
        "id": "4m5ZP4UwDFju",
        "outputId": "18997e27-4e7b-4efe-eae0-5bc01a5e0af8"
      },
      "execution_count": 15,
      "outputs": [
        {
          "output_type": "execute_result",
          "data": {
            "text/plain": [
              "26"
            ]
          },
          "metadata": {},
          "execution_count": 15
        }
      ]
    },
    {
      "cell_type": "code",
      "source": [
        "10 ** 2 * (3 + 4) / 2"
      ],
      "metadata": {
        "colab": {
          "base_uri": "https://localhost:8080/"
        },
        "id": "M24h94whDhfI",
        "outputId": "a1078b4b-328a-422e-92ca-c3f7a6e319af"
      },
      "execution_count": 16,
      "outputs": [
        {
          "output_type": "execute_result",
          "data": {
            "text/plain": [
              "350.0"
            ]
          },
          "metadata": {},
          "execution_count": 16
        }
      ]
    },
    {
      "cell_type": "markdown",
      "source": [
        "# Variable\n",
        "\n",
        "zamani ke mikhain yek esme motaghaier entekhab konin bayad be chan nokte deghat konin\n",
        "\n",
        "* variable_name => bayad bejaye space az underscore estefade bokonim.\n",
        "* esme variable ha ba adad nemitoone shuru beshe.\n",
        "* nemitoonim az keyword khode python baraye esme moteghayer ha estefade konim.\n",
        "* clean code => mamoolan barname nevis ha zamani ke yek moteghayer sabet dashte bashan hamash ro capital minevisan."
      ],
      "metadata": {
        "id": "GrUkuSYnDu3T"
      }
    },
    {
      "cell_type": "code",
      "source": [
        "age = 5"
      ],
      "metadata": {
        "id": "3JqDj7AED5dS"
      },
      "execution_count": 1,
      "outputs": []
    },
    {
      "cell_type": "code",
      "source": [
        "age_2 = 10"
      ],
      "metadata": {
        "id": "JM3pQSalERN3"
      },
      "execution_count": 2,
      "outputs": []
    },
    {
      "cell_type": "code",
      "source": [
        "print(age)"
      ],
      "metadata": {
        "colab": {
          "base_uri": "https://localhost:8080/"
        },
        "id": "hVibDzWFEKUa",
        "outputId": "ddf0ddb7-df4c-4dee-abc2-a8472814b149"
      },
      "execution_count": 3,
      "outputs": [
        {
          "output_type": "stream",
          "name": "stdout",
          "text": [
            "5\n"
          ]
        }
      ]
    },
    {
      "cell_type": "code",
      "source": [
        "# to show that we are using constant\n",
        "USERNAME = 'asdgac'"
      ],
      "metadata": {
        "id": "_nE_SNw9FEoS"
      },
      "execution_count": null,
      "outputs": []
    },
    {
      "cell_type": "code",
      "source": [
        "name, age, email = 'ali', 5, 'ali@yahoo.com'"
      ],
      "metadata": {
        "id": "ICu4knoJGF6O"
      },
      "execution_count": 4,
      "outputs": []
    },
    {
      "cell_type": "code",
      "source": [
        "print(name)\n",
        "print(age)\n",
        "print(email)"
      ],
      "metadata": {
        "colab": {
          "base_uri": "https://localhost:8080/"
        },
        "id": "tRKFCGSnGPuo",
        "outputId": "2da1cc8e-3330-422b-e030-74afa28949d7"
      },
      "execution_count": 5,
      "outputs": [
        {
          "output_type": "stream",
          "name": "stdout",
          "text": [
            "ali\n",
            "5\n",
            "ali@yahoo.com\n"
          ]
        }
      ]
    },
    {
      "cell_type": "code",
      "source": [],
      "metadata": {
        "id": "LgBzdhJeGUAf"
      },
      "execution_count": null,
      "outputs": []
    }
  ]
}