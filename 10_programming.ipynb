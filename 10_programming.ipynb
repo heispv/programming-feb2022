{
  "nbformat": 4,
  "nbformat_minor": 0,
  "metadata": {
    "colab": {
      "provenance": [],
      "authorship_tag": "ABX9TyMyMcCacwrQ6M9yUtQOGFdI",
      "include_colab_link": true
    },
    "kernelspec": {
      "name": "python3",
      "display_name": "Python 3"
    },
    "language_info": {
      "name": "python"
    }
  },
  "cells": [
    {
      "cell_type": "markdown",
      "metadata": {
        "id": "view-in-github",
        "colab_type": "text"
      },
      "source": [
        "<a href=\"https://colab.research.google.com/github/heispv/programming-feb2023/blob/master/10_programming.ipynb\" target=\"_parent\"><img src=\"https://colab.research.google.com/assets/colab-badge.svg\" alt=\"Open In Colab\"/></a>"
      ]
    },
    {
      "cell_type": "code",
      "source": [
        "def save_your_information():\n",
        "  name = input('Enter your first name: ')\n",
        "  last_name = input('Enter your last name: ')\n",
        "\n",
        "  enter_age = input('Do you want to enter your age or not?[y/n] ')\n",
        "\n",
        "  if enter_age == 'y':\n",
        "    # Define the variable age\n",
        "    age = input('Enter your age: ')\n",
        "    information = {\n",
        "        'Name': name,\n",
        "        'Last Name': last_name,\n",
        "        'Age': age\n",
        "    }\n",
        "\n",
        "  elif enter_age == 'n':\n",
        "        information = {\n",
        "        'Name': name,\n",
        "        'Last Name': last_name\n",
        "    }\n",
        "  \n",
        "  return information"
      ],
      "metadata": {
        "id": "66diDC_GAtHD"
      },
      "execution_count": null,
      "outputs": []
    },
    {
      "cell_type": "code",
      "source": [
        "first_person = save_your_information()"
      ],
      "metadata": {
        "colab": {
          "base_uri": "https://localhost:8080/"
        },
        "id": "SUNqygR_CclX",
        "outputId": "2738cc02-5eb6-40ff-a64f-9d14c4d07df6"
      },
      "execution_count": null,
      "outputs": [
        {
          "name": "stdout",
          "output_type": "stream",
          "text": [
            "Enter your first name: Peyman\n",
            "Enter your last name: Vahidi\n",
            "Do you want to enter your age or not?[y/n] y\n",
            "Enter your age: 25\n"
          ]
        }
      ]
    },
    {
      "cell_type": "code",
      "source": [
        "second_person = save_your_information()"
      ],
      "metadata": {
        "colab": {
          "base_uri": "https://localhost:8080/"
        },
        "id": "C4jAvQswFfqN",
        "outputId": "aeac02f0-9dbb-47c3-9203-60d63d1245c2"
      },
      "execution_count": null,
      "outputs": [
        {
          "name": "stdout",
          "output_type": "stream",
          "text": [
            "Enter your first name: Sam\n",
            "Enter your last name: Azizi\n",
            "Do you want to enter your age or not?[y/n] n\n"
          ]
        }
      ]
    },
    {
      "cell_type": "code",
      "source": [
        "second_person['Name']"
      ],
      "metadata": {
        "colab": {
          "base_uri": "https://localhost:8080/",
          "height": 35
        },
        "id": "MR7mCVUYFwpl",
        "outputId": "9c0e7c0b-0dd9-4afd-ac47-85f40408c06e"
      },
      "execution_count": null,
      "outputs": [
        {
          "output_type": "execute_result",
          "data": {
            "text/plain": [
              "'Sam'"
            ],
            "application/vnd.google.colaboratory.intrinsic+json": {
              "type": "string"
            }
          },
          "metadata": {},
          "execution_count": 17
        }
      ]
    },
    {
      "cell_type": "code",
      "source": [
        "second_person['Last Name']"
      ],
      "metadata": {
        "colab": {
          "base_uri": "https://localhost:8080/",
          "height": 35
        },
        "id": "WxgmYRpQGBmP",
        "outputId": "c2c71e31-7c78-4432-bea5-ebd62e5f9588"
      },
      "execution_count": null,
      "outputs": [
        {
          "output_type": "execute_result",
          "data": {
            "text/plain": [
              "'Azizi'"
            ],
            "application/vnd.google.colaboratory.intrinsic+json": {
              "type": "string"
            }
          },
          "metadata": {},
          "execution_count": 18
        }
      ]
    },
    {
      "cell_type": "code",
      "source": [
        "def save_your_information_2():\n",
        "  name = input('Enter your first name: ')\n",
        "  last_name = input('Enter your last name: ')\n",
        "\n",
        "  enter_age = input('Do you want to enter your age or not?[y/n] ')\n",
        "\n",
        "  if enter_age == 'y':\n",
        "    # Define the variable age\n",
        "    age = input('Enter your age: ')\n",
        "    information = {\n",
        "        'Name': name,\n",
        "        'Last Name': last_name,\n",
        "        'Age': age\n",
        "    }\n",
        "\n",
        "  else:\n",
        "        information = {\n",
        "        'Name': name,\n",
        "        'Last Name': last_name\n",
        "    }\n",
        "  \n",
        "  return information"
      ],
      "metadata": {
        "id": "LRED_JLBGFFz"
      },
      "execution_count": null,
      "outputs": []
    },
    {
      "cell_type": "code",
      "source": [
        "save_your_information()"
      ],
      "metadata": {
        "colab": {
          "base_uri": "https://localhost:8080/",
          "height": 305
        },
        "id": "774BeIa7GQpj",
        "outputId": "2ee176b9-9c75-4292-b4a8-7389714d2f34"
      },
      "execution_count": null,
      "outputs": [
        {
          "name": "stdout",
          "output_type": "stream",
          "text": [
            "Enter your first name: Peyman\n",
            "Enter your last name: Vahidi\n",
            "Do you want to enter your age or not?[y/n] Yes\n"
          ]
        },
        {
          "output_type": "error",
          "ename": "UnboundLocalError",
          "evalue": "ignored",
          "traceback": [
            "\u001b[0;31m---------------------------------------------------------------------------\u001b[0m",
            "\u001b[0;31mUnboundLocalError\u001b[0m                         Traceback (most recent call last)",
            "\u001b[0;32m<ipython-input-18-bb4690c4b0a2>\u001b[0m in \u001b[0;36m<cell line: 1>\u001b[0;34m()\u001b[0m\n\u001b[0;32m----> 1\u001b[0;31m \u001b[0msave_your_information\u001b[0m\u001b[0;34m(\u001b[0m\u001b[0;34m)\u001b[0m\u001b[0;34m\u001b[0m\u001b[0;34m\u001b[0m\u001b[0m\n\u001b[0m",
            "\u001b[0;32m<ipython-input-3-c3cb527596d2>\u001b[0m in \u001b[0;36msave_your_information\u001b[0;34m()\u001b[0m\n\u001b[1;32m     20\u001b[0m     }\n\u001b[1;32m     21\u001b[0m \u001b[0;34m\u001b[0m\u001b[0m\n\u001b[0;32m---> 22\u001b[0;31m   \u001b[0;32mreturn\u001b[0m \u001b[0minformation\u001b[0m\u001b[0;34m\u001b[0m\u001b[0;34m\u001b[0m\u001b[0m\n\u001b[0m",
            "\u001b[0;31mUnboundLocalError\u001b[0m: local variable 'information' referenced before assignment"
          ]
        }
      ]
    },
    {
      "cell_type": "markdown",
      "source": [
        "tooye ghesmate bala ma enter your age ro yes vared kardim va chon hichkudum az if ha bargharar nabood, variable information tarif nashod, bekhatere hamin error dad ke information tarif nashode ke bekhad return esh kone."
      ],
      "metadata": {
        "id": "7bgdahwXIS6u"
      }
    },
    {
      "cell_type": "code",
      "source": [
        "save_your_information_2()"
      ],
      "metadata": {
        "colab": {
          "base_uri": "https://localhost:8080/"
        },
        "id": "RfWRh6b5HHVr",
        "outputId": "35e21d87-27ab-46cd-83da-14033762598f"
      },
      "execution_count": null,
      "outputs": [
        {
          "name": "stdout",
          "output_type": "stream",
          "text": [
            "Enter your first name: Pendar\n",
            "Enter your last name: Hejazi\n",
            "Do you want to enter your age or not?[y/n] yes\n"
          ]
        },
        {
          "output_type": "execute_result",
          "data": {
            "text/plain": [
              "{'Name': 'Pendar', 'Last Name': 'Hejazi'}"
            ]
          },
          "metadata": {},
          "execution_count": 19
        }
      ]
    },
    {
      "cell_type": "markdown",
      "source": [
        "bug e in ghesmat ine ke ma inja oomadim yes vared kardim enter your age ro. ama chon tooye if ha az else estefade kardim, barnamamoon bug dare."
      ],
      "metadata": {
        "id": "HLEPv1SQIjul"
      }
    },
    {
      "cell_type": "code",
      "source": [
        "def save_your_information_3():\n",
        "  '''\n",
        "  This function gets your name, last name and age(optional)\n",
        "  and then saves them in a dectionary.\n",
        "  '''\n",
        "  name = input('Enter your first name: ')\n",
        "  last_name = input('Enter your last name: ')\n",
        "\n",
        "\n",
        "  while True:\n",
        "    enter_age = input('Do you want to enter your age or not?[y/n] ')\n",
        "    if enter_age == 'y' or enter_age == 'n':\n",
        "      break\n",
        "    print('Pay attention to the format, only enter y or n')\n",
        "\n",
        "  if enter_age == 'y':\n",
        "    # Define the variable age\n",
        "    age = input('Enter your age: ')\n",
        "    information = {\n",
        "        'Name': name,\n",
        "        'Last Name': last_name,\n",
        "        'Age': age\n",
        "    }\n",
        "\n",
        "  elif enter_age == 'n':\n",
        "        information = {\n",
        "        'Name': name,\n",
        "        'Last Name': last_name\n",
        "    }\n",
        "  \n",
        "  print('Information saved successfuly :)')\n",
        "  return information"
      ],
      "metadata": {
        "id": "2cgymgXDH2bb"
      },
      "execution_count": null,
      "outputs": []
    },
    {
      "cell_type": "code",
      "source": [
        "the_info = save_your_information_3()"
      ],
      "metadata": {
        "colab": {
          "base_uri": "https://localhost:8080/"
        },
        "id": "YmlA_rIVJsYo",
        "outputId": "48bbf264-4da8-42e9-94e1-a27f0087bd5f"
      },
      "execution_count": null,
      "outputs": [
        {
          "output_type": "stream",
          "name": "stdout",
          "text": [
            "Enter your first name: Pendar\n",
            "Enter your last name: Hejazi\n",
            "Do you want to enter your age or not?[y/n] yes\n",
            "Pay attention to the format, only enter y or n\n",
            "Do you want to enter your age or not?[y/n] no\n",
            "Pay attention to the format, only enter y or n\n",
            "Do you want to enter your age or not?[y/n] y\n",
            "Enter your age: 16\n",
            "Information saved successfuly :)\n"
          ]
        }
      ]
    },
    {
      "cell_type": "code",
      "source": [
        "the_info"
      ],
      "metadata": {
        "colab": {
          "base_uri": "https://localhost:8080/"
        },
        "id": "N8u7z23tMme-",
        "outputId": "8bf37c51-6876-4be7-9d67-053703d6edc6"
      },
      "execution_count": null,
      "outputs": [
        {
          "output_type": "execute_result",
          "data": {
            "text/plain": [
              "{'Name': 'Pendar', 'Last Name': 'Hejazi', 'Age': '16'}"
            ]
          },
          "metadata": {},
          "execution_count": 12
        }
      ]
    },
    {
      "cell_type": "code",
      "source": [
        "second_person"
      ],
      "metadata": {
        "colab": {
          "base_uri": "https://localhost:8080/"
        },
        "id": "IuQe3bvrKDvd",
        "outputId": "377b93fc-c478-469b-f3b4-8034518320ed"
      },
      "execution_count": null,
      "outputs": [
        {
          "output_type": "execute_result",
          "data": {
            "text/plain": [
              "{'Name': 'Sam', 'Last Name': 'Azizi'}"
            ]
          },
          "metadata": {},
          "execution_count": 19
        }
      ]
    },
    {
      "cell_type": "code",
      "source": [
        "first_person"
      ],
      "metadata": {
        "colab": {
          "base_uri": "https://localhost:8080/"
        },
        "id": "B90Ec6LVONE9",
        "outputId": "8659f50d-7832-477a-a05d-fea610e44db5"
      },
      "execution_count": null,
      "outputs": [
        {
          "output_type": "execute_result",
          "data": {
            "text/plain": [
              "{'Name': 'Peyman', 'Last Name': 'Vahidi', 'Age': '25'}"
            ]
          },
          "metadata": {},
          "execution_count": 20
        }
      ]
    },
    {
      "cell_type": "markdown",
      "source": [
        "# Scope\n",
        "\n",
        "scope yani inke variable haye shoma baraye che ghesmati tarif shodan. agar yek variable ro baraye yek function tarif konin, faghat tooye oon function variable hast, va badaz inke kare function tamoom mishe miad va variable haro pak mikone ta memory bish az had gerefte nashe."
      ],
      "metadata": {
        "id": "J9bls0E0O8dr"
      }
    },
    {
      "cell_type": "code",
      "source": [
        "name"
      ],
      "metadata": {
        "colab": {
          "base_uri": "https://localhost:8080/",
          "height": 167
        },
        "id": "j0qsPGyaOrYD",
        "outputId": "8b0e33d8-423b-412e-c69e-b70c893f0019"
      },
      "execution_count": null,
      "outputs": [
        {
          "output_type": "error",
          "ename": "NameError",
          "evalue": "ignored",
          "traceback": [
            "\u001b[0;31m---------------------------------------------------------------------------\u001b[0m",
            "\u001b[0;31mNameError\u001b[0m                                 Traceback (most recent call last)",
            "\u001b[0;32m<ipython-input-22-9bc0cb2ed6de>\u001b[0m in \u001b[0;36m<cell line: 1>\u001b[0;34m()\u001b[0m\n\u001b[0;32m----> 1\u001b[0;31m \u001b[0mname\u001b[0m\u001b[0;34m\u001b[0m\u001b[0;34m\u001b[0m\u001b[0m\n\u001b[0m",
            "\u001b[0;31mNameError\u001b[0m: name 'name' is not defined"
          ]
        }
      ]
    },
    {
      "cell_type": "code",
      "source": [
        "information"
      ],
      "metadata": {
        "colab": {
          "base_uri": "https://localhost:8080/",
          "height": 167
        },
        "id": "3_ESDyvOO0eY",
        "outputId": "6a6b9872-2538-4620-de55-24564e1a3a82"
      },
      "execution_count": null,
      "outputs": [
        {
          "output_type": "error",
          "ename": "NameError",
          "evalue": "ignored",
          "traceback": [
            "\u001b[0;31m---------------------------------------------------------------------------\u001b[0m",
            "\u001b[0;31mNameError\u001b[0m                                 Traceback (most recent call last)",
            "\u001b[0;32m<ipython-input-23-f920509801e2>\u001b[0m in \u001b[0;36m<cell line: 1>\u001b[0;34m()\u001b[0m\n\u001b[0;32m----> 1\u001b[0;31m \u001b[0minformation\u001b[0m\u001b[0;34m\u001b[0m\u001b[0;34m\u001b[0m\u001b[0m\n\u001b[0m",
            "\u001b[0;31mNameError\u001b[0m: name 'information' is not defined"
          ]
        }
      ]
    },
    {
      "cell_type": "code",
      "source": [
        "adade_man = 22\n",
        "\n",
        "def jam(a, b):\n",
        "  adad_alaki = 20\n",
        "  jame_adad = a + b\n",
        "  return jame_adad"
      ],
      "metadata": {
        "id": "V1IN3OvqPZPm"
      },
      "execution_count": null,
      "outputs": []
    },
    {
      "cell_type": "code",
      "source": [
        "jam(3, 4)"
      ],
      "metadata": {
        "colab": {
          "base_uri": "https://localhost:8080/"
        },
        "id": "sEu27QS1Pmtb",
        "outputId": "169eacb3-7239-4ebb-8ea0-23455bfc128d"
      },
      "execution_count": null,
      "outputs": [
        {
          "output_type": "execute_result",
          "data": {
            "text/plain": [
              "7"
            ]
          },
          "metadata": {},
          "execution_count": 28
        }
      ]
    },
    {
      "cell_type": "code",
      "source": [
        "jam"
      ],
      "metadata": {
        "colab": {
          "base_uri": "https://localhost:8080/"
        },
        "id": "UxO92SZePnoG",
        "outputId": "8e27fe7d-04ca-4b5f-cddb-3ae9ce358d0d"
      },
      "execution_count": null,
      "outputs": [
        {
          "output_type": "execute_result",
          "data": {
            "text/plain": [
              "<function __main__.jam(a, b)>"
            ]
          },
          "metadata": {},
          "execution_count": 29
        }
      ]
    },
    {
      "cell_type": "code",
      "source": [
        "adade_man"
      ],
      "metadata": {
        "colab": {
          "base_uri": "https://localhost:8080/"
        },
        "id": "n9IDfqMLPolT",
        "outputId": "64665aa6-c29c-4cc1-a952-d643f77bd664"
      },
      "execution_count": null,
      "outputs": [
        {
          "output_type": "execute_result",
          "data": {
            "text/plain": [
              "22"
            ]
          },
          "metadata": {},
          "execution_count": 35
        }
      ]
    },
    {
      "cell_type": "code",
      "source": [
        "total = 0\n",
        "\n",
        "def beshmor():\n",
        "  global total\n",
        "  total = total + 1\n",
        "  return total"
      ],
      "metadata": {
        "id": "mCw3g14XPvK7"
      },
      "execution_count": null,
      "outputs": []
    },
    {
      "cell_type": "code",
      "source": [
        "beshmor()"
      ],
      "metadata": {
        "colab": {
          "base_uri": "https://localhost:8080/"
        },
        "id": "mGxXt3AzQULG",
        "outputId": "db0b8d8e-c92d-441f-cbf6-7fbc0cea02ae"
      },
      "execution_count": null,
      "outputs": [
        {
          "output_type": "execute_result",
          "data": {
            "text/plain": [
              "1"
            ]
          },
          "metadata": {},
          "execution_count": 43
        }
      ]
    },
    {
      "cell_type": "code",
      "source": [
        "total"
      ],
      "metadata": {
        "colab": {
          "base_uri": "https://localhost:8080/"
        },
        "id": "fIH4EUfLQ0Zi",
        "outputId": "b32124c7-6475-4633-bd28-fe8b6ed69594"
      },
      "execution_count": null,
      "outputs": [
        {
          "output_type": "execute_result",
          "data": {
            "text/plain": [
              "1"
            ]
          },
          "metadata": {},
          "execution_count": 44
        }
      ]
    },
    {
      "cell_type": "code",
      "source": [
        "beshmor()"
      ],
      "metadata": {
        "colab": {
          "base_uri": "https://localhost:8080/"
        },
        "id": "dmvE6lg5QVJd",
        "outputId": "c4f0fd02-d78d-47c6-f4a8-8385a413a7ff"
      },
      "execution_count": null,
      "outputs": [
        {
          "output_type": "execute_result",
          "data": {
            "text/plain": [
              "2"
            ]
          },
          "metadata": {},
          "execution_count": 45
        }
      ]
    },
    {
      "cell_type": "code",
      "source": [
        "total"
      ],
      "metadata": {
        "colab": {
          "base_uri": "https://localhost:8080/"
        },
        "id": "UVBX4lX6QvKu",
        "outputId": "31bcfd5f-b40c-439b-cdd5-c09d6f734cd8"
      },
      "execution_count": null,
      "outputs": [
        {
          "output_type": "execute_result",
          "data": {
            "text/plain": [
              "2"
            ]
          },
          "metadata": {},
          "execution_count": 46
        }
      ]
    },
    {
      "cell_type": "code",
      "source": [
        "total = 0\n",
        "\n",
        "def beshmor_2(jam):\n",
        "  jam = jam + 1\n",
        "  return jam"
      ],
      "metadata": {
        "id": "hGxo7hkCRB9t"
      },
      "execution_count": null,
      "outputs": []
    },
    {
      "cell_type": "code",
      "source": [
        "beshmor_2(beshmor_2(total))"
      ],
      "metadata": {
        "colab": {
          "base_uri": "https://localhost:8080/"
        },
        "id": "7ha6I2zORfeS",
        "outputId": "01dab328-7a44-42a4-aec0-c1d22da4fd72"
      },
      "execution_count": null,
      "outputs": [
        {
          "output_type": "execute_result",
          "data": {
            "text/plain": [
              "2"
            ]
          },
          "metadata": {},
          "execution_count": 58
        }
      ]
    },
    {
      "cell_type": "code",
      "source": [
        "beshmor_2(total)"
      ],
      "metadata": {
        "colab": {
          "base_uri": "https://localhost:8080/"
        },
        "id": "IUsszQ5sSzIq",
        "outputId": "ca903111-790f-4503-9f2b-b1bab58200c0"
      },
      "execution_count": null,
      "outputs": [
        {
          "output_type": "execute_result",
          "data": {
            "text/plain": [
              "1"
            ]
          },
          "metadata": {},
          "execution_count": 56
        }
      ]
    },
    {
      "cell_type": "code",
      "source": [
        "beshmor_2(1)"
      ],
      "metadata": {
        "colab": {
          "base_uri": "https://localhost:8080/"
        },
        "id": "8jGgwxthTIJi",
        "outputId": "4648ab10-d9c1-4ebc-9da3-1ffd5d400b13"
      },
      "execution_count": null,
      "outputs": [
        {
          "output_type": "execute_result",
          "data": {
            "text/plain": [
              "2"
            ]
          },
          "metadata": {},
          "execution_count": 57
        }
      ]
    },
    {
      "cell_type": "code",
      "source": [
        "name = \"Alice\"\n",
        "\n",
        "def greet():\n",
        "    global name\n",
        "    name = \"Bob\"\n",
        "    print(f\"Hello, {name}!\")\n",
        "\n",
        "greet()  # Output: Hello, Bob!\n",
        "print(name)  # Output: Bob\n"
      ],
      "metadata": {
        "colab": {
          "base_uri": "https://localhost:8080/"
        },
        "id": "sEwXQOgfUr6y",
        "outputId": "62d83fbc-0bd6-4f60-f916-635dbf2d81e0"
      },
      "execution_count": null,
      "outputs": [
        {
          "output_type": "stream",
          "name": "stdout",
          "text": [
            "Hello, Bob!\n",
            "Bob\n"
          ]
        }
      ]
    },
    {
      "cell_type": "code",
      "source": [],
      "metadata": {
        "id": "wBqkzzh1Uy5k"
      },
      "execution_count": null,
      "outputs": []
    }
  ]
}