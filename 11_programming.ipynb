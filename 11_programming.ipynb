{
  "nbformat": 4,
  "nbformat_minor": 0,
  "metadata": {
    "colab": {
      "provenance": [],
      "authorship_tag": "ABX9TyOAF3U5w1dmJ254FXfVf6fO",
      "include_colab_link": true
    },
    "kernelspec": {
      "name": "python3",
      "display_name": "Python 3"
    },
    "language_info": {
      "name": "python"
    }
  },
  "cells": [
    {
      "cell_type": "markdown",
      "metadata": {
        "id": "view-in-github",
        "colab_type": "text"
      },
      "source": [
        "<a href=\"https://colab.research.google.com/github/heispv/programming-feb2023/blob/master/11_programming.ipynb\" target=\"_parent\"><img src=\"https://colab.research.google.com/assets/colab-badge.svg\" alt=\"Open In Colab\"/></a>"
      ]
    },
    {
      "cell_type": "code",
      "execution_count": 6,
      "metadata": {
        "colab": {
          "base_uri": "https://localhost:8080/"
        },
        "id": "jMLQty76QAYb",
        "outputId": "05404f86-f877-45b0-f83c-d3a98747b257"
      },
      "outputs": [
        {
          "output_type": "stream",
          "name": "stdout",
          "text": [
            "Choose rock, paper, or scissors: rock\n",
            "You chose rock.\n",
            "The computer chose rock.\n",
            "Draw :|\n"
          ]
        }
      ],
      "source": [
        "import random\n",
        "\n",
        "# create a list of possible choices\n",
        "choices = [\"rock\", \"paper\", \"scissors\"]\n",
        "\n",
        "# get user's choice\n",
        "user_choice = input(\"Choose rock, paper, or scissors: \").lower()\n",
        "\n",
        "# validate user's choice\n",
        "while user_choice not in choices:\n",
        "    user_choice = input(\"Invalid choice. Choose rock, paper, or scissors: \").lower()\n",
        "\n",
        "# get computer's choice\n",
        "computer_choice = random.choice(choices)\n",
        "\n",
        "print(f\"You chose {user_choice}.\")\n",
        "print(f\"The computer chose {computer_choice}.\")\n",
        "\n",
        "if (computer_choice == 'paper' and user_choice == 'rock') or (computer_choice == 'rock' and user_choice == 'scissors') or (computer_choice == 'scissors' and user_choice == 'paper'):\n",
        "  # Halati ke computer mibare.\n",
        "  print(\"You lost :(\")\n",
        "elif (user_choice == 'paper' and computer_choice == 'rock') or (user_choice == 'rock' and computer_choice == 'scissors') or (user_choice == 'scissors' and computer_choice == 'paper'):\n",
        "  # Halati ke user mibare.\n",
        "  print(\"You won :)\")\n",
        "else:\n",
        "  # Hichki nemibare.\n",
        "  print(\"Draw :|\")\n"
      ]
    },
    {
      "cell_type": "code",
      "source": [
        "import random"
      ],
      "metadata": {
        "id": "NEZdfdFRYvHp"
      },
      "execution_count": null,
      "outputs": []
    },
    {
      "cell_type": "code",
      "source": [
        "choices = [\"rock\", \"paper\", \"scissors\"]"
      ],
      "metadata": {
        "id": "VZe6ykv0W7qs"
      },
      "execution_count": null,
      "outputs": []
    },
    {
      "cell_type": "code",
      "source": [
        "user_choice = input(\"Choose rock, paper, or scissors: \").lower()"
      ],
      "metadata": {
        "colab": {
          "base_uri": "https://localhost:8080/"
        },
        "id": "pjgXkcIbWsTK",
        "outputId": "05313fc0-dc5d-4c7c-c56a-4fbce852f52b"
      },
      "execution_count": null,
      "outputs": [
        {
          "name": "stdout",
          "output_type": "stream",
          "text": [
            "Choose rock, paper, or scissors: kaghaz\n"
          ]
        }
      ]
    },
    {
      "cell_type": "code",
      "source": [
        "user_choice"
      ],
      "metadata": {
        "colab": {
          "base_uri": "https://localhost:8080/",
          "height": 36
        },
        "id": "KOlKHFUkWwNZ",
        "outputId": "69eb964e-72da-4f4f-9dfe-a796b6f93959"
      },
      "execution_count": null,
      "outputs": [
        {
          "output_type": "execute_result",
          "data": {
            "text/plain": [
              "'kaghaz'"
            ],
            "application/vnd.google.colaboratory.intrinsic+json": {
              "type": "string"
            }
          },
          "metadata": {},
          "execution_count": 39
        }
      ]
    },
    {
      "cell_type": "code",
      "source": [
        "user_choice not in choices"
      ],
      "metadata": {
        "colab": {
          "base_uri": "https://localhost:8080/"
        },
        "id": "4llZbgU6XBDE",
        "outputId": "00929957-4a0b-4eb0-c3b6-01251a69ac00"
      },
      "execution_count": null,
      "outputs": [
        {
          "output_type": "execute_result",
          "data": {
            "text/plain": [
              "True"
            ]
          },
          "metadata": {},
          "execution_count": 44
        }
      ]
    },
    {
      "cell_type": "code",
      "source": [
        "while user_choice not in choices:\n",
        "    user_choice = input(\"Invalid choice. Choose rock, paper, or scissors: \").lower()"
      ],
      "metadata": {
        "colab": {
          "base_uri": "https://localhost:8080/"
        },
        "id": "HTGKMNqqXr0g",
        "outputId": "3e5ec39c-38af-404a-d837-68cba2223e6b"
      },
      "execution_count": null,
      "outputs": [
        {
          "name": "stdout",
          "output_type": "stream",
          "text": [
            "Invalid choice. Choose rock, paper, or scissors: sang\n",
            "Invalid choice. Choose rock, paper, or scissors: roCK\n"
          ]
        }
      ]
    },
    {
      "cell_type": "code",
      "source": [
        "user_choice"
      ],
      "metadata": {
        "colab": {
          "base_uri": "https://localhost:8080/",
          "height": 36
        },
        "id": "Fh--YJ1ZYAHZ",
        "outputId": "61611dff-d01c-4640-8852-6c907ead66c4"
      },
      "execution_count": null,
      "outputs": [
        {
          "output_type": "execute_result",
          "data": {
            "text/plain": [
              "'rock'"
            ],
            "application/vnd.google.colaboratory.intrinsic+json": {
              "type": "string"
            }
          },
          "metadata": {},
          "execution_count": 46
        }
      ]
    },
    {
      "cell_type": "code",
      "source": [
        "random.choice(choices)"
      ],
      "metadata": {
        "colab": {
          "base_uri": "https://localhost:8080/",
          "height": 36
        },
        "id": "lDqtSEK2YpOq",
        "outputId": "6e56ed95-6d5a-4620-c98e-7cefdbeeb5e7"
      },
      "execution_count": null,
      "outputs": [
        {
          "output_type": "execute_result",
          "data": {
            "text/plain": [
              "'paper'"
            ],
            "application/vnd.google.colaboratory.intrinsic+json": {
              "type": "string"
            }
          },
          "metadata": {},
          "execution_count": 62
        }
      ]
    },
    {
      "cell_type": "code",
      "source": [
        "txt = 'HeLLo'\n",
        "txt.lower()"
      ],
      "metadata": {
        "colab": {
          "base_uri": "https://localhost:8080/",
          "height": 36
        },
        "id": "9tuYKn_tVPni",
        "outputId": "f4c734b9-590f-460c-86df-6e0ecd2e02ff"
      },
      "execution_count": null,
      "outputs": [
        {
          "output_type": "execute_result",
          "data": {
            "text/plain": [
              "'hello'"
            ],
            "application/vnd.google.colaboratory.intrinsic+json": {
              "type": "string"
            }
          },
          "metadata": {},
          "execution_count": 61
        }
      ]
    },
    {
      "cell_type": "code",
      "source": [
        "txt2 = 'bbye'\n",
        "txt2.upper()"
      ],
      "metadata": {
        "colab": {
          "base_uri": "https://localhost:8080/",
          "height": 36
        },
        "id": "Z79p8ByPVWu5",
        "outputId": "714388f5-0e7a-4a8c-b7c4-ca7b4c9ef7c8"
      },
      "execution_count": null,
      "outputs": [
        {
          "output_type": "execute_result",
          "data": {
            "text/plain": [
              "'BBYE'"
            ],
            "application/vnd.google.colaboratory.intrinsic+json": {
              "type": "string"
            }
          },
          "metadata": {},
          "execution_count": 34
        }
      ]
    },
    {
      "cell_type": "code",
      "source": [
        "len('hello')"
      ],
      "metadata": {
        "colab": {
          "base_uri": "https://localhost:8080/"
        },
        "id": "EQRhRQmzVCgM",
        "outputId": "a2da770f-f6a5-4e5b-f4e6-92933922a688"
      },
      "execution_count": null,
      "outputs": [
        {
          "output_type": "execute_result",
          "data": {
            "text/plain": [
              "5"
            ]
          },
          "metadata": {},
          "execution_count": 26
        }
      ]
    },
    {
      "cell_type": "code",
      "source": [
        "len([\"rock\", \"paper\", \"scissors\"])"
      ],
      "metadata": {
        "colab": {
          "base_uri": "https://localhost:8080/"
        },
        "id": "qJ6WFC0RVFdE",
        "outputId": "7c32d011-606f-4999-e72a-4f9512f4e1fb"
      },
      "execution_count": null,
      "outputs": [
        {
          "output_type": "execute_result",
          "data": {
            "text/plain": [
              "3"
            ]
          },
          "metadata": {},
          "execution_count": 27
        }
      ]
    },
    {
      "cell_type": "code",
      "source": [
        "choices[2]"
      ],
      "metadata": {
        "colab": {
          "base_uri": "https://localhost:8080/",
          "height": 36
        },
        "id": "LN7BYQ3uUt7T",
        "outputId": "5ba11b0c-3fb0-4430-ee22-b55a292ecf14"
      },
      "execution_count": null,
      "outputs": [
        {
          "output_type": "execute_result",
          "data": {
            "text/plain": [
              "'scissors'"
            ],
            "application/vnd.google.colaboratory.intrinsic+json": {
              "type": "string"
            }
          },
          "metadata": {},
          "execution_count": 25
        }
      ]
    },
    {
      "cell_type": "code",
      "source": [
        "choices = [2, \"paper\", \"scissors\"]"
      ],
      "metadata": {
        "id": "a5fIivYtR9IM"
      },
      "execution_count": null,
      "outputs": []
    },
    {
      "cell_type": "markdown",
      "source": [
        "be in mozoo deghat konim ke in index ha faghat baraye tuple, list va string ha hastan. baraye int va float ke aslan index mani nadare. baraye dictionary ham bejaye index bayad az key ha estefade konim."
      ],
      "metadata": {
        "id": "NAKuNfCxThwW"
      }
    },
    {
      "cell_type": "code",
      "source": [
        "my_info = {\n",
        "    'name': 'mohamad',\n",
        "    'last_name': 'zamani'\n",
        "}"
      ],
      "metadata": {
        "id": "pA2OF7qtTxYs"
      },
      "execution_count": null,
      "outputs": []
    },
    {
      "cell_type": "code",
      "source": [
        "my_info['name'][3]"
      ],
      "metadata": {
        "colab": {
          "base_uri": "https://localhost:8080/",
          "height": 36
        },
        "id": "6hGxDBtkT9Lk",
        "outputId": "d44cf92a-f87d-45b6-f0d7-6c1dac5709ed"
      },
      "execution_count": null,
      "outputs": [
        {
          "output_type": "execute_result",
          "data": {
            "text/plain": [
              "'a'"
            ],
            "application/vnd.google.colaboratory.intrinsic+json": {
              "type": "string"
            }
          },
          "metadata": {},
          "execution_count": 23
        }
      ]
    },
    {
      "cell_type": "markdown",
      "source": [
        "aln tooye mesale bala engar ma in dokhat code ro baham mix kardim va anjam dadim.\n",
        "```\n",
        "his_name = my_info['name']\n",
        "his_name[3]\n",
        "```"
      ],
      "metadata": {
        "id": "LL-ambXgUX1D"
      }
    },
    {
      "cell_type": "code",
      "source": [
        "choices[0]"
      ],
      "metadata": {
        "colab": {
          "base_uri": "https://localhost:8080/"
        },
        "id": "dNAxz8pnR9e7",
        "outputId": "24eaf0b2-0443-442a-e6d8-0c1e613be614"
      },
      "execution_count": null,
      "outputs": [
        {
          "output_type": "execute_result",
          "data": {
            "text/plain": [
              "2"
            ]
          },
          "metadata": {},
          "execution_count": 15
        }
      ]
    },
    {
      "cell_type": "code",
      "source": [
        "choices[0]"
      ],
      "metadata": {
        "colab": {
          "base_uri": "https://localhost:8080/"
        },
        "id": "mOih7opdSNMK",
        "outputId": "7f33b168-811e-4ccf-f2d3-ac1b2e018773"
      },
      "execution_count": null,
      "outputs": [
        {
          "output_type": "execute_result",
          "data": {
            "text/plain": [
              "2"
            ]
          },
          "metadata": {},
          "execution_count": 18
        }
      ]
    },
    {
      "cell_type": "code",
      "source": [
        "choices[2]"
      ],
      "metadata": {
        "colab": {
          "base_uri": "https://localhost:8080/",
          "height": 36
        },
        "id": "nSsPE3_HSP2P",
        "outputId": "36c2f21b-2e99-40f7-b70c-89ef534bf90a"
      },
      "execution_count": null,
      "outputs": [
        {
          "output_type": "execute_result",
          "data": {
            "text/plain": [
              "'scissors'"
            ],
            "application/vnd.google.colaboratory.intrinsic+json": {
              "type": "string"
            }
          },
          "metadata": {},
          "execution_count": 4
        }
      ]
    },
    {
      "cell_type": "code",
      "source": [
        "choices[-1]"
      ],
      "metadata": {
        "colab": {
          "base_uri": "https://localhost:8080/",
          "height": 36
        },
        "id": "J_9QT7LKSROT",
        "outputId": "ed4ebb7b-84ac-4de7-9697-080fc155844e"
      },
      "execution_count": null,
      "outputs": [
        {
          "output_type": "execute_result",
          "data": {
            "text/plain": [
              "'scissors'"
            ],
            "application/vnd.google.colaboratory.intrinsic+json": {
              "type": "string"
            }
          },
          "metadata": {},
          "execution_count": 5
        }
      ]
    },
    {
      "cell_type": "code",
      "source": [
        "len(choices)"
      ],
      "metadata": {
        "colab": {
          "base_uri": "https://localhost:8080/"
        },
        "id": "ps6Aaa46SV3r",
        "outputId": "3d2a7dde-c5f7-42b5-b5ac-228a78e8d086"
      },
      "execution_count": null,
      "outputs": [
        {
          "output_type": "execute_result",
          "data": {
            "text/plain": [
              "3"
            ]
          },
          "metadata": {},
          "execution_count": 6
        }
      ]
    },
    {
      "cell_type": "code",
      "source": [],
      "metadata": {
        "id": "Pi6bcPFtSk0L"
      },
      "execution_count": null,
      "outputs": []
    }
  ]
}