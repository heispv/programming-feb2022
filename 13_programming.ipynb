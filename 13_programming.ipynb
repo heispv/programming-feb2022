{
  "nbformat": 4,
  "nbformat_minor": 0,
  "metadata": {
    "colab": {
      "provenance": [],
      "authorship_tag": "ABX9TyPrIkQk4Ihqu6Sa9dkv/OsH",
      "include_colab_link": true
    },
    "kernelspec": {
      "name": "python3",
      "display_name": "Python 3"
    },
    "language_info": {
      "name": "python"
    }
  },
  "cells": [
    {
      "cell_type": "markdown",
      "metadata": {
        "id": "view-in-github",
        "colab_type": "text"
      },
      "source": [
        "<a href=\"https://colab.research.google.com/github/heispv/programming-feb2023/blob/master/13_programming.ipynb\" target=\"_parent\"><img src=\"https://colab.research.google.com/assets/colab-badge.svg\" alt=\"Open In Colab\"/></a>"
      ]
    },
    {
      "cell_type": "code",
      "execution_count": 1,
      "metadata": {
        "id": "EMGzuU5rcLHM"
      },
      "outputs": [],
      "source": [
        "my_list = [4, 5, 10, 3, 'x', 2, 9]"
      ]
    },
    {
      "cell_type": "markdown",
      "source": [
        "Mikhaim yek code benvisim ke biad in list ro be komake for doone doone object hasho begire va check kone oonaro, age yek object adad bood oon ro tooye liste jadid gharar mide, ama agar reshte bood oon ro tooye liste jadid gharar nemide."
      ],
      "metadata": {
        "id": "Cpu49ROldx7n"
      }
    },
    {
      "cell_type": "code",
      "source": [
        "for list_obj in my_list:\n",
        "  print(list_obj)"
      ],
      "metadata": {
        "colab": {
          "base_uri": "https://localhost:8080/"
        },
        "id": "aQUK73aWdpdI",
        "outputId": "4aadac30-f226-4c1e-a989-2bbb6208f113"
      },
      "execution_count": 3,
      "outputs": [
        {
          "output_type": "stream",
          "name": "stdout",
          "text": [
            "4\n",
            "5\n",
            "10\n",
            "3\n",
            "x\n",
            "2\n",
            "9\n"
          ]
        }
      ]
    },
    {
      "cell_type": "code",
      "source": [
        "i = range(3)[0]"
      ],
      "metadata": {
        "id": "JBL6ePHufhA2"
      },
      "execution_count": null,
      "outputs": []
    },
    {
      "cell_type": "code",
      "source": [
        "range(3)"
      ],
      "metadata": {
        "colab": {
          "base_uri": "https://localhost:8080/"
        },
        "id": "RYuzmyyWfj9D",
        "outputId": "f7d731ba-271d-4cea-ca55-fb948d6fa7d9"
      },
      "execution_count": 4,
      "outputs": [
        {
          "output_type": "execute_result",
          "data": {
            "text/plain": [
              "range(0, 3)"
            ]
          },
          "metadata": {},
          "execution_count": 4
        }
      ]
    },
    {
      "cell_type": "code",
      "source": [
        "# Vase inke khana tar beshe\n",
        "list(range(3))"
      ],
      "metadata": {
        "colab": {
          "base_uri": "https://localhost:8080/"
        },
        "id": "bsR1bbEmfmJd",
        "outputId": "6b147584-1fbb-4eef-fb2e-f6c1ec50bf28"
      },
      "execution_count": 7,
      "outputs": [
        {
          "output_type": "execute_result",
          "data": {
            "text/plain": [
              "[0, 1, 2]"
            ]
          },
          "metadata": {},
          "execution_count": 7
        }
      ]
    },
    {
      "cell_type": "markdown",
      "source": [
        "> Bayad be in nokte deghat konim ke joloye halghe chi gharar dare. tooye code pain neveshtim `for i in range(3)` yani boro doone doone harchi ke tooye range(3) darim ro beriz tooye variable i va badesh boro va azin variable estefade kon."
      ],
      "metadata": {
        "id": "huAkKIIIf8pm"
      }
    },
    {
      "cell_type": "code",
      "source": [
        "for i in range(3):\n",
        "  print(i)"
      ],
      "metadata": {
        "colab": {
          "base_uri": "https://localhost:8080/"
        },
        "id": "fZXcJwyafVfV",
        "outputId": "b09a9a45-406f-4ad5-c5ba-40875a46fa06"
      },
      "execution_count": 6,
      "outputs": [
        {
          "output_type": "stream",
          "name": "stdout",
          "text": [
            "0\n",
            "1\n",
            "2\n"
          ]
        }
      ]
    },
    {
      "cell_type": "markdown",
      "source": [
        "Bargardim be mesale ghabl ke gharar bood biaim va list ro begirim va faghat adad ro be yek liste jadid montaghel konim."
      ],
      "metadata": {
        "id": "yTXKBIjtgRSU"
      }
    },
    {
      "cell_type": "markdown",
      "source": [
        "Mikhaim vurudimoon in bashe `my_list = [4, 5, 10, 3, 'x', 2, 9]` va khurujimoon tabdil beshe be `new_list = [4, 5, 10, 3, 2, 9]`"
      ],
      "metadata": {
        "id": "awQe6S1qgc1D"
      }
    },
    {
      "cell_type": "markdown",
      "source": [
        "1. bayad be komake for biaim va doone doone obj haro begirim.\n",
        "2. bayad be komake if va else biaim check konim bebinim ke aya `list_obj` ke aln darim `int` hast ya nist. agar bood oon ro be liste jadid ezafe kone."
      ],
      "metadata": {
        "id": "396h40n6gtT7"
      }
    },
    {
      "cell_type": "code",
      "source": [
        "new_list = []\n",
        "\n",
        "for list_obj in my_list:\n",
        "  if type(list_obj) == int:\n",
        "    new_list.append(list_obj)\n",
        "  # indentation is important -> the line below is not a part of if\n",
        "  print(f'my list_obj is now: {list_obj}')\n",
        "\n",
        "print(new_list)"
      ],
      "metadata": {
        "colab": {
          "base_uri": "https://localhost:8080/"
        },
        "id": "OwTu31qpf4ME",
        "outputId": "ce2d9da6-0754-41bc-eee1-9b6af1b676c9"
      },
      "execution_count": 33,
      "outputs": [
        {
          "output_type": "stream",
          "name": "stdout",
          "text": [
            "my list_obj is now: 4\n",
            "my list_obj is now: 5\n",
            "my list_obj is now: 10\n",
            "my list_obj is now: 3\n",
            "my list_obj is now: x\n",
            "my list_obj is now: 2\n",
            "my list_obj is now: 9\n",
            "[4, 5, 10, 3, 2, 9]\n"
          ]
        }
      ]
    },
    {
      "cell_type": "markdown",
      "source": [
        "> biaim va mesale balaro dashte bashim, ama zamani ke be 'x' residim mikhaim halghe shekaste beshe va azash kharej beshim. yani inke entezar darim khuruji barnamamoon `new_list = [4, 5, 10, 3]` bashe."
      ],
      "metadata": {
        "id": "TrPlx3qVnjXE"
      }
    },
    {
      "cell_type": "markdown",
      "source": [
        "Hadaf ro vazeh tar konim -> Bayad check kone, agar `str` bood / `int` nabood -> break beshe"
      ],
      "metadata": {
        "id": "QYZwvv-roA8k"
      }
    },
    {
      "cell_type": "code",
      "source": [
        "new_list = []\n",
        "\n",
        "for list_obj in my_list:\n",
        "  print(f'my list_obj is now: {list_obj}')\n",
        "  if type(list_obj) == int:\n",
        "    new_list.append(list_obj)\n",
        "  else:\n",
        "    break\n",
        "\n",
        "print(new_list)"
      ],
      "metadata": {
        "colab": {
          "base_uri": "https://localhost:8080/"
        },
        "id": "MkG8i5oWni7t",
        "outputId": "20b770f7-fbbe-4b38-b6d3-3fca330e24d5"
      },
      "execution_count": 35,
      "outputs": [
        {
          "output_type": "stream",
          "name": "stdout",
          "text": [
            "my list_obj is now: 4\n",
            "my list_obj is now: 5\n",
            "my list_obj is now: 10\n",
            "my list_obj is now: 3\n",
            "my list_obj is now: x\n",
            "[4, 5, 10, 3]\n"
          ]
        }
      ]
    },
    {
      "cell_type": "markdown",
      "source": [
        "> biaim bejaye `else` az `elif` estefade konim."
      ],
      "metadata": {
        "id": "J_egE335pVIG"
      }
    },
    {
      "cell_type": "code",
      "source": [
        "new_list = []\n",
        "\n",
        "for list_obj in my_list:\n",
        "  print(f'my list_obj is now: {list_obj}')\n",
        "  if type(list_obj) == int:\n",
        "    new_list.append(list_obj)\n",
        "  elif type(list_obj) == str:\n",
        "    break\n",
        "\n",
        "print(new_list)"
      ],
      "metadata": {
        "colab": {
          "base_uri": "https://localhost:8080/"
        },
        "id": "_72tbVEClwYU",
        "outputId": "1554a3ab-c3d7-4c9d-97f8-dab13ba16198"
      },
      "execution_count": 36,
      "outputs": [
        {
          "output_type": "stream",
          "name": "stdout",
          "text": [
            "my list_obj is now: 4\n",
            "my list_obj is now: 5\n",
            "my list_obj is now: 10\n",
            "my list_obj is now: 3\n",
            "my list_obj is now: x\n",
            "[4, 5, 10, 3]\n"
          ]
        }
      ]
    },
    {
      "cell_type": "markdown",
      "source": [
        "> code dovomi ke be komake elif neveshtim behtare. chon miad va az buh hayi ke ehtemale voghu daran jologiri mikone. yani ma farz karde boodim ke list e ma faghat az str va int tashkil shode bashe. ama agar in farzie bargharar nabashe khuruji in do code kamelan ba ham dge fargh mikonan."
      ],
      "metadata": {
        "id": "5TAP_7oZqvBT"
      }
    },
    {
      "cell_type": "code",
      "source": [
        "tricky_list = [4, 5, 3.2, 10, 3, 'x', 2, 8.1, 9]"
      ],
      "metadata": {
        "id": "WZu7F-8kquIl"
      },
      "execution_count": 37,
      "outputs": []
    },
    {
      "cell_type": "code",
      "source": [
        "new_list = []\n",
        "\n",
        "for list_obj in tricky_list:\n",
        "  print(f'my list_obj is now: {list_obj}')\n",
        "  if type(list_obj) == int:\n",
        "    new_list.append(list_obj)\n",
        "  else:\n",
        "    break\n",
        "\n",
        "print(new_list)"
      ],
      "metadata": {
        "colab": {
          "base_uri": "https://localhost:8080/"
        },
        "id": "G0dYP3emrRGW",
        "outputId": "c2556e2c-5166-4491-8a73-2d8a17d07bac"
      },
      "execution_count": 38,
      "outputs": [
        {
          "output_type": "stream",
          "name": "stdout",
          "text": [
            "my list_obj is now: 4\n",
            "my list_obj is now: 5\n",
            "my list_obj is now: 3.2\n",
            "[4, 5]\n"
          ]
        }
      ]
    },
    {
      "cell_type": "code",
      "source": [
        "new_list = []\n",
        "\n",
        "for list_obj in tricky_list:\n",
        "  print(f'my list_obj is now: {list_obj}')\n",
        "  if (type(list_obj) == int) or (type(list_obj) == float):\n",
        "    new_list.append(list_obj)\n",
        "  elif type(list_obj) == str:\n",
        "    break\n",
        "\n",
        "print(new_list)"
      ],
      "metadata": {
        "colab": {
          "base_uri": "https://localhost:8080/"
        },
        "id": "7VeVUtR9rt-t",
        "outputId": "188d19b2-86df-4731-ec1d-7df3ee5df85f"
      },
      "execution_count": 42,
      "outputs": [
        {
          "output_type": "stream",
          "name": "stdout",
          "text": [
            "my list_obj is now: 4\n",
            "my list_obj is now: 5\n",
            "my list_obj is now: 3.2\n",
            "my list_obj is now: 10\n",
            "my list_obj is now: 3\n",
            "my list_obj is now: x\n",
            "[4, 5, 3.2, 10, 3]\n"
          ]
        }
      ]
    },
    {
      "cell_type": "code",
      "source": [
        "new_list = []\n",
        "\n",
        "for list_obj in tricky_list:\n",
        "  print(f'my list_obj is now: {list_obj}')\n",
        "  if type(list_obj) != str:\n",
        "    new_list.append(list_obj)\n",
        "  else:\n",
        "    break\n",
        "\n",
        "print(new_list)"
      ],
      "metadata": {
        "colab": {
          "base_uri": "https://localhost:8080/"
        },
        "id": "d5f7f7FDtM7t",
        "outputId": "4090a8f4-cd73-432a-a78d-7562578939b6"
      },
      "execution_count": 43,
      "outputs": [
        {
          "output_type": "stream",
          "name": "stdout",
          "text": [
            "my list_obj is now: 4\n",
            "my list_obj is now: 5\n",
            "my list_obj is now: 3.2\n",
            "my list_obj is now: 10\n",
            "my list_obj is now: 3\n",
            "my list_obj is now: x\n",
            "[4, 5, 3.2, 10, 3]\n"
          ]
        }
      ]
    },
    {
      "cell_type": "code",
      "source": [
        "example_lis_obj = 4"
      ],
      "metadata": {
        "id": "L8mIw6GKheRX"
      },
      "execution_count": 20,
      "outputs": []
    },
    {
      "cell_type": "code",
      "source": [
        "example_lis_obj"
      ],
      "metadata": {
        "colab": {
          "base_uri": "https://localhost:8080/"
        },
        "id": "kWOj_YmEhnA0",
        "outputId": "273f7b6f-0d2a-433a-8330-acbed36faba8"
      },
      "execution_count": 16,
      "outputs": [
        {
          "output_type": "execute_result",
          "data": {
            "text/plain": [
              "4"
            ]
          },
          "metadata": {},
          "execution_count": 16
        }
      ]
    },
    {
      "cell_type": "code",
      "source": [
        "type(example_lis_obj)"
      ],
      "metadata": {
        "colab": {
          "base_uri": "https://localhost:8080/"
        },
        "id": "Ns33NxVNhpw1",
        "outputId": "68a29aff-6962-4abb-a457-980871b7452f"
      },
      "execution_count": 17,
      "outputs": [
        {
          "output_type": "execute_result",
          "data": {
            "text/plain": [
              "int"
            ]
          },
          "metadata": {},
          "execution_count": 17
        }
      ]
    },
    {
      "cell_type": "code",
      "source": [
        "type(list_obj) == int"
      ],
      "metadata": {
        "colab": {
          "base_uri": "https://localhost:8080/"
        },
        "id": "6orp7EncjONz",
        "outputId": "49136c01-c661-4ff8-b6d0-87ec88f198b0"
      },
      "execution_count": 18,
      "outputs": [
        {
          "output_type": "execute_result",
          "data": {
            "text/plain": [
              "True"
            ]
          },
          "metadata": {},
          "execution_count": 18
        }
      ]
    },
    {
      "cell_type": "code",
      "source": [
        "example_lis_obj_2 = 'hello'\n",
        "type(example_lis_obj_2) == int"
      ],
      "metadata": {
        "colab": {
          "base_uri": "https://localhost:8080/"
        },
        "id": "wNOOlDjgjUT-",
        "outputId": "df713d3c-d291-411a-9809-7f031b7a8d45"
      },
      "execution_count": 19,
      "outputs": [
        {
          "output_type": "execute_result",
          "data": {
            "text/plain": [
              "False"
            ]
          },
          "metadata": {},
          "execution_count": 19
        }
      ]
    },
    {
      "cell_type": "code",
      "source": [],
      "metadata": {
        "id": "5n5dwyFLjOJm"
      },
      "execution_count": null,
      "outputs": []
    },
    {
      "cell_type": "code",
      "source": [
        "list_obj = my_list[7]"
      ],
      "metadata": {
        "id": "5AxDwZOFePzF"
      },
      "execution_count": null,
      "outputs": []
    }
  ]
}