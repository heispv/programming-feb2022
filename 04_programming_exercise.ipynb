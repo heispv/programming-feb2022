{
  "nbformat": 4,
  "nbformat_minor": 0,
  "metadata": {
    "colab": {
      "provenance": [],
      "authorship_tag": "ABX9TyPB5vDznh9w9wWAuqAAOzSQ"
    },
    "kernelspec": {
      "name": "python3",
      "display_name": "Python 3"
    },
    "language_info": {
      "name": "python"
    }
  },
  "cells": [
    {
      "cell_type": "markdown",
      "source": [
        "> Booleans"
      ],
      "metadata": {
        "id": "uau_1BDKcLoh"
      }
    },
    {
      "cell_type": "code",
      "execution_count": null,
      "metadata": {
        "id": "xbIxSG95b9pD"
      },
      "outputs": [],
      "source": [
        "# Define two boolean variables\n",
        "a = \n",
        "b = "
      ]
    },
    {
      "cell_type": "code",
      "source": [
        "# Perform an AND operation and print the result\n",
        "and_result = \n",
        "print(\"AND:\", and_result)"
      ],
      "metadata": {
        "id": "gIzJEqS9cD7B"
      },
      "execution_count": null,
      "outputs": []
    },
    {
      "cell_type": "code",
      "source": [
        "# Perform an OR operation and print the result\n",
        "or_result = \n",
        "print(\"OR:\", or_result)"
      ],
      "metadata": {
        "id": "B5LbQKF7cFWI"
      },
      "execution_count": null,
      "outputs": []
    },
    {
      "cell_type": "code",
      "source": [
        "# Perform a NOT operation on a and print the result\n",
        "not_result = \n",
        "print(\"NOT:\", not_result)"
      ],
      "metadata": {
        "id": "lw69LcWJcGiI"
      },
      "execution_count": null,
      "outputs": []
    },
    {
      "cell_type": "markdown",
      "source": [
        "> List methods"
      ],
      "metadata": {
        "id": "Cyr9i4PLcIsI"
      }
    },
    {
      "cell_type": "code",
      "source": [
        "# It is a list of integers\n",
        "my_list = [1, 2, 3, 4, 5]"
      ],
      "metadata": {
        "id": "WImyAEyCcSRg"
      },
      "execution_count": null,
      "outputs": []
    },
    {
      "cell_type": "code",
      "source": [
        "# Add a new item to the end of the list\n",
        "my_list.\n",
        "\n",
        "print(my_list)"
      ],
      "metadata": {
        "id": "PpNeuumzcaEg"
      },
      "execution_count": null,
      "outputs": []
    },
    {
      "cell_type": "code",
      "source": [
        "# Add multiple items to the end of the list\n",
        "my_list.\n",
        "\n",
        "print(my_list)"
      ],
      "metadata": {
        "id": "kYNsSIGlcjkg"
      },
      "execution_count": null,
      "outputs": []
    },
    {
      "cell_type": "code",
      "source": [
        "# Insert an item at a specific position\n",
        "my_list.\n",
        "\n",
        "print(my_list)"
      ],
      "metadata": {
        "id": "5Myn0Bmicqjt"
      },
      "execution_count": null,
      "outputs": []
    },
    {
      "cell_type": "code",
      "source": [
        "# Remove the first occurrence of a value from the list\n",
        "my_list.\n",
        "\n",
        "print(my_list)"
      ],
      "metadata": {
        "id": "LXIAkHFPcvxT"
      },
      "execution_count": null,
      "outputs": []
    },
    {
      "cell_type": "code",
      "source": [
        "# Remove and return the last item in the list\n",
        "last_item = my_list.\n",
        "\n",
        "print(my_list)\n",
        "print(last_item)"
      ],
      "metadata": {
        "id": "SqXnuTE9cyO5"
      },
      "execution_count": null,
      "outputs": []
    },
    {
      "cell_type": "code",
      "source": [
        "# Count the number of occurrences of a value in the list\n",
        "count = my_list.\n",
        "\n",
        "print(my_list)\n",
        "print(count)"
      ],
      "metadata": {
        "id": "6gDRnC44c0oP"
      },
      "execution_count": null,
      "outputs": []
    },
    {
      "cell_type": "code",
      "source": [
        "# Find the index of the first occurrence of a value in the list\n",
        "index = my_list.\n",
        "\n",
        "print(my_list)\n",
        "print(index)"
      ],
      "metadata": {
        "id": "x-XSXbjkc4Mo"
      },
      "execution_count": null,
      "outputs": []
    },
    {
      "cell_type": "markdown",
      "source": [
        "> List slicing"
      ],
      "metadata": {
        "id": "uf9zaPyBdGMA"
      }
    },
    {
      "cell_type": "code",
      "source": [
        "# Here is a list of fruits\n",
        "my_list = [\"apple\", \"banana\", \"cherry\", \"date\", \"elderberry\"]"
      ],
      "metadata": {
        "id": "Ylp61dAvdHwL"
      },
      "execution_count": null,
      "outputs": []
    },
    {
      "cell_type": "code",
      "source": [
        "# Print the first three items in the list\n",
        "print(my_list[:])"
      ],
      "metadata": {
        "id": "BpCu0CG7dNGn"
      },
      "execution_count": null,
      "outputs": []
    },
    {
      "cell_type": "code",
      "source": [
        "# Print the last two items in the list\n",
        "print(my_list[:])"
      ],
      "metadata": {
        "id": "eOv4rurmdOfn"
      },
      "execution_count": null,
      "outputs": []
    },
    {
      "cell_type": "code",
      "source": [
        "# Replace the second item in the list with a single item \"blueberry\"\n",
        "my_list[:]\n",
        "\n",
        "print(my_list)"
      ],
      "metadata": {
        "id": "inSzV0afdPtX"
      },
      "execution_count": null,
      "outputs": []
    },
    {
      "cell_type": "code",
      "source": [
        "# Extract the second and third items from the list and assign them to variables\n",
        "item2, item3 = my_list[:]\n",
        "\n",
        "print(item2)\n",
        "print(item3)"
      ],
      "metadata": {
        "id": "WNlhiUradpOf"
      },
      "execution_count": null,
      "outputs": []
    }
  ]
}