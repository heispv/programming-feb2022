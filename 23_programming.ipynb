{
  "nbformat": 4,
  "nbformat_minor": 0,
  "metadata": {
    "colab": {
      "provenance": [],
      "authorship_tag": "ABX9TyMdzFW5V3BD3BYQfFmz2BBG",
      "include_colab_link": true
    },
    "kernelspec": {
      "name": "python3",
      "display_name": "Python 3"
    },
    "language_info": {
      "name": "python"
    }
  },
  "cells": [
    {
      "cell_type": "markdown",
      "metadata": {
        "id": "view-in-github",
        "colab_type": "text"
      },
      "source": [
        "<a href=\"https://colab.research.google.com/github/heispv/programming-feb2023/blob/master/23_programming.ipynb\" target=\"_parent\"><img src=\"https://colab.research.google.com/assets/colab-badge.svg\" alt=\"Open In Colab\"/></a>"
      ]
    },
    {
      "cell_type": "markdown",
      "source": [
        "1. Yek soal az ma porside mishe\n",
        "2. bayad javad bedim be oon soal\n",
        "3. agar dorost bood ke barname ghat shode va be ma payam javabe dorost namayesh dade mishe\n",
        "4. agar ghalat bood dobare soal ro hamrah ba javab ha neshoon mide va az ma mikhad ke javab ro vared konim"
      ],
      "metadata": {
        "id": "aWCXQVwQ2XEX"
      }
    },
    {
      "cell_type": "code",
      "execution_count": null,
      "metadata": {
        "colab": {
          "base_uri": "https://localhost:8080/"
        },
        "id": "QmFlQ2HL0HOh",
        "outputId": "548090bd-5ebe-4aaf-b4f5-ba1d2aa432c1"
      },
      "outputs": [
        {
          "output_type": "stream",
          "name": "stdout",
          "text": [
            "Kudum zabane barname nevisi mahboob tarin zaban mibashad: python\n",
            "Your answer is correct.\n"
          ]
        }
      ],
      "source": [
        "javab = input('Kudum zabane barname nevisi mahboob tarin zaban mibashad: ')\n",
        "javab = javab.lower()\n",
        "javab = javab.capitalize()\n",
        "\n",
        "if javab == 'Python':\n",
        "  print('Your answer is correct.')\n",
        "else:\n",
        "  print('Your answer is not correct.\\nThe correct answer was Python')"
      ]
    },
    {
      "cell_type": "code",
      "source": [
        "while True:\n",
        "\n",
        "  javab = input('Kudum zabane barname nevisi mahboob tarin zaban mibashad: ')\n",
        "\n",
        "  if javab == 'python':\n",
        "    print('Your answer is correct.')\n",
        "    break\n",
        "  else:\n",
        "    print('Your answer is not correct.\\nTry again...\\n')"
      ],
      "metadata": {
        "colab": {
          "base_uri": "https://localhost:8080/"
        },
        "id": "Ne9hBb_i3JfH",
        "outputId": "86abe3f6-9e5a-437f-8c63-dd4139f68b29"
      },
      "execution_count": null,
      "outputs": [
        {
          "output_type": "stream",
          "name": "stdout",
          "text": [
            "Kudum zabane barname nevisi mahboob tarin zaban mibashad: C\n",
            "Your answer is not correct.\n",
            "Try again...\n",
            "\n",
            "Kudum zabane barname nevisi mahboob tarin zaban mibashad: C#\n",
            "Your answer is not correct.\n",
            "Try again...\n",
            "\n",
            "Kudum zabane barname nevisi mahboob tarin zaban mibashad: python\n",
            "Your answer is correct.\n"
          ]
        }
      ]
    },
    {
      "cell_type": "code",
      "source": [
        "print('hello and bye:\\t123')"
      ],
      "metadata": {
        "colab": {
          "base_uri": "https://localhost:8080/"
        },
        "id": "stoKXcmF7Djg",
        "outputId": "7dd90ecf-123c-4c9e-a91d-b143591f6bea"
      },
      "execution_count": null,
      "outputs": [
        {
          "output_type": "stream",
          "name": "stdout",
          "text": [
            "hello and bye:\t123\n"
          ]
        }
      ]
    },
    {
      "cell_type": "code",
      "source": [
        "print('hello and\\nbye')"
      ],
      "metadata": {
        "colab": {
          "base_uri": "https://localhost:8080/"
        },
        "id": "EB7FYtiH7Ias",
        "outputId": "d7afa303-10a1-47a5-8917-990dcb445ede"
      },
      "execution_count": null,
      "outputs": [
        {
          "output_type": "stream",
          "name": "stdout",
          "text": [
            "hello and\n",
            "bye\n"
          ]
        }
      ]
    },
    {
      "cell_type": "code",
      "source": [
        "a = 5\n",
        "\n",
        "while a < 10:\n",
        "  print(a)\n",
        "  a = a + 1"
      ],
      "metadata": {
        "colab": {
          "base_uri": "https://localhost:8080/"
        },
        "id": "tyKANnPY3R9Y",
        "outputId": "4d50463c-70eb-42b5-a725-8673990f9e1b"
      },
      "execution_count": null,
      "outputs": [
        {
          "output_type": "stream",
          "name": "stdout",
          "text": [
            "5\n",
            "6\n",
            "7\n",
            "8\n",
            "9\n"
          ]
        }
      ]
    },
    {
      "cell_type": "code",
      "source": [
        "while True:\n",
        "  ans = input('Adad ro vared kon: ')\n",
        "  print(ans)\n",
        "  if int(ans) == 10:\n",
        "    print('10 ro vared kardi :)')\n",
        "    break"
      ],
      "metadata": {
        "colab": {
          "base_uri": "https://localhost:8080/"
        },
        "id": "peDx6K-r5BmK",
        "outputId": "9f759576-9d13-46ef-cebd-8b42b888c545"
      },
      "execution_count": null,
      "outputs": [
        {
          "output_type": "stream",
          "name": "stdout",
          "text": [
            "Adad ro vared kon: 5\n",
            "5\n",
            "Adad ro vared kon: 256\n",
            "256\n",
            "Adad ro vared kon: 10\n",
            "10\n",
            "10 ro vared kardi :)\n"
          ]
        }
      ]
    },
    {
      "cell_type": "code",
      "source": [
        "ans"
      ],
      "metadata": {
        "colab": {
          "base_uri": "https://localhost:8080/",
          "height": 36
        },
        "id": "HCPl-IAo5lmZ",
        "outputId": "94229b73-6da9-4b12-eb93-44497bc726cb"
      },
      "execution_count": null,
      "outputs": [
        {
          "output_type": "execute_result",
          "data": {
            "text/plain": [
              "'10'"
            ],
            "application/vnd.google.colaboratory.intrinsic+json": {
              "type": "string"
            }
          },
          "metadata": {},
          "execution_count": 11
        }
      ]
    },
    {
      "cell_type": "code",
      "source": [
        "type(ans)"
      ],
      "metadata": {
        "colab": {
          "base_uri": "https://localhost:8080/"
        },
        "id": "EJZNyWHF6OWH",
        "outputId": "202fb407-3b11-40f6-bc35-60edbeaa2f46"
      },
      "execution_count": null,
      "outputs": [
        {
          "output_type": "execute_result",
          "data": {
            "text/plain": [
              "str"
            ]
          },
          "metadata": {},
          "execution_count": 13
        }
      ]
    },
    {
      "cell_type": "code",
      "source": [
        "int(ans) == 10"
      ],
      "metadata": {
        "colab": {
          "base_uri": "https://localhost:8080/"
        },
        "id": "3r7xzABv6B9c",
        "outputId": "14825695-ea53-4fcb-c470-85c8f9ce5ec8"
      },
      "execution_count": null,
      "outputs": [
        {
          "output_type": "execute_result",
          "data": {
            "text/plain": [
              "True"
            ]
          },
          "metadata": {},
          "execution_count": 14
        }
      ]
    },
    {
      "cell_type": "code",
      "source": [
        "my_list ="
      ],
      "metadata": {
        "id": "oOW3T37G6FlY"
      },
      "execution_count": null,
      "outputs": []
    },
    {
      "cell_type": "code",
      "source": [
        "my_list"
      ],
      "metadata": {
        "colab": {
          "base_uri": "https://localhost:8080/"
        },
        "id": "-WI1XUgr_CPm",
        "outputId": "2ccc5f36-71a4-447f-9631-066cbed4426e"
      },
      "execution_count": null,
      "outputs": [
        {
          "output_type": "execute_result",
          "data": {
            "text/plain": [
              "['Hulu', 'sib', 'hendoone']"
            ]
          },
          "metadata": {},
          "execution_count": 33
        }
      ]
    },
    {
      "cell_type": "code",
      "source": [
        "print(type(['Hulu']))\n",
        "print(type(('mive', 'daftar')))\n",
        "print(type({'name': 'John'}))\n",
        "print(type(5))\n",
        "print(type(3.2))\n",
        "print(type(True))\n",
        "print(type(None))"
      ],
      "metadata": {
        "colab": {
          "base_uri": "https://localhost:8080/"
        },
        "id": "wv6hldEf_C1u",
        "outputId": "fe3d33a3-ff28-4834-e49a-c17a1023b1bd"
      },
      "execution_count": null,
      "outputs": [
        {
          "output_type": "stream",
          "name": "stdout",
          "text": [
            "<class 'list'>\n",
            "<class 'tuple'>\n",
            "<class 'dict'>\n",
            "<class 'int'>\n",
            "<class 'float'>\n",
            "<class 'bool'>\n",
            "<class 'NoneType'>\n"
          ]
        }
      ]
    },
    {
      "cell_type": "code",
      "source": [
        "my_list = [1, 2, 3]\n",
        "my_list.append('new num')"
      ],
      "metadata": {
        "id": "NRXtXYc2_Fh-"
      },
      "execution_count": null,
      "outputs": []
    },
    {
      "cell_type": "code",
      "source": [
        "my_list"
      ],
      "metadata": {
        "colab": {
          "base_uri": "https://localhost:8080/"
        },
        "id": "F6Vsu1QtAefK",
        "outputId": "3abf15c6-dd1f-4607-af6b-94af933d9309"
      },
      "execution_count": null,
      "outputs": [
        {
          "output_type": "execute_result",
          "data": {
            "text/plain": [
              "[1, 2, 3, 'new num']"
            ]
          },
          "metadata": {},
          "execution_count": 38
        }
      ]
    },
    {
      "cell_type": "code",
      "source": [
        "my_num = 5\n",
        "my_num.append('new num')"
      ],
      "metadata": {
        "colab": {
          "base_uri": "https://localhost:8080/",
          "height": 187
        },
        "id": "uqyyegnzAfGf",
        "outputId": "580161b0-30cd-4811-865b-6611e8759424"
      },
      "execution_count": null,
      "outputs": [
        {
          "output_type": "error",
          "ename": "AttributeError",
          "evalue": "ignored",
          "traceback": [
            "\u001b[0;31m---------------------------------------------------------------------------\u001b[0m",
            "\u001b[0;31mAttributeError\u001b[0m                            Traceback (most recent call last)",
            "\u001b[0;32m<ipython-input-39-48a0ae3617d3>\u001b[0m in \u001b[0;36m<cell line: 2>\u001b[0;34m()\u001b[0m\n\u001b[1;32m      1\u001b[0m \u001b[0mmy_num\u001b[0m \u001b[0;34m=\u001b[0m \u001b[0;36m5\u001b[0m\u001b[0;34m\u001b[0m\u001b[0;34m\u001b[0m\u001b[0m\n\u001b[0;32m----> 2\u001b[0;31m \u001b[0mmy_num\u001b[0m\u001b[0;34m.\u001b[0m\u001b[0mappend\u001b[0m\u001b[0;34m(\u001b[0m\u001b[0;34m'new num'\u001b[0m\u001b[0;34m)\u001b[0m\u001b[0;34m\u001b[0m\u001b[0;34m\u001b[0m\u001b[0m\n\u001b[0m",
            "\u001b[0;31mAttributeError\u001b[0m: 'int' object has no attribute 'append'"
          ]
        }
      ]
    },
    {
      "cell_type": "code",
      "source": [
        "esm = 'Lara'"
      ],
      "metadata": {
        "id": "n-Y8r4FDAlUI"
      },
      "execution_count": null,
      "outputs": []
    },
    {
      "cell_type": "code",
      "source": [
        "esm.append(5)"
      ],
      "metadata": {
        "colab": {
          "base_uri": "https://localhost:8080/",
          "height": 169
        },
        "id": "62L1UUf9ElZ_",
        "outputId": "51fb407e-c3b4-4675-a4bd-6cf9379b31bf"
      },
      "execution_count": null,
      "outputs": [
        {
          "output_type": "error",
          "ename": "AttributeError",
          "evalue": "ignored",
          "traceback": [
            "\u001b[0;31m---------------------------------------------------------------------------\u001b[0m",
            "\u001b[0;31mAttributeError\u001b[0m                            Traceback (most recent call last)",
            "\u001b[0;32m<ipython-input-42-abbc445c02dd>\u001b[0m in \u001b[0;36m<cell line: 1>\u001b[0;34m()\u001b[0m\n\u001b[0;32m----> 1\u001b[0;31m \u001b[0mesm\u001b[0m\u001b[0;34m.\u001b[0m\u001b[0mappend\u001b[0m\u001b[0;34m(\u001b[0m\u001b[0;36m5\u001b[0m\u001b[0;34m)\u001b[0m\u001b[0;34m\u001b[0m\u001b[0;34m\u001b[0m\u001b[0m\n\u001b[0m",
            "\u001b[0;31mAttributeError\u001b[0m: 'str' object has no attribute 'append'"
          ]
        }
      ]
    },
    {
      "cell_type": "code",
      "source": [
        "esm.upper()"
      ],
      "metadata": {
        "colab": {
          "base_uri": "https://localhost:8080/",
          "height": 36
        },
        "id": "p9IL_uXoEmrJ",
        "outputId": "363a71d0-f1f1-45b6-afba-fa90b68123fb"
      },
      "execution_count": null,
      "outputs": [
        {
          "output_type": "execute_result",
          "data": {
            "text/plain": [
              "'LARA'"
            ],
            "application/vnd.google.colaboratory.intrinsic+json": {
              "type": "string"
            }
          },
          "metadata": {},
          "execution_count": 44
        }
      ]
    }
  ]
}