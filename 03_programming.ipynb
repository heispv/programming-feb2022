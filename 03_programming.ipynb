{
  "cells": [
    {
      "attachments": {},
      "cell_type": "markdown",
      "metadata": {
        "id": "i_4ZgIqOI2Ox"
      },
      "source": [
        "# String\n",
        "\n",
        "In Python, there are three ways to write strings: using single quotes (''), double quotes (\"\"), or triple quotes (''' '''). Each of these methods has its own use cases and benefits."
      ]
    },
    {
      "attachments": {},
      "cell_type": "markdown",
      "metadata": {},
      "source": [
        "The first way to write a string is to use single quotes (''). This method is useful when you need to include double quotes within your string.\n",
        "\n",
        "For example:"
      ]
    },
    {
      "cell_type": "code",
      "execution_count": 5,
      "metadata": {
        "colab": {
          "base_uri": "https://localhost:8080/",
          "height": 36
        },
        "id": "MbCGriqQJCiz",
        "outputId": "59c53f50-86b3-42ee-ae9c-152c1373dc49"
      },
      "outputs": [
        {
          "data": {
            "text/plain": [
              "'This is the \"information\" '"
            ]
          },
          "execution_count": 5,
          "metadata": {},
          "output_type": "execute_result"
        }
      ],
      "source": [
        "information = 'This is the \"information\" '\n",
        "information"
      ]
    },
    {
      "cell_type": "code",
      "execution_count": 6,
      "metadata": {
        "colab": {
          "base_uri": "https://localhost:8080/"
        },
        "id": "VS-j970_JLBO",
        "outputId": "6b347905-2708-4e51-9062-87dc4b57ccab"
      },
      "outputs": [
        {
          "data": {
            "text/plain": [
              "str"
            ]
          },
          "execution_count": 6,
          "metadata": {},
          "output_type": "execute_result"
        }
      ],
      "source": [
        "type(information)"
      ]
    },
    {
      "attachments": {},
      "cell_type": "markdown",
      "metadata": {},
      "source": [
        "The second way to write a string is to use double quotes (\"\"). This method is useful when you need to include single quotes within your string. \n",
        "\n",
        "For example:"
      ]
    },
    {
      "cell_type": "code",
      "execution_count": 7,
      "metadata": {},
      "outputs": [
        {
          "name": "stdout",
          "output_type": "stream",
          "text": [
            "I'm going to the store\n"
          ]
        }
      ],
      "source": [
        "print(\"I'm going to the store\")"
      ]
    },
    {
      "attachments": {},
      "cell_type": "markdown",
      "metadata": {},
      "source": [
        "In this example, we use double quotes to define the string, and single quotes within the string to indicate that the speaker is using a contraction."
      ]
    },
    {
      "attachments": {},
      "cell_type": "markdown",
      "metadata": {},
      "source": [
        "The third way to write a string is to use triple quotes (''' '''). This method is useful when you need to write a multi-line string, or when you need to include both single and double quotes within your string.\n",
        "\n",
        "For example:"
      ]
    },
    {
      "cell_type": "code",
      "execution_count": 8,
      "metadata": {},
      "outputs": [
        {
          "name": "stdout",
          "output_type": "stream",
          "text": [
            "Hello, welcome to this \"application\"\n",
            "your name is: 'Zahra'\n",
            "your id is: 123\n",
            "your email is: zahra@gmail.com\n",
            "\n"
          ]
        }
      ],
      "source": [
        "print('''Hello, welcome to this \"application\"\n",
        "your name is: 'Zahra'\n",
        "your id is: 123\n",
        "your email is: zahra@gmail.com\n",
        "''')"
      ]
    },
    {
      "attachments": {},
      "cell_type": "markdown",
      "metadata": {},
      "source": [
        "In this example, we use triple quotes to define the string, which spans multiple lines and includes both single and double quotes."
      ]
    },
    {
      "cell_type": "code",
      "execution_count": 9,
      "metadata": {
        "colab": {
          "base_uri": "https://localhost:8080/",
          "height": 36
        },
        "id": "8A5ELjK5JZ4-",
        "outputId": "af673fbb-cbed-46d4-e564-3b1214e4d73f"
      },
      "outputs": [
        {
          "data": {
            "text/plain": [
              "'This is the \"information\" :)'"
            ]
          },
          "execution_count": 9,
          "metadata": {},
          "output_type": "execute_result"
        }
      ],
      "source": [
        "# string concatenation\n",
        "information + \":)\""
      ]
    },
    {
      "cell_type": "code",
      "execution_count": 10,
      "metadata": {
        "colab": {
          "base_uri": "https://localhost:8080/",
          "height": 36
        },
        "id": "oL7cwLRqJjvO",
        "outputId": "a7fde19b-a1fc-4377-ea5a-48ed0d1f6576"
      },
      "outputs": [
        {
          "data": {
            "text/plain": [
              "'This is the \"information\" This is the \"information\" '"
            ]
          },
          "execution_count": 10,
          "metadata": {},
          "output_type": "execute_result"
        }
      ],
      "source": [
        "# string repetition / string multiplication\n",
        "information * 2"
      ]
    },
    {
      "cell_type": "code",
      "execution_count": 11,
      "metadata": {
        "colab": {
          "base_uri": "https://localhost:8080/"
        },
        "id": "85B9GbgoMfxe",
        "outputId": "72c61de8-99c1-4651-c2fa-237debaf6c7d"
      },
      "outputs": [
        {
          "name": "stdout",
          "output_type": "stream",
          "text": [
            "Hello, welcome to this application\n",
            "your name is: Zahra\n",
            "your id is: 123\n",
            "your email is: zahra@gmail.com\n",
            "\n"
          ]
        }
      ],
      "source": [
        "print('''Hello, welcome to this application\n",
        "your name is: Zahra\n",
        "your id is: 123\n",
        "your email is: zahra@gmail.com\n",
        "''')"
      ]
    },
    {
      "attachments": {},
      "cell_type": "markdown",
      "metadata": {},
      "source": [
        "In addition to these methods, Python also supports string interpolation, which allows you to insert variables or expressions within a string. \n",
        "\n",
        "For example:"
      ]
    },
    {
      "cell_type": "code",
      "execution_count": 17,
      "metadata": {},
      "outputs": [
        {
          "name": "stdout",
          "output_type": "stream",
          "text": [
            "Your name is Peyman and you are 23 years old.\n"
          ]
        }
      ],
      "source": [
        "# basic way\n",
        "name = input(\"What is your name? \")\n",
        "age = input(\"How old are you? \")\n",
        "\n",
        "print(\"Your name is \" + name + \" and you are \" + age + \" years old.\")"
      ]
    },
    {
      "cell_type": "code",
      "execution_count": 18,
      "metadata": {},
      "outputs": [
        {
          "name": "stdout",
          "output_type": "stream",
          "text": [
            "Your name is Ali and you are 16 years old.\n"
          ]
        }
      ],
      "source": [
        "# f-string\n",
        "name = input(\"What is your name? \")\n",
        "age = input(\"How old are you? \")\n",
        "\n",
        "print(f\"Your name is {name} and you are {age} years old.\")"
      ]
    },
    {
      "attachments": {},
      "cell_type": "markdown",
      "metadata": {},
      "source": [
        "In this example, we use an f-string to define the string and include variables within it.\n",
        "\n",
        "Overall, understanding these different ways to write strings in Python will help you write more versatile and effective code."
      ]
    },
    {
      "attachments": {},
      "cell_type": "markdown",
      "metadata": {
        "id": "gZUYMPRuK_pZ"
      },
      "source": [
        "## Escape Characters\n",
        "\n",
        "Escape characters in Python are special characters that allow you to include characters in strings that would otherwise be difficult or impossible to include. They are used to represent characters that are not part of the regular character set and have a special meaning when they appear in a string.\n",
        "\n",
        "In Python, escape characters are represented by a backslash (/) followed by a special character. Here are some of the most commonly used escape characters in Python:\n",
        "\n",
        "* \\n : Represents a new line character.\n",
        "* \\t : Represents a tab character.\n",
        "* \\\": Represents a double quote character.\n",
        "* \\' : Represents a single quote character."
      ]
    },
    {
      "cell_type": "code",
      "execution_count": 19,
      "metadata": {
        "colab": {
          "base_uri": "https://localhost:8080/"
        },
        "id": "6gFy5DtAKxO2",
        "outputId": "d67a4e3e-3480-4208-8795-88876d167fe2"
      },
      "outputs": [
        {
          "name": "stdout",
          "output_type": "stream",
          "text": [
            "Your name is Mani\n"
          ]
        }
      ],
      "source": [
        "name = input(\"What's your name? \")\n",
        "\n",
        "print(\"Your name is \" + name)"
      ]
    },
    {
      "cell_type": "code",
      "execution_count": 20,
      "metadata": {
        "colab": {
          "base_uri": "https://localhost:8080/"
        },
        "id": "heoN7D2SLD5N",
        "outputId": "2afccd76-4deb-4be5-af23-ab2c96a8c825"
      },
      "outputs": [
        {
          "name": "stdout",
          "output_type": "stream",
          "text": [
            "What's your information about something called \"AI\"\n"
          ]
        }
      ],
      "source": [
        "print('What\\'s your information about something called \\\"AI\\\"')"
      ]
    },
    {
      "cell_type": "code",
      "execution_count": 21,
      "metadata": {
        "colab": {
          "base_uri": "https://localhost:8080/"
        },
        "id": "3XA_ji4rLiHe",
        "outputId": "1679e868-7abe-4512-bba9-d0b4ffd6f591"
      },
      "outputs": [
        {
          "name": "stdout",
          "output_type": "stream",
          "text": [
            "Name: Ali\n",
            "Family name: Mohamadi\n"
          ]
        }
      ],
      "source": [
        "# new line\n",
        "print('Name: Ali\\nFamily name: Mohamadi')"
      ]
    },
    {
      "cell_type": "code",
      "execution_count": 22,
      "metadata": {
        "colab": {
          "base_uri": "https://localhost:8080/"
        },
        "id": "JETuW_v7L8fB",
        "outputId": "23b2f58a-10d5-4380-9986-edbf7caff478"
      },
      "outputs": [
        {
          "name": "stdout",
          "output_type": "stream",
          "text": [
            "\tHello\n"
          ]
        }
      ],
      "source": [
        "# tab\n",
        "print('\\tHello')"
      ]
    },
    {
      "cell_type": "code",
      "execution_count": 23,
      "metadata": {
        "colab": {
          "base_uri": "https://localhost:8080/"
        },
        "id": "s0xQmnKuFJJL",
        "outputId": "bf1522ac-db6b-4687-ba17-464a02894534"
      },
      "outputs": [
        {
          "name": "stdout",
          "output_type": "stream",
          "text": [
            "Your name is Ali\n"
          ]
        }
      ],
      "source": [
        "name = input('What is your name? ')\n",
        "\n",
        "print(\"Your name is \" + name)"
      ]
    },
    {
      "attachments": {},
      "cell_type": "markdown",
      "metadata": {},
      "source": [
        "## String slicing"
      ]
    },
    {
      "attachments": {},
      "cell_type": "markdown",
      "metadata": {},
      "source": [
        "String slicing in Python is a way to extract a subset of characters from a string. It allows you to create a new string by selecting a portion of the original string, which is known as a substring.\n",
        "\n",
        "The syntax for string slicing in Python is as follows:\n",
        "\n",
        "`string[start:stop:step]`\n",
        "\n",
        "* `start`: The starting index of the slice. If not specified, the slice starts from the beginning of the string.\n",
        "* `stop`: The ending index of the slice. If not specified, the slice goes to the end of the string.\n",
        "* `stop`: The step size for the slice. If not specified, the step size is 1."
      ]
    },
    {
      "cell_type": "code",
      "execution_count": 39,
      "metadata": {
        "colab": {
          "base_uri": "https://localhost:8080/",
          "height": 36
        },
        "id": "4nZepmwOIa3D",
        "outputId": "1f147487-b811-4b20-fca8-afbf3146da79"
      },
      "outputs": [
        {
          "data": {
            "application/vnd.google.colaboratory.intrinsic+json": {
              "type": "string"
            },
            "text/plain": [
              "'Artificial Intelligence'"
            ]
          },
          "execution_count": 39,
          "metadata": {},
          "output_type": "execute_result"
        }
      ],
      "source": [
        "info = \"Artificial Intelligence\"\n",
        "info"
      ]
    },
    {
      "cell_type": "code",
      "execution_count": 40,
      "metadata": {
        "colab": {
          "base_uri": "https://localhost:8080/",
          "height": 36
        },
        "id": "TXQS8wAvPMfc",
        "outputId": "f2e4dc1d-69bf-4b27-c09a-b3e8500540fe"
      },
      "outputs": [
        {
          "data": {
            "application/vnd.google.colaboratory.intrinsic+json": {
              "type": "string"
            },
            "text/plain": [
              "'I'"
            ]
          },
          "execution_count": 40,
          "metadata": {},
          "output_type": "execute_result"
        }
      ],
      "source": [
        "info[11]"
      ]
    },
    {
      "cell_type": "code",
      "execution_count": 41,
      "metadata": {
        "colab": {
          "base_uri": "https://localhost:8080/",
          "height": 36
        },
        "id": "hKRusjAdPXwF",
        "outputId": "a008b9eb-0634-47a9-93f4-7962d9bce582"
      },
      "outputs": [
        {
          "data": {
            "application/vnd.google.colaboratory.intrinsic+json": {
              "type": "string"
            },
            "text/plain": [
              "'Artificial '"
            ]
          },
          "execution_count": 41,
          "metadata": {},
          "output_type": "execute_result"
        }
      ],
      "source": [
        "info[:11]"
      ]
    },
    {
      "cell_type": "code",
      "execution_count": 42,
      "metadata": {
        "colab": {
          "base_uri": "https://localhost:8080/",
          "height": 36
        },
        "id": "vxRe8XnBPckh",
        "outputId": "8f898954-9b26-4648-8442-b5ae2916ab74"
      },
      "outputs": [
        {
          "data": {
            "application/vnd.google.colaboratory.intrinsic+json": {
              "type": "string"
            },
            "text/plain": [
              "'icial Intelligence'"
            ]
          },
          "execution_count": 42,
          "metadata": {},
          "output_type": "execute_result"
        }
      ],
      "source": [
        "info[5:]"
      ]
    },
    {
      "attachments": {},
      "cell_type": "markdown",
      "metadata": {
        "id": "Zd9lyFuGPqyO"
      },
      "source": [
        "> When slicing a string in Python, the ending index that you specify is exclusive, which means that the character at that index is not included in the resulting substring."
      ]
    },
    {
      "cell_type": "code",
      "execution_count": 43,
      "metadata": {
        "colab": {
          "base_uri": "https://localhost:8080/",
          "height": 36
        },
        "id": "wnzkQZ2yPhBT",
        "outputId": "46ec51cb-639b-4aa5-d670-9eb13ed33ec8"
      },
      "outputs": [
        {
          "data": {
            "application/vnd.google.colaboratory.intrinsic+json": {
              "type": "string"
            },
            "text/plain": [
              "'ificial'"
            ]
          },
          "execution_count": 43,
          "metadata": {},
          "output_type": "execute_result"
        }
      ],
      "source": [
        "info[3:10]"
      ]
    },
    {
      "cell_type": "code",
      "execution_count": 48,
      "metadata": {
        "colab": {
          "base_uri": "https://localhost:8080/",
          "height": 36
        },
        "id": "Ilowmhq5PomO",
        "outputId": "23e471e5-3a30-42c8-ebad-78a0d8611b2c"
      },
      "outputs": [
        {
          "data": {
            "application/vnd.google.colaboratory.intrinsic+json": {
              "type": "string"
            },
            "text/plain": [
              "'iiil'"
            ]
          },
          "execution_count": 48,
          "metadata": {},
          "output_type": "execute_result"
        }
      ],
      "source": [
        "info[3:10:2]"
      ]
    },
    {
      "cell_type": "code",
      "execution_count": 49,
      "metadata": {
        "colab": {
          "base_uri": "https://localhost:8080/"
        },
        "id": "yP_m4Hr3QcZi",
        "outputId": "2e76a10b-dacd-483a-b7ac-43909501a023"
      },
      "outputs": [
        {
          "data": {
            "text/plain": [
              "23"
            ]
          },
          "execution_count": 49,
          "metadata": {},
          "output_type": "execute_result"
        }
      ],
      "source": [
        "len(info)"
      ]
    },
    {
      "cell_type": "code",
      "execution_count": 50,
      "metadata": {
        "colab": {
          "base_uri": "https://localhost:8080/",
          "height": 36
        },
        "id": "X33TR9VERGSQ",
        "outputId": "781e29c2-507c-4522-e640-2b10d8b37214"
      },
      "outputs": [
        {
          "data": {
            "application/vnd.google.colaboratory.intrinsic+json": {
              "type": "string"
            },
            "text/plain": [
              "' Intelligenc'"
            ]
          },
          "execution_count": 50,
          "metadata": {},
          "output_type": "execute_result"
        }
      ],
      "source": [
        "info[10:len(info)-1]"
      ]
    },
    {
      "attachments": {},
      "cell_type": "markdown",
      "metadata": {},
      "source": [
        "the expression `len(info)-1` gives us the index of the second-to-last character of the string. By specifying this value as the ending index of the slice, we ensure that the last character of the string is excluded from the resulting substring."
      ]
    },
    {
      "attachments": {},
      "cell_type": "markdown",
      "metadata": {},
      "source": [
        "Therefore, `info[10:len(info)-1]` extracts a substring that starts from the 11th character of the `info` string and goes up to, but does not include, the last character of the string."
      ]
    },
    {
      "cell_type": "code",
      "execution_count": 51,
      "metadata": {
        "colab": {
          "base_uri": "https://localhost:8080/",
          "height": 36
        },
        "id": "Kvss5g5gRu0v",
        "outputId": "a24e5a88-0d69-4ab3-c8d8-4251d20dad18"
      },
      "outputs": [
        {
          "data": {
            "application/vnd.google.colaboratory.intrinsic+json": {
              "type": "string"
            },
            "text/plain": [
              "' Intelligenc'"
            ]
          },
          "execution_count": 51,
          "metadata": {},
          "output_type": "execute_result"
        }
      ],
      "source": [
        "info[10:-1]"
      ]
    },
    {
      "cell_type": "code",
      "execution_count": 52,
      "metadata": {
        "colab": {
          "base_uri": "https://localhost:8080/",
          "height": 36
        },
        "id": "kaq2JtRaR3ml",
        "outputId": "8f7a1f29-22c9-4021-b5ed-f306fcc5860a"
      },
      "outputs": [
        {
          "data": {
            "application/vnd.google.colaboratory.intrinsic+json": {
              "type": "string"
            },
            "text/plain": [
              "'gence'"
            ]
          },
          "execution_count": 52,
          "metadata": {},
          "output_type": "execute_result"
        }
      ],
      "source": [
        "info[-5:]"
      ]
    },
    {
      "attachments": {},
      "cell_type": "markdown",
      "metadata": {
        "id": "JPCLVaS8T_TO"
      },
      "source": [
        "In Python, `string.count(substring)` is a built-in function that returns the number of non-overlapping occurrences of the `substring` within the `string`."
      ]
    },
    {
      "cell_type": "code",
      "execution_count": 58,
      "metadata": {
        "colab": {
          "base_uri": "https://localhost:8080/"
        },
        "id": "ev1du30vSg6e",
        "outputId": "5b204441-713e-4bef-d307-26b0dc468bc0"
      },
      "outputs": [
        {
          "name": "stdout",
          "output_type": "stream",
          "text": [
            "2\n"
          ]
        }
      ],
      "source": [
        "txt = \"I love apples, apple are my favorite fruit, and I also like oranges\"\n",
        "\n",
        "x = txt.count(\"apple\")\n",
        "\n",
        "print(x)"
      ]
    },
    {
      "attachments": {},
      "cell_type": "markdown",
      "metadata": {},
      "source": [
        "In Python, `string.find(substring)` returns the index of the first occurrence of the `substring` within the `string`, or -1 if the `substring` is not found."
      ]
    },
    {
      "cell_type": "code",
      "execution_count": 66,
      "metadata": {
        "colab": {
          "base_uri": "https://localhost:8080/"
        },
        "id": "hrqLMNnBUUl_",
        "outputId": "c295de4a-13cf-4ff3-88fa-358d24aaec96"
      },
      "outputs": [
        {
          "name": "stdout",
          "output_type": "stream",
          "text": [
            "7\n"
          ]
        }
      ],
      "source": [
        "txt = \"Hello, welcome to my world.\"\n",
        "\n",
        "x = txt.find(\"w\")\n",
        "\n",
        "print(x)"
      ]
    },
    {
      "attachments": {},
      "cell_type": "markdown",
      "metadata": {},
      "source": [
        "`string.index(substring, [start, [end]])` returns the index of the first occurrence of the `substring` within the `string`. If the `substring` is not found, the function raises a `ValueError` exception."
      ]
    },
    {
      "cell_type": "code",
      "execution_count": 70,
      "metadata": {
        "colab": {
          "base_uri": "https://localhost:8080/"
        },
        "id": "aeTKPMaWTc7x",
        "outputId": "672417f0-1528-4a8c-d111-4c80b22e9ec2"
      },
      "outputs": [
        {
          "name": "stdout",
          "output_type": "stream",
          "text": [
            "21\n"
          ]
        }
      ],
      "source": [
        "txt = \"Hello, welcome to my world.\"\n",
        "\n",
        "x = txt.index(\"w\", 8)\n",
        "\n",
        "print(x)"
      ]
    },
    {
      "cell_type": "code",
      "execution_count": 72,
      "metadata": {
        "colab": {
          "base_uri": "https://localhost:8080/",
          "height": 242
        },
        "id": "qCfNwfNRUyRe",
        "outputId": "633540dc-fb73-4b68-9f89-31d9edb0e28b"
      },
      "outputs": [
        {
          "ename": "ValueError",
          "evalue": "ignored",
          "output_type": "error",
          "traceback": [
            "\u001b[0;31m---------------------------------------------------------------------------\u001b[0m",
            "\u001b[0;31mValueError\u001b[0m                                Traceback (most recent call last)",
            "\u001b[0;32m<ipython-input-72-7a520501f6ee>\u001b[0m in \u001b[0;36m<module>\u001b[0;34m\u001b[0m\n\u001b[1;32m      1\u001b[0m \u001b[0mtxt\u001b[0m \u001b[0;34m=\u001b[0m \u001b[0;34m\"Hello, welcome to my world.\"\u001b[0m\u001b[0;34m\u001b[0m\u001b[0;34m\u001b[0m\u001b[0m\n\u001b[1;32m      2\u001b[0m \u001b[0;34m\u001b[0m\u001b[0m\n\u001b[0;32m----> 3\u001b[0;31m \u001b[0mx\u001b[0m \u001b[0;34m=\u001b[0m \u001b[0mtxt\u001b[0m\u001b[0;34m.\u001b[0m\u001b[0mindex\u001b[0m\u001b[0;34m(\u001b[0m\u001b[0;34m\"w\"\u001b[0m\u001b[0;34m,\u001b[0m \u001b[0;36m8\u001b[0m\u001b[0;34m,\u001b[0m \u001b[0;36m19\u001b[0m\u001b[0;34m)\u001b[0m\u001b[0;34m\u001b[0m\u001b[0;34m\u001b[0m\u001b[0m\n\u001b[0m\u001b[1;32m      4\u001b[0m \u001b[0;34m\u001b[0m\u001b[0m\n\u001b[1;32m      5\u001b[0m \u001b[0mprint\u001b[0m\u001b[0;34m(\u001b[0m\u001b[0mx\u001b[0m\u001b[0;34m)\u001b[0m\u001b[0;34m\u001b[0m\u001b[0;34m\u001b[0m\u001b[0m\n",
            "\u001b[0;31mValueError\u001b[0m: substring not found"
          ]
        }
      ],
      "source": [
        "txt = \"Hello, welcome to my world.\"\n",
        "\n",
        "x = txt.index(\"w\", 8, 19)\n",
        "\n",
        "print(x)"
      ]
    },
    {
      "cell_type": "code",
      "execution_count": 89,
      "metadata": {
        "colab": {
          "base_uri": "https://localhost:8080/",
          "height": 278
        },
        "id": "LI5LKxVWWpYc",
        "outputId": "4476677d-3836-4bab-8b94-d01892364baa"
      },
      "outputs": [
        {
          "name": "stdout",
          "output_type": "stream",
          "text": [
            "What's your name? Peyman\n",
            "What year have you born? 1998\n"
          ]
        },
        {
          "ename": "TypeError",
          "evalue": "ignored",
          "output_type": "error",
          "traceback": [
            "\u001b[0;31m---------------------------------------------------------------------------\u001b[0m",
            "\u001b[0;31mTypeError\u001b[0m                                 Traceback (most recent call last)",
            "\u001b[0;32m<ipython-input-89-abb803564443>\u001b[0m in \u001b[0;36m<module>\u001b[0;34m\u001b[0m\n\u001b[1;32m      2\u001b[0m \u001b[0mbirth_year\u001b[0m \u001b[0;34m=\u001b[0m \u001b[0minput\u001b[0m\u001b[0;34m(\u001b[0m\u001b[0;34m\"What year have you born? \"\u001b[0m\u001b[0;34m)\u001b[0m\u001b[0;34m\u001b[0m\u001b[0;34m\u001b[0m\u001b[0m\n\u001b[1;32m      3\u001b[0m \u001b[0;34m\u001b[0m\u001b[0m\n\u001b[0;32m----> 4\u001b[0;31m \u001b[0mage\u001b[0m \u001b[0;34m=\u001b[0m \u001b[0;36m2023\u001b[0m \u001b[0;34m-\u001b[0m \u001b[0mbirth_year\u001b[0m\u001b[0;34m\u001b[0m\u001b[0;34m\u001b[0m\u001b[0m\n\u001b[0m\u001b[1;32m      5\u001b[0m \u001b[0;34m\u001b[0m\u001b[0m\n\u001b[1;32m      6\u001b[0m \u001b[0mprint\u001b[0m\u001b[0;34m(\u001b[0m\u001b[0;34mf\"Hello {name} you are {age} years old.\"\u001b[0m\u001b[0;34m)\u001b[0m\u001b[0;34m\u001b[0m\u001b[0;34m\u001b[0m\u001b[0m\n",
            "\u001b[0;31mTypeError\u001b[0m: unsupported operand type(s) for -: 'int' and 'str'"
          ]
        }
      ],
      "source": [
        "name = input(\"What's your name? \")\n",
        "birth_year = input(\"What year have you born? \")\n",
        "\n",
        "age = 2023 - birth_year\n",
        "\n",
        "print(f\"Hello {name} you are {age} years old.\")"
      ]
    },
    {
      "attachments": {},
      "cell_type": "markdown",
      "metadata": {
        "id": "fwalRaIpZBzn"
      },
      "source": [
        "> I want to suggest two ways to identify a bug in your code: Firstly, try searching for the issue on Google, and secondly, consider running each line of your code one by one to pinpoint the problem."
      ]
    },
    {
      "cell_type": "code",
      "execution_count": 82,
      "metadata": {
        "colab": {
          "base_uri": "https://localhost:8080/",
          "height": 54
        },
        "id": "cOgn03rFXI67",
        "outputId": "2c86ae5c-d597-407c-a116-0b230b0537ad"
      },
      "outputs": [
        {
          "name": "stdout",
          "output_type": "stream",
          "text": [
            "What's your name? Peyman\n"
          ]
        },
        {
          "data": {
            "application/vnd.google.colaboratory.intrinsic+json": {
              "type": "string"
            },
            "text/plain": [
              "'Peyman'"
            ]
          },
          "execution_count": 82,
          "metadata": {},
          "output_type": "execute_result"
        }
      ],
      "source": [
        "name = input(\"What's your name? \")\n",
        "name"
      ]
    },
    {
      "cell_type": "code",
      "execution_count": 83,
      "metadata": {
        "colab": {
          "base_uri": "https://localhost:8080/"
        },
        "id": "qSqjWCo2X-Zt",
        "outputId": "6a7489ca-a83e-4b6c-ad43-1a02c8626446"
      },
      "outputs": [
        {
          "name": "stdout",
          "output_type": "stream",
          "text": [
            "What year have you born? 1998\n"
          ]
        }
      ],
      "source": [
        "birth_year = input(\"What year have you born? \")"
      ]
    },
    {
      "cell_type": "code",
      "execution_count": 87,
      "metadata": {
        "colab": {
          "base_uri": "https://localhost:8080/"
        },
        "id": "JsDOPwz1YAaI",
        "outputId": "3d068fb9-52a1-4817-94c7-1cdc60c932b7"
      },
      "outputs": [
        {
          "data": {
            "text/plain": [
              "1998"
            ]
          },
          "execution_count": 87,
          "metadata": {},
          "output_type": "execute_result"
        }
      ],
      "source": [
        "int(birth_year)"
      ]
    },
    {
      "cell_type": "code",
      "execution_count": 86,
      "metadata": {
        "colab": {
          "base_uri": "https://localhost:8080/"
        },
        "id": "bx7SXwFYYI_8",
        "outputId": "bdab26d7-889e-42f1-d7f4-58af185d0a81"
      },
      "outputs": [
        {
          "data": {
            "text/plain": [
              "int"
            ]
          },
          "execution_count": 86,
          "metadata": {},
          "output_type": "execute_result"
        }
      ],
      "source": [
        "type(2023)"
      ]
    },
    {
      "cell_type": "code",
      "execution_count": 24,
      "metadata": {
        "colab": {
          "base_uri": "https://localhost:8080/"
        },
        "id": "RCRfUlK5YUe0",
        "outputId": "bf3f081a-6710-42e2-f5b6-5238e311e553"
      },
      "outputs": [
        {
          "name": "stdout",
          "output_type": "stream",
          "text": [
            "Hello Zahra you are 33 years old.\n"
          ]
        }
      ],
      "source": [
        "# Problem solved\n",
        "name = input(\"What's your name? \")\n",
        "birth_year = input(\"What year have you born? \")\n",
        "\n",
        "age = 2023 - int(birth_year)\n",
        "\n",
        "print(f\"Hello {name} you are {age} years old.\")"
      ]
    }
  ],
  "metadata": {
    "colab": {
      "authorship_tag": "ABX9TyPpZ/AteYnXHUvqn76DQWSB",
      "include_colab_link": true,
      "provenance": []
    },
    "kernelspec": {
      "display_name": "Python 3",
      "language": "python",
      "name": "python3"
    },
    "language_info": {
      "codemirror_mode": {
        "name": "ipython",
        "version": 3
      },
      "file_extension": ".py",
      "mimetype": "text/x-python",
      "name": "python",
      "nbconvert_exporter": "python",
      "pygments_lexer": "ipython3",
      "version": "3.10.4"
    },
    "vscode": {
      "interpreter": {
        "hash": "07c247fe3a736345d308ba4028244f3c76153012aafab2c4bdb1bf04924eb06e"
      }
    }
  },
  "nbformat": 4,
  "nbformat_minor": 0
}
