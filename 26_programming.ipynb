{
  "nbformat": 4,
  "nbformat_minor": 0,
  "metadata": {
    "colab": {
      "provenance": [],
      "authorship_tag": "ABX9TyPvNEfAILDuVICu+JVaJpYf",
      "include_colab_link": true
    },
    "kernelspec": {
      "name": "python3",
      "display_name": "Python 3"
    },
    "language_info": {
      "name": "python"
    }
  },
  "cells": [
    {
      "cell_type": "markdown",
      "metadata": {
        "id": "view-in-github",
        "colab_type": "text"
      },
      "source": [
        "<a href=\"https://colab.research.google.com/github/heispv/programming-feb2023/blob/master/26_programming.ipynb\" target=\"_parent\"><img src=\"https://colab.research.google.com/assets/colab-badge.svg\" alt=\"Open In Colab\"/></a>"
      ]
    },
    {
      "cell_type": "code",
      "execution_count": 1,
      "metadata": {
        "id": "uiiRmsZXBRm6"
      },
      "outputs": [],
      "source": [
        "import numpy as np"
      ]
    },
    {
      "cell_type": "code",
      "source": [
        "my_array = np.array([1, 2, 3])"
      ],
      "metadata": {
        "id": "f1491eQ0BYl3"
      },
      "execution_count": 2,
      "outputs": []
    },
    {
      "cell_type": "code",
      "source": [
        "my_array.ndim"
      ],
      "metadata": {
        "colab": {
          "base_uri": "https://localhost:8080/"
        },
        "id": "Rmjv3iSBBjS6",
        "outputId": "c312e9e1-b0b5-431b-ef52-89f0401a11c0"
      },
      "execution_count": 3,
      "outputs": [
        {
          "output_type": "execute_result",
          "data": {
            "text/plain": [
              "1"
            ]
          },
          "metadata": {},
          "execution_count": 3
        }
      ]
    },
    {
      "cell_type": "code",
      "source": [
        "my_array.shape"
      ],
      "metadata": {
        "colab": {
          "base_uri": "https://localhost:8080/"
        },
        "id": "K07CmiV6BnCv",
        "outputId": "c768fe47-17a6-415a-db33-70223f5898e7"
      },
      "execution_count": 4,
      "outputs": [
        {
          "output_type": "execute_result",
          "data": {
            "text/plain": [
              "(3,)"
            ]
          },
          "metadata": {},
          "execution_count": 4
        }
      ]
    },
    {
      "cell_type": "code",
      "source": [
        "my_array_2 = np.array([[1, 2, 3], [10, 20, 30]])"
      ],
      "metadata": {
        "id": "OpmLHrSXBqdT"
      },
      "execution_count": 5,
      "outputs": []
    },
    {
      "cell_type": "code",
      "source": [
        "my_array_2"
      ],
      "metadata": {
        "colab": {
          "base_uri": "https://localhost:8080/"
        },
        "id": "0f4O3W_YB6an",
        "outputId": "71f8db5c-9e06-4039-c48f-ee72152ae5c5"
      },
      "execution_count": 6,
      "outputs": [
        {
          "output_type": "execute_result",
          "data": {
            "text/plain": [
              "array([[ 1,  2,  3],\n",
              "       [10, 20, 30]])"
            ]
          },
          "metadata": {},
          "execution_count": 6
        }
      ]
    },
    {
      "cell_type": "code",
      "source": [
        "my_array_2.ndim"
      ],
      "metadata": {
        "colab": {
          "base_uri": "https://localhost:8080/"
        },
        "id": "NZpMA0I0B7M9",
        "outputId": "31d4db5f-2b71-4ef0-def4-c1823b2d9b51"
      },
      "execution_count": 7,
      "outputs": [
        {
          "output_type": "execute_result",
          "data": {
            "text/plain": [
              "2"
            ]
          },
          "metadata": {},
          "execution_count": 7
        }
      ]
    },
    {
      "cell_type": "code",
      "source": [
        "my_array_2.shape"
      ],
      "metadata": {
        "colab": {
          "base_uri": "https://localhost:8080/"
        },
        "id": "cN9aC3gbB9jk",
        "outputId": "13fc4c2d-41e9-47a9-f061-e1293bbdcb5e"
      },
      "execution_count": 8,
      "outputs": [
        {
          "output_type": "execute_result",
          "data": {
            "text/plain": [
              "(2, 3)"
            ]
          },
          "metadata": {},
          "execution_count": 8
        }
      ]
    },
    {
      "cell_type": "code",
      "source": [
        "my_array_2[1, 1]"
      ],
      "metadata": {
        "colab": {
          "base_uri": "https://localhost:8080/"
        },
        "id": "xTPXyDMJCAbi",
        "outputId": "01e1c020-621b-4964-a883-1abb5effdf2b"
      },
      "execution_count": 10,
      "outputs": [
        {
          "output_type": "execute_result",
          "data": {
            "text/plain": [
              "20"
            ]
          },
          "metadata": {},
          "execution_count": 10
        }
      ]
    },
    {
      "cell_type": "markdown",
      "source": [
        "* biaim va baham matplotlib ro moroor bokonim."
      ],
      "metadata": {
        "id": "rv4LCgmWEZuf"
      }
    },
    {
      "cell_type": "code",
      "source": [
        "x = np.array([1, 2, 3, 5, 10, 20])\n",
        "y = np.array([1, 4, 20, 10, 40, 50])"
      ],
      "metadata": {
        "id": "bfxsP-g4CTDo"
      },
      "execution_count": 20,
      "outputs": []
    },
    {
      "cell_type": "code",
      "source": [
        "if len(x) == len(y):\n",
        "    print('Meghdar ha baham barabar hastand.')\n",
        "else:\n",
        "    print('Meghdar ha barabar nistand.')"
      ],
      "metadata": {
        "colab": {
          "base_uri": "https://localhost:8080/"
        },
        "id": "phx5DnBhC7Yn",
        "outputId": "2d0d5071-85f7-4d08-e0b3-513b3506887c"
      },
      "execution_count": 22,
      "outputs": [
        {
          "output_type": "stream",
          "name": "stdout",
          "text": [
            "Meghdar ha baham barabar hastand.\n"
          ]
        }
      ]
    },
    {
      "cell_type": "code",
      "source": [
        "import matplotlib.pyplot as plt"
      ],
      "metadata": {
        "id": "3zf3pcqnC9fo"
      },
      "execution_count": 23,
      "outputs": []
    },
    {
      "cell_type": "code",
      "source": [
        "plt.plot(x, y)"
      ],
      "metadata": {
        "colab": {
          "base_uri": "https://localhost:8080/",
          "height": 447
        },
        "id": "ho2rTxsSENY2",
        "outputId": "a65d1f5f-9272-4b1b-aaed-692f73c7b44a"
      },
      "execution_count": 24,
      "outputs": [
        {
          "output_type": "execute_result",
          "data": {
            "text/plain": [
              "[<matplotlib.lines.Line2D at 0x79433cbb7700>]"
            ]
          },
          "metadata": {},
          "execution_count": 24
        },
        {
          "output_type": "display_data",
          "data": {
            "text/plain": [
              "<Figure size 640x480 with 1 Axes>"
            ],
            "image/png": "[encoded data removed]"
          },
          "metadata": {}
        }
      ]
    },
    {
      "cell_type": "markdown",
      "source": [
        "## exercise:\n",
        "mikhaim kolle 3 cell bala ro tabdil be yek function bokonim, va agar x va y baham barabar naboodand, bayad biad va be ma bege ke baham barabar nistand, pas nemitoonam baraye shoma nemoodar ro rasm bokonam."
      ],
      "metadata": {
        "id": "ZHGDesM1Es8V"
      }
    },
    {
      "cell_type": "code",
      "source": [
        "def rasm_kon(x, y):\n",
        "    if len(x) != len(y):\n",
        "        print('[Error] Andazeye x va y barabar nistand\\n\\n* Nemitoonim nemoodar ro rasm konim.')\n",
        "    else:\n",
        "        plt.figure(figsize=(8, 4))\n",
        "        plt.plot(x, y, 'o:r')\n",
        "        plt.title('X vs Y')\n",
        "        plt.xlabel('X')\n",
        "        plt.ylabel('Y')\n",
        "        plt.grid()\n",
        "        plt.show()"
      ],
      "metadata": {
        "id": "Nb3L3oTJEsbX"
      },
      "execution_count": 38,
      "outputs": []
    },
    {
      "cell_type": "code",
      "source": [
        "rasm_kon([1, 2, 4, 5, 6, 10], [10, 20, 21, 18, 9, 30])"
      ],
      "metadata": {
        "colab": {
          "base_uri": "https://localhost:8080/",
          "height": 410
        },
        "id": "8oo1tLsbEPZR",
        "outputId": "32bdd60c-507a-4d30-d746-2319a48443c8"
      },
      "execution_count": 41,
      "outputs": [
        {
          "output_type": "display_data",
          "data": {
            "text/plain": [
              "<Figure size 800x400 with 1 Axes>"
            ],
            "image/png": "[encoded data removed]"
          },
          "metadata": {}
        }
      ]
    },
    {
      "cell_type": "code",
      "source": [
        "def rasm_kon_2(x, y):\n",
        "    if len(x) != len(y):\n",
        "        print('[Error] Andazeye x va y barabar nistand\\n\\n* Nemitoonim nemoodar ro rasm konim.')\n",
        "    else:\n",
        "        plt.figure(figsize=(11, 4))\n",
        "\n",
        "        plt.subplot(1, 2, 1)\n",
        "        plt.plot(x, y, 'o:r')\n",
        "        plt.title('X vs Y')\n",
        "        plt.xlabel('X')\n",
        "        plt.ylabel('Y')\n",
        "        plt.grid()\n",
        "\n",
        "        plt.subplot(1, 2, 2)\n",
        "        plt.plot(y, x, 'o-b')\n",
        "        plt.title('Y vs X')\n",
        "        plt.xlabel('Y')\n",
        "        plt.ylabel('X')\n",
        "\n",
        "        plt.show()"
      ],
      "metadata": {
        "id": "6VI2IhEzGUQJ"
      },
      "execution_count": 44,
      "outputs": []
    },
    {
      "cell_type": "code",
      "source": [
        "rasm_kon_2([1, 2, 4, 5, 6, 10], [10, 20, 21, 18, 9, 30])"
      ],
      "metadata": {
        "colab": {
          "base_uri": "https://localhost:8080/",
          "height": 410
        },
        "id": "6x9DLYJtIZ2n",
        "outputId": "cc644932-9690-43f0-83b0-826b97d9748a"
      },
      "execution_count": 48,
      "outputs": [
        {
          "output_type": "display_data",
          "data": {
            "text/plain": [
              "<Figure size 1100x400 with 2 Axes>"
            ],
            "image/png": "[encoded data removed]"
          },
          "metadata": {}
        }
      ]
    },
    {
      "cell_type": "code",
      "source": [
        "def my_pie_chart():\n",
        "    label_input = input('Label haye morede nazare khod ra vared konid.\\n* ba whitespace label haro joda konid.\\nex) moz khiar hulu sib goje\\nLable ha ro vared konid: ')\n",
        "    label_list = label_input.split()\n",
        "\n",
        "    print('-------------------------------------------------')\n",
        "    print()\n",
        "    print(f'{len(label_list)} ta label ro vared kardid. Hala bayad darsad haye motenazer ba har label ro vared konid')\n",
        "\n",
        "    percent_input = input('ex) 20 40 10\\n* Agar majmoo darsad ha barabar ba 100 nabashe automatic darsad oona hesab mishe.\\nDarsad haro vared konid: ')\n",
        "    percent_list = percent_input.split()\n",
        "    percent_list_float = [float(x) for x in percent_list]\n",
        "\n",
        "    if len(label_list) != len(percent_list):\n",
        "        print('\\n!!! Tedade label ha ba darsad ha barabar nistand. nemoodar ro nemitoonim rasm bokonim.')\n",
        "    else:\n",
        "        plt.figure(figsize=(4, 4))\n",
        "        plt.pie(percent_list_float, labels=label_list)\n",
        "        plt.show()"
      ],
      "metadata": {
        "id": "n4v-i8BmIc5T"
      },
      "execution_count": 83,
      "outputs": []
    },
    {
      "cell_type": "markdown",
      "source": [
        "> be komake dota cell e pain mitoonim dakhele list emoon becharkhim va rooye har object esh yek operation ro anjam bedim va khurji ro dar yek moteghayer zakhire bokonim."
      ],
      "metadata": {
        "id": "D5suRTWcPrvi"
      }
    },
    {
      "cell_type": "code",
      "source": [
        "percent_list_float = [float(x) for x in percent_list]"
      ],
      "metadata": {
        "id": "x4OGhfk1OeZl"
      },
      "execution_count": 72,
      "outputs": []
    },
    {
      "cell_type": "code",
      "source": [
        "float_list = []\n",
        "\n",
        "for x in percent_list:\n",
        "    float_list.append(float(x))"
      ],
      "metadata": {
        "id": "ClQgqIxTPZ-g"
      },
      "execution_count": 74,
      "outputs": []
    },
    {
      "cell_type": "markdown",
      "source": [
        "> hala az function emoon estefade konim"
      ],
      "metadata": {
        "id": "_EA3W00WPXk7"
      }
    },
    {
      "cell_type": "code",
      "source": [
        "my_pie_chart()"
      ],
      "metadata": {
        "colab": {
          "base_uri": "https://localhost:8080/",
          "height": 519
        },
        "id": "Ch9BI_xuRQM5",
        "outputId": "7a14b899-8090-4982-df38-caa5ea18e881"
      },
      "execution_count": 85,
      "outputs": [
        {
          "name": "stdout",
          "output_type": "stream",
          "text": [
            "Label haye morede nazare khod ra vared konid.\n",
            "* ba whitespace label haro joda konid.\n",
            "ex) moz khiar hulu sib goje\n",
            "Lable ha ro vared konid: khiar goje hulu\n",
            "-------------------------------------------------\n",
            "\n",
            "3 ta label ro vared kardid. Hala bayad darsad haye motenazer ba har label ro vared konid\n",
            "ex) 20 40 10\n",
            "* Agar majmoo darsad ha barabar ba 100 nabashe automatic darsad oona hesab mishe.\n",
            "Darsad haro vared konid: 25 25 50\n"
          ]
        },
        {
          "output_type": "display_data",
          "data": {
            "text/plain": [
              "<Figure size 400x400 with 1 Axes>"
            ],
            "image/png": "[encoded data removed]"
          },
          "metadata": {}
        }
      ]
    }
  ]
}