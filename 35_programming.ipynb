{
  "nbformat": 4,
  "nbformat_minor": 0,
  "metadata": {
    "colab": {
      "provenance": [],
      "authorship_tag": "ABX9TyNt/sSXwx255AidlbBy7tWF",
      "include_colab_link": true
    },
    "kernelspec": {
      "name": "python3",
      "display_name": "Python 3"
    },
    "language_info": {
      "name": "python"
    }
  },
  "cells": [
    {
      "cell_type": "markdown",
      "metadata": {
        "id": "view-in-github",
        "colab_type": "text"
      },
      "source": [
        "<a href=\"https://colab.research.google.com/github/heispv/programming-feb2023/blob/master/35_programming.ipynb\" target=\"_parent\"><img src=\"https://colab.research.google.com/assets/colab-badge.svg\" alt=\"Open In Colab\"/></a>"
      ]
    },
    {
      "cell_type": "code",
      "execution_count": 1,
      "metadata": {
        "id": "i_1grSvYBV2o"
      },
      "outputs": [],
      "source": [
        "def salam_kon(name):\n",
        "    '''\n",
        "    Miad va behet salam mikone\n",
        "    '''\n",
        "    print(f\"Salam {name}\")"
      ]
    },
    {
      "cell_type": "code",
      "source": [
        "class MyClass:\n",
        "    \"\"\"A simple example class\"\"\"\n",
        "    i = 12345\n",
        "\n",
        "    def f(self):\n",
        "        return 'hello world'"
      ],
      "metadata": {
        "id": "2tG4HqC-BpUt"
      },
      "execution_count": 2,
      "outputs": []
    },
    {
      "cell_type": "code",
      "source": [
        "class Car:\n",
        "\n",
        "    wheel = 4 # class variable\n",
        "\n",
        "    def __init__(self, brand, year):\n",
        "        self.brand = brand # instance variable\n",
        "        self.year = year\n",
        "\n",
        "    def show_info(self):\n",
        "        print(f\"this car is {self.brand} {self.year}\")"
      ],
      "metadata": {
        "id": "uOUFhSZOEh_O"
      },
      "execution_count": 14,
      "outputs": []
    },
    {
      "cell_type": "code",
      "source": [
        "mashin1 = Car(\"Tesla\", 2023)"
      ],
      "metadata": {
        "id": "yVf2IzUQE_kB"
      },
      "execution_count": 15,
      "outputs": []
    },
    {
      "cell_type": "code",
      "source": [
        "mashin1.show_info()"
      ],
      "metadata": {
        "colab": {
          "base_uri": "https://localhost:8080/"
        },
        "id": "B2J7kYfFFDiU",
        "outputId": "75bf5824-cf79-41df-fcf7-a3ae31ac5ce5"
      },
      "execution_count": 16,
      "outputs": [
        {
          "output_type": "stream",
          "name": "stdout",
          "text": [
            "this car is Tesla 2023\n"
          ]
        }
      ]
    },
    {
      "cell_type": "code",
      "source": [
        "mashin1.wheel"
      ],
      "metadata": {
        "colab": {
          "base_uri": "https://localhost:8080/"
        },
        "id": "JPTrBGCaFE9B",
        "outputId": "8aa64cdf-0f9b-4d34-fa0a-f956894ef149"
      },
      "execution_count": 17,
      "outputs": [
        {
          "output_type": "execute_result",
          "data": {
            "text/plain": [
              "4"
            ]
          },
          "metadata": {},
          "execution_count": 17
        }
      ]
    },
    {
      "cell_type": "code",
      "source": [
        "mashin2 = Car(\"Ferrari\", \"F12\")"
      ],
      "metadata": {
        "id": "6yqCZhq2Fmap"
      },
      "execution_count": 18,
      "outputs": []
    },
    {
      "cell_type": "code",
      "source": [
        "mashin2.show_info()"
      ],
      "metadata": {
        "colab": {
          "base_uri": "https://localhost:8080/"
        },
        "id": "W1gqWf55FvbJ",
        "outputId": "63382975-3f2c-43ba-ac9d-7a442855959e"
      },
      "execution_count": 19,
      "outputs": [
        {
          "output_type": "stream",
          "name": "stdout",
          "text": [
            "this car is Ferrari F12\n"
          ]
        }
      ]
    },
    {
      "cell_type": "code",
      "source": [
        "mashin2.wheel"
      ],
      "metadata": {
        "colab": {
          "base_uri": "https://localhost:8080/"
        },
        "id": "L1IyyjByFxM-",
        "outputId": "4f4374ba-0445-442a-cb60-39bf3790bd3f"
      },
      "execution_count": 20,
      "outputs": [
        {
          "output_type": "execute_result",
          "data": {
            "text/plain": [
              "4"
            ]
          },
          "metadata": {},
          "execution_count": 20
        }
      ]
    },
    {
      "cell_type": "code",
      "source": [
        "def balance(initial_balance=0):\n",
        "    print(initial_balance)"
      ],
      "metadata": {
        "id": "tPgglCV0IL2l"
      },
      "execution_count": 32,
      "outputs": []
    },
    {
      "cell_type": "code",
      "source": [
        "balance()"
      ],
      "metadata": {
        "colab": {
          "base_uri": "https://localhost:8080/"
        },
        "id": "7m76o5uaIYVt",
        "outputId": "7694f6f0-c3a0-497f-db69-ac497c68c0c6"
      },
      "execution_count": 33,
      "outputs": [
        {
          "output_type": "stream",
          "name": "stdout",
          "text": [
            "0\n"
          ]
        }
      ]
    },
    {
      "cell_type": "code",
      "source": [
        "class BankAcount:\n",
        "    bank_name = \"Alianz\"\n",
        "\n",
        "    def __init__(self, initial_balance=0):\n",
        "        self.balance = initial_balance"
      ],
      "metadata": {
        "id": "i4U0wnsuFzuJ"
      },
      "execution_count": 40,
      "outputs": []
    },
    {
      "cell_type": "code",
      "source": [
        "peyman = BankAcount()"
      ],
      "metadata": {
        "id": "VJ1VgwQFJykl"
      },
      "execution_count": 41,
      "outputs": []
    },
    {
      "cell_type": "code",
      "source": [
        "Sam = BankAcount(100)"
      ],
      "metadata": {
        "id": "j4WmRjg0J2Ge"
      },
      "execution_count": 42,
      "outputs": []
    },
    {
      "cell_type": "code",
      "source": [
        "Pendar = BankAcount(1000000)"
      ],
      "metadata": {
        "id": "OSNBfhvCJ4t6"
      },
      "execution_count": 43,
      "outputs": []
    },
    {
      "cell_type": "code",
      "source": [
        "peyman.balance"
      ],
      "metadata": {
        "colab": {
          "base_uri": "https://localhost:8080/"
        },
        "id": "mfm4THgRJ8ob",
        "outputId": "926941e5-adc0-4171-d7d3-f928fcae30a5"
      },
      "execution_count": 45,
      "outputs": [
        {
          "output_type": "execute_result",
          "data": {
            "text/plain": [
              "0"
            ]
          },
          "metadata": {},
          "execution_count": 45
        }
      ]
    },
    {
      "cell_type": "code",
      "source": [
        "peyman.balance = 99999999"
      ],
      "metadata": {
        "id": "f4iJuEqeKME1"
      },
      "execution_count": 46,
      "outputs": []
    },
    {
      "cell_type": "code",
      "source": [
        "peyman.balance"
      ],
      "metadata": {
        "colab": {
          "base_uri": "https://localhost:8080/"
        },
        "id": "mPtZvKHKKZH0",
        "outputId": "15e9550f-0f7b-4971-b546-5cf30822a10a"
      },
      "execution_count": 47,
      "outputs": [
        {
          "output_type": "execute_result",
          "data": {
            "text/plain": [
              "99999999"
            ]
          },
          "metadata": {},
          "execution_count": 47
        }
      ]
    },
    {
      "cell_type": "code",
      "source": [
        "class BankAcount:\n",
        "    bank_name = \"Alianz\"\n",
        "\n",
        "    def __init__(self, initial_balance=0):\n",
        "        self.__balance = initial_balance"
      ],
      "metadata": {
        "id": "cNL20-lkKagG"
      },
      "execution_count": 48,
      "outputs": []
    },
    {
      "cell_type": "code",
      "source": [
        "Sam = BankAcount(100)"
      ],
      "metadata": {
        "id": "pD1YrUZ6KeRn"
      },
      "execution_count": 49,
      "outputs": []
    },
    {
      "cell_type": "code",
      "source": [
        "Sam.__balance"
      ],
      "metadata": {
        "colab": {
          "base_uri": "https://localhost:8080/",
          "height": 176
        },
        "id": "WvpBmNJ_KgpD",
        "outputId": "343d17ff-3a56-4e84-d871-16640265370c"
      },
      "execution_count": 50,
      "outputs": [
        {
          "output_type": "error",
          "ename": "AttributeError",
          "evalue": "'BankAcount' object has no attribute '__balance'",
          "traceback": [
            "\u001b[0;31m---------------------------------------------------------------------------\u001b[0m",
            "\u001b[0;31mAttributeError\u001b[0m                            Traceback (most recent call last)",
            "\u001b[0;32m<ipython-input-50-0ebd9cce2203>\u001b[0m in \u001b[0;36m<cell line: 1>\u001b[0;34m()\u001b[0m\n\u001b[0;32m----> 1\u001b[0;31m \u001b[0mSam\u001b[0m\u001b[0;34m.\u001b[0m\u001b[0m__balance\u001b[0m\u001b[0;34m\u001b[0m\u001b[0;34m\u001b[0m\u001b[0m\n\u001b[0m",
            "\u001b[0;31mAttributeError\u001b[0m: 'BankAcount' object has no attribute '__balance'"
          ]
        }
      ]
    },
    {
      "cell_type": "code",
      "source": [
        "class BankAcount:\n",
        "    bank_name = \"Alianz\"\n",
        "\n",
        "    def __init__(self, date, initial_balance=0):\n",
        "        self.__balance = initial_balance # Private attribute\n",
        "        self.date = date\n",
        "\n",
        "    def show_balance(self):\n",
        "        return self.__balance"
      ],
      "metadata": {
        "id": "0GRIcJVjKiTg"
      },
      "execution_count": 51,
      "outputs": []
    },
    {
      "cell_type": "code",
      "source": [
        "Pendar = BankAcount(9999)"
      ],
      "metadata": {
        "id": "PEzfA6YNK2ey"
      },
      "execution_count": 52,
      "outputs": []
    },
    {
      "cell_type": "code",
      "source": [
        "Pendar.show_balance()"
      ],
      "metadata": {
        "colab": {
          "base_uri": "https://localhost:8080/"
        },
        "id": "WBYCExPDK56U",
        "outputId": "896658e6-baf5-43aa-e893-af302d3214c3"
      },
      "execution_count": 55,
      "outputs": [
        {
          "output_type": "execute_result",
          "data": {
            "text/plain": [
              "9999"
            ]
          },
          "metadata": {},
          "execution_count": 55
        }
      ]
    },
    {
      "cell_type": "code",
      "source": [
        "Pendar.bank_name"
      ],
      "metadata": {
        "colab": {
          "base_uri": "https://localhost:8080/",
          "height": 35
        },
        "id": "2Jqs9cduMBgB",
        "outputId": "37792768-68a0-47e6-d93e-0ba8ebdd087f"
      },
      "execution_count": 56,
      "outputs": [
        {
          "output_type": "execute_result",
          "data": {
            "text/plain": [
              "'Alianz'"
            ],
            "application/vnd.google.colaboratory.intrinsic+json": {
              "type": "string"
            }
          },
          "metadata": {},
          "execution_count": 56
        }
      ]
    },
    {
      "cell_type": "markdown",
      "source": [
        "* class bayad deposit, withdraw, show balance dashte bashe\n",
        "\n",
        "* be in mozoo deghat konin ke agar withdraw anjam bedin az balance bishtar bood, bayad error bede va bege ke nemitoonin in karo anjam bedin.\n"
      ],
      "metadata": {
        "id": "MwBCDKLzK8wM"
      }
    },
    {
      "cell_type": "code",
      "source": [
        "from datetime import datetime"
      ],
      "metadata": {
        "id": "LyZ2OQblLnww"
      },
      "execution_count": 63,
      "outputs": []
    },
    {
      "cell_type": "code",
      "source": [
        "now = datetime.now()"
      ],
      "metadata": {
        "id": "e0HTT23eMevD"
      },
      "execution_count": 65,
      "outputs": []
    },
    {
      "cell_type": "code",
      "source": [
        "formatted_date = now.strftime('%Y-%m-%d')"
      ],
      "metadata": {
        "id": "VuSv9RHgMfoy"
      },
      "execution_count": 66,
      "outputs": []
    },
    {
      "cell_type": "code",
      "source": [
        "formatted_date"
      ],
      "metadata": {
        "colab": {
          "base_uri": "https://localhost:8080/",
          "height": 35
        },
        "id": "A9FpH0FANCj_",
        "outputId": "950391fe-c9bb-471f-d3b5-072849baeefd"
      },
      "execution_count": 67,
      "outputs": [
        {
          "output_type": "execute_result",
          "data": {
            "text/plain": [
              "'2024-02-07'"
            ],
            "application/vnd.google.colaboratory.intrinsic+json": {
              "type": "string"
            }
          },
          "metadata": {},
          "execution_count": 67
        }
      ]
    },
    {
      "cell_type": "code",
      "source": [],
      "metadata": {
        "id": "rNHq0m40ND59"
      },
      "execution_count": null,
      "outputs": []
    }
  ]
}